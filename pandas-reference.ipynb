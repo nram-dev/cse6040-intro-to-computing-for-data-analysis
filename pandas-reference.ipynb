{
 "cells": [
  {
   "cell_type": "markdown",
   "id": "pressed-valuation",
   "metadata": {},
   "source": [
    "# Pandas reference\n",
    "https://learning.oreilly.com/library/view/python-for-data/9781449323592/ch05.html"
   ]
  },
  {
   "cell_type": "code",
   "execution_count": 150,
   "id": "packed-welcome",
   "metadata": {},
   "outputs": [],
   "source": [
    "import pandas as pd\n",
    "import numpy as np\n",
    "import seaborn as sns\n",
    "\n",
    "# For visualization:\n",
    "from matplotlib.pyplot import figure, plot, semilogy, grid, legend\n",
    "%matplotlib inline"
   ]
  },
  {
   "cell_type": "code",
   "execution_count": 85,
   "id": "thousand-appeal",
   "metadata": {},
   "outputs": [],
   "source": [
    "%config IPCompleter.greedy=True"
   ]
  },
  {
   "cell_type": "markdown",
   "id": "coupled-meditation",
   "metadata": {},
   "source": [
    "# Series"
   ]
  },
  {
   "cell_type": "code",
   "execution_count": 86,
   "id": "twelve-therapy",
   "metadata": {},
   "outputs": [
    {
     "output_type": "execute_result",
     "data": {
      "text/plain": [
       "ind\n",
       "a    1\n",
       "b    1\n",
       "c    2\n",
       "d    3\n",
       "e    5\n",
       "f    8\n",
       "Name: fib, dtype: int64"
      ]
     },
     "metadata": {},
     "execution_count": 86
    }
   ],
   "source": [
    "# Series is indexed ndarray.\n",
    "a = pd.Series([1,1,2,3,5,8], index=['a','b','c','d','e','f'])\n",
    "a.name = 'fib'\n",
    "a.index.name = 'ind'\n",
    "a"
   ]
  },
  {
   "cell_type": "code",
   "execution_count": 87,
   "id": "dutch-serbia",
   "metadata": {},
   "outputs": [
    {
     "output_type": "execute_result",
     "data": {
      "text/plain": [
       "ind\n",
       "e    5\n",
       "f    8\n",
       "Name: fib, dtype: int64"
      ]
     },
     "metadata": {},
     "execution_count": 87
    }
   ],
   "source": [
    "a[a>3]"
   ]
  },
  {
   "cell_type": "code",
   "execution_count": 88,
   "id": "affiliated-planning",
   "metadata": {},
   "outputs": [
    {
     "output_type": "execute_result",
     "data": {
      "text/plain": [
       "ind\n",
       "a    1\n",
       "b    1\n",
       "Name: fib, dtype: int64"
      ]
     },
     "metadata": {},
     "execution_count": 88
    }
   ],
   "source": [
    "# can access with index-name instead of index .. BUT WHY ?\n",
    "a[['a','b']]"
   ]
  },
  {
   "cell_type": "code",
   "execution_count": 89,
   "id": "entitled-luther",
   "metadata": {},
   "outputs": [
    {
     "output_type": "execute_result",
     "data": {
      "text/plain": [
       "ind\n",
       "a    False\n",
       "b    False\n",
       "c    False\n",
       "d    False\n",
       "e    False\n",
       "f    False\n",
       "Name: fib, dtype: bool"
      ]
     },
     "metadata": {},
     "execution_count": 89
    }
   ],
   "source": [
    "a.isnull()"
   ]
  },
  {
   "cell_type": "code",
   "execution_count": 90,
   "id": "signal-court",
   "metadata": {},
   "outputs": [],
   "source": [
    "a.index = np.arange(6) # reassign index."
   ]
  },
  {
   "cell_type": "code",
   "execution_count": 91,
   "id": "played-yorkshire",
   "metadata": {},
   "outputs": [
    {
     "output_type": "execute_result",
     "data": {
      "text/plain": [
       "0    1\n",
       "1    1\n",
       "2    2\n",
       "3    3\n",
       "4    5\n",
       "5    8\n",
       "Name: fib, dtype: int64"
      ]
     },
     "metadata": {},
     "execution_count": 91
    }
   ],
   "source": [
    "a"
   ]
  },
  {
   "cell_type": "code",
   "execution_count": 92,
   "id": "minor-acceptance",
   "metadata": {},
   "outputs": [
    {
     "output_type": "stream",
     "name": "stdout",
     "text": [
      "0    1\n1    2\n2    3\ndtype: int64\n<class 'pandas.core.series.Series'>\n0     1\n1    11\n2    21\n3    31\n4    41\n5    51\n6    61\n7    71\n8    81\n9    91\ndtype: int64\n<class 'numpy.ndarray'> [ 1 11 21 31 41 51 61 71 81 91]\n"
     ]
    }
   ],
   "source": [
    "# create series from list/ndarray\n",
    "a = pd.Series([1,2,3])\n",
    "print(a)\n",
    "\n",
    "a = pd.Series(np.arange(1,100,10))\n",
    "print(type(a)); print(a)\n",
    "\n",
    "# get ndarray from series - without index.\n",
    "v = a.values\n",
    "print(type(v), v)"
   ]
  },
  {
   "cell_type": "markdown",
   "id": "opponent-permission",
   "metadata": {},
   "source": [
    "# Dataframe"
   ]
  },
  {
   "cell_type": "code",
   "execution_count": 93,
   "id": "cross-fitness",
   "metadata": {},
   "outputs": [
    {
     "output_type": "stream",
     "name": "stdout",
     "text": [
      "Index(['state', 'year', 'pop'], dtype='object')\n(6, 3)\nrows:  6 cols:  3\n"
     ]
    },
    {
     "output_type": "display_data",
     "data": {
      "text/plain": "    state  year  pop\n0    Ohio  2000  1.5\n1    Ohio  2001  1.7\n2    Ohio  2002  3.6\n3  Nevada  2001  2.4\n4  Nevada  2002  2.9\n5  Nevada  2003  3.2",
      "text/html": "<div>\n<style scoped>\n    .dataframe tbody tr th:only-of-type {\n        vertical-align: middle;\n    }\n\n    .dataframe tbody tr th {\n        vertical-align: top;\n    }\n\n    .dataframe thead th {\n        text-align: right;\n    }\n</style>\n<table border=\"1\" class=\"dataframe\">\n  <thead>\n    <tr style=\"text-align: right;\">\n      <th></th>\n      <th>state</th>\n      <th>year</th>\n      <th>pop</th>\n    </tr>\n  </thead>\n  <tbody>\n    <tr>\n      <th>0</th>\n      <td>Ohio</td>\n      <td>2000</td>\n      <td>1.5</td>\n    </tr>\n    <tr>\n      <th>1</th>\n      <td>Ohio</td>\n      <td>2001</td>\n      <td>1.7</td>\n    </tr>\n    <tr>\n      <th>2</th>\n      <td>Ohio</td>\n      <td>2002</td>\n      <td>3.6</td>\n    </tr>\n    <tr>\n      <th>3</th>\n      <td>Nevada</td>\n      <td>2001</td>\n      <td>2.4</td>\n    </tr>\n    <tr>\n      <th>4</th>\n      <td>Nevada</td>\n      <td>2002</td>\n      <td>2.9</td>\n    </tr>\n    <tr>\n      <th>5</th>\n      <td>Nevada</td>\n      <td>2003</td>\n      <td>3.2</td>\n    </tr>\n  </tbody>\n</table>\n</div>"
     },
     "metadata": {}
    }
   ],
   "source": [
    "# create dataframe from dict\n",
    "d = {'state': ['Ohio', 'Ohio', 'Ohio', 'Nevada', 'Nevada', 'Nevada'],\n",
    "        'year': [2000, 2001, 2002, 2001, 2002, 2003],\n",
    "        'pop': [1.5, 1.7, 3.6, 2.4, 2.9, 3.2]}\n",
    "df = pd.DataFrame(d)\n",
    "print(df.columns)\n",
    "print(df.shape)\n",
    "(nrows, ncols) = df.shape\n",
    "print ('rows: ', nrows, 'cols: ', ncols)\n",
    "display(df)"
   ]
  },
  {
   "cell_type": "code",
   "execution_count": 94,
   "id": "attended-graphic",
   "metadata": {},
   "outputs": [
    {
     "output_type": "stream",
     "name": "stdout",
     "text": [
      "<class 'pandas.core.series.Series'> 0      Ohio\n1      Ohio\n2      Ohio\n3    Nevada\n4    Nevada\n5    Nevada\nName: state, dtype: object\n"
     ]
    }
   ],
   "source": [
    "# each col in DF is Series\n",
    "st = df['state'] # or st.state\n",
    "print(type(st), st)"
   ]
  },
  {
   "cell_type": "code",
   "execution_count": 95,
   "id": "dried-cambodia",
   "metadata": {},
   "outputs": [
    {
     "output_type": "stream",
     "name": "stdout",
     "text": [
      "state    Nevada\nyear       2001\npop         2.4\nName: 3, dtype: object\nOhio Ohio\n"
     ]
    }
   ],
   "source": [
    "# access row by position\n",
    "print (df.loc[3]) # df[3] won't work\n",
    "print (st.loc[2], st[2]) # no need to use loc for series? "
   ]
  },
  {
   "cell_type": "code",
   "execution_count": 96,
   "id": "buried-strategy",
   "metadata": {},
   "outputs": [
    {
     "output_type": "display_data",
     "data": {
      "text/plain": "    State  Year  Population\n0    Ohio  2000         1.5\n1    Ohio  2001         1.7\n2    Ohio  2002         3.6\n3  Nevada  2001         2.4\n4  Nevada  2002         2.9\n5  Nevada  2003         3.2",
      "text/html": "<div>\n<style scoped>\n    .dataframe tbody tr th:only-of-type {\n        vertical-align: middle;\n    }\n\n    .dataframe tbody tr th {\n        vertical-align: top;\n    }\n\n    .dataframe thead th {\n        text-align: right;\n    }\n</style>\n<table border=\"1\" class=\"dataframe\">\n  <thead>\n    <tr style=\"text-align: right;\">\n      <th></th>\n      <th>State</th>\n      <th>Year</th>\n      <th>Population</th>\n    </tr>\n  </thead>\n  <tbody>\n    <tr>\n      <th>0</th>\n      <td>Ohio</td>\n      <td>2000</td>\n      <td>1.5</td>\n    </tr>\n    <tr>\n      <th>1</th>\n      <td>Ohio</td>\n      <td>2001</td>\n      <td>1.7</td>\n    </tr>\n    <tr>\n      <th>2</th>\n      <td>Ohio</td>\n      <td>2002</td>\n      <td>3.6</td>\n    </tr>\n    <tr>\n      <th>3</th>\n      <td>Nevada</td>\n      <td>2001</td>\n      <td>2.4</td>\n    </tr>\n    <tr>\n      <th>4</th>\n      <td>Nevada</td>\n      <td>2002</td>\n      <td>2.9</td>\n    </tr>\n    <tr>\n      <th>5</th>\n      <td>Nevada</td>\n      <td>2003</td>\n      <td>3.2</td>\n    </tr>\n  </tbody>\n</table>\n</div>"
     },
     "metadata": {}
    }
   ],
   "source": [
    "# create DF from arrays -- list of of lists basically\n",
    "a =   [['Ohio', 2000, 1.5],\n",
    "       ['Ohio', 2001, 1.7],\n",
    "       ['Ohio', 2002, 3.6],\n",
    "       ['Nevada', 2001, 2.4],\n",
    "       ['Nevada', 2002, 2.9],\n",
    "       ['Nevada', 2003, 3.2]]\n",
    "df = pd.DataFrame(a, columns = ['State', 'Year', 'Population'])\n",
    "display(df)"
   ]
  },
  {
   "cell_type": "code",
   "execution_count": 97,
   "id": "attractive-fireplace",
   "metadata": {},
   "outputs": [
    {
     "output_type": "stream",
     "name": "stdout",
     "text": [
      "[['Ohio' 2000 1.5]\n ['Ohio' 2001 1.7]\n ['Ohio' 2002 3.6]\n ['Nevada' 2001 2.4]\n ['Nevada' 2002 2.9]\n ['Nevada' 2003 3.2]]\n"
     ]
    }
   ],
   "source": [
    "# get array back\n",
    "print (df.values)"
   ]
  },
  {
   "cell_type": "code",
   "execution_count": 98,
   "id": "august-panic",
   "metadata": {},
   "outputs": [
    {
     "output_type": "display_data",
     "data": {
      "text/plain": "    State  Year  Population\n0    Ohio  2000         1.5\n3  Nevada  2001         2.4\n4  Nevada  2002         2.9\n5  Nevada  2003         3.2",
      "text/html": "<div>\n<style scoped>\n    .dataframe tbody tr th:only-of-type {\n        vertical-align: middle;\n    }\n\n    .dataframe tbody tr th {\n        vertical-align: top;\n    }\n\n    .dataframe thead th {\n        text-align: right;\n    }\n</style>\n<table border=\"1\" class=\"dataframe\">\n  <thead>\n    <tr style=\"text-align: right;\">\n      <th></th>\n      <th>State</th>\n      <th>Year</th>\n      <th>Population</th>\n    </tr>\n  </thead>\n  <tbody>\n    <tr>\n      <th>0</th>\n      <td>Ohio</td>\n      <td>2000</td>\n      <td>1.5</td>\n    </tr>\n    <tr>\n      <th>3</th>\n      <td>Nevada</td>\n      <td>2001</td>\n      <td>2.4</td>\n    </tr>\n    <tr>\n      <th>4</th>\n      <td>Nevada</td>\n      <td>2002</td>\n      <td>2.9</td>\n    </tr>\n    <tr>\n      <th>5</th>\n      <td>Nevada</td>\n      <td>2003</td>\n      <td>3.2</td>\n    </tr>\n  </tbody>\n</table>\n</div>"
     },
     "metadata": {}
    }
   ],
   "source": [
    "# drop some elements in row - note 1 and 2 are missing in the index\n",
    "df1 = df.drop([1,2])\n",
    "display(df1)"
   ]
  },
  {
   "cell_type": "code",
   "execution_count": 99,
   "id": "worthy-business",
   "metadata": {},
   "outputs": [
    {
     "output_type": "display_data",
     "data": {
      "text/plain": "   Year  Population\n0  2000         1.5\n1  2001         1.7\n2  2002         3.6\n3  2001         2.4\n4  2002         2.9\n5  2003         3.2",
      "text/html": "<div>\n<style scoped>\n    .dataframe tbody tr th:only-of-type {\n        vertical-align: middle;\n    }\n\n    .dataframe tbody tr th {\n        vertical-align: top;\n    }\n\n    .dataframe thead th {\n        text-align: right;\n    }\n</style>\n<table border=\"1\" class=\"dataframe\">\n  <thead>\n    <tr style=\"text-align: right;\">\n      <th></th>\n      <th>Year</th>\n      <th>Population</th>\n    </tr>\n  </thead>\n  <tbody>\n    <tr>\n      <th>0</th>\n      <td>2000</td>\n      <td>1.5</td>\n    </tr>\n    <tr>\n      <th>1</th>\n      <td>2001</td>\n      <td>1.7</td>\n    </tr>\n    <tr>\n      <th>2</th>\n      <td>2002</td>\n      <td>3.6</td>\n    </tr>\n    <tr>\n      <th>3</th>\n      <td>2001</td>\n      <td>2.4</td>\n    </tr>\n    <tr>\n      <th>4</th>\n      <td>2002</td>\n      <td>2.9</td>\n    </tr>\n    <tr>\n      <th>5</th>\n      <td>2003</td>\n      <td>3.2</td>\n    </tr>\n  </tbody>\n</table>\n</div>"
     },
     "metadata": {}
    }
   ],
   "source": [
    "# drop a col. Axis 0 is row, 1 is col\n",
    "df2 = df.drop('State', axis=1) # or axis='column'\n",
    "display(df2)"
   ]
  },
  {
   "cell_type": "code",
   "execution_count": 100,
   "id": "instrumental-command",
   "metadata": {},
   "outputs": [
    {
     "output_type": "display_data",
     "data": {
      "text/plain": "    State  Year  Population\n2    Ohio  2002         3.6\n5  Nevada  2003         3.2",
      "text/html": "<div>\n<style scoped>\n    .dataframe tbody tr th:only-of-type {\n        vertical-align: middle;\n    }\n\n    .dataframe tbody tr th {\n        vertical-align: top;\n    }\n\n    .dataframe thead th {\n        text-align: right;\n    }\n</style>\n<table border=\"1\" class=\"dataframe\">\n  <thead>\n    <tr style=\"text-align: right;\">\n      <th></th>\n      <th>State</th>\n      <th>Year</th>\n      <th>Population</th>\n    </tr>\n  </thead>\n  <tbody>\n    <tr>\n      <th>2</th>\n      <td>Ohio</td>\n      <td>2002</td>\n      <td>3.6</td>\n    </tr>\n    <tr>\n      <th>5</th>\n      <td>Nevada</td>\n      <td>2003</td>\n      <td>3.2</td>\n    </tr>\n  </tbody>\n</table>\n</div>"
     },
     "metadata": {}
    },
    {
     "output_type": "stream",
     "name": "stdout",
     "text": [
      "State         Nevada\nYear            2003\nPopulation       3.2\nName: 5, dtype: object\nfilter:  0    False\n1    False\n2    False\n3    False\n4    False\n5     True\ndtype: bool\n"
     ]
    },
    {
     "output_type": "display_data",
     "data": {
      "text/plain": "    State  Year  Population\n5  Nevada  2003         3.2",
      "text/html": "<div>\n<style scoped>\n    .dataframe tbody tr th:only-of-type {\n        vertical-align: middle;\n    }\n\n    .dataframe tbody tr th {\n        vertical-align: top;\n    }\n\n    .dataframe thead th {\n        text-align: right;\n    }\n</style>\n<table border=\"1\" class=\"dataframe\">\n  <thead>\n    <tr style=\"text-align: right;\">\n      <th></th>\n      <th>State</th>\n      <th>Year</th>\n      <th>Population</th>\n    </tr>\n  </thead>\n  <tbody>\n    <tr>\n      <th>5</th>\n      <td>Nevada</td>\n      <td>2003</td>\n      <td>3.2</td>\n    </tr>\n  </tbody>\n</table>\n</div>"
     },
     "metadata": {}
    }
   ],
   "source": [
    "#filtering \n",
    "df1 = df[df.Population>3]\n",
    "display (df1)\n",
    "print(df1.iloc[1]) # integer location. Note that index 5 is in int-index 1.\n",
    "\n",
    "# multiple conditions - may be cleaner to define filter and apply.\n",
    "filt = (df.Year > 2002) & (df.Population > 3)\n",
    "print ('filter: ', filt)\n",
    "df1 = df[filt]\n",
    "display(df1)"
   ]
  },
  {
   "cell_type": "code",
   "execution_count": 18,
   "id": "quick-explosion",
   "metadata": {},
   "outputs": [
    {
     "output_type": "display_data",
     "data": {
      "text/plain": "    State  Year  Population    PopPerc\n0    Ohio  2000         1.5   9.803922\n1    Ohio  2001         1.7  11.111111\n2    Ohio  2002         3.6  23.529412\n3  Nevada  2001         2.4  15.686275\n4  Nevada  2002         2.9  18.954248\n5  Nevada  2003         3.2  20.915033",
      "text/html": "<div>\n<style scoped>\n    .dataframe tbody tr th:only-of-type {\n        vertical-align: middle;\n    }\n\n    .dataframe tbody tr th {\n        vertical-align: top;\n    }\n\n    .dataframe thead th {\n        text-align: right;\n    }\n</style>\n<table border=\"1\" class=\"dataframe\">\n  <thead>\n    <tr style=\"text-align: right;\">\n      <th></th>\n      <th>State</th>\n      <th>Year</th>\n      <th>Population</th>\n      <th>PopPerc</th>\n    </tr>\n  </thead>\n  <tbody>\n    <tr>\n      <th>0</th>\n      <td>Ohio</td>\n      <td>2000</td>\n      <td>1.5</td>\n      <td>9.803922</td>\n    </tr>\n    <tr>\n      <th>1</th>\n      <td>Ohio</td>\n      <td>2001</td>\n      <td>1.7</td>\n      <td>11.111111</td>\n    </tr>\n    <tr>\n      <th>2</th>\n      <td>Ohio</td>\n      <td>2002</td>\n      <td>3.6</td>\n      <td>23.529412</td>\n    </tr>\n    <tr>\n      <th>3</th>\n      <td>Nevada</td>\n      <td>2001</td>\n      <td>2.4</td>\n      <td>15.686275</td>\n    </tr>\n    <tr>\n      <th>4</th>\n      <td>Nevada</td>\n      <td>2002</td>\n      <td>2.9</td>\n      <td>18.954248</td>\n    </tr>\n    <tr>\n      <th>5</th>\n      <td>Nevada</td>\n      <td>2003</td>\n      <td>3.2</td>\n      <td>20.915033</td>\n    </tr>\n  </tbody>\n</table>\n</div>"
     },
     "metadata": {}
    }
   ],
   "source": [
    "# apply\n",
    "df['PopPerc'] = df['Population'].apply(lambda x: 100.0*x/df['Population'].sum() ) # note - this is incorrect %.\n",
    "display(df)"
   ]
  },
  {
   "cell_type": "code",
   "execution_count": 19,
   "id": "weird-elizabeth",
   "metadata": {},
   "outputs": [
    {
     "output_type": "stream",
     "name": "stdout",
     "text": [
      "1.5 3.6 2.5500000000000003\n"
     ]
    }
   ],
   "source": [
    "print (df.Population.min(), df.Population.max(), df.Population.mean())"
   ]
  },
  {
   "cell_type": "markdown",
   "id": "armed-arcade",
   "metadata": {},
   "source": [
    "## File IO"
   ]
  },
  {
   "cell_type": "code",
   "execution_count": 20,
   "id": "conditional-diary",
   "metadata": {},
   "outputs": [
    {
     "output_type": "stream",
     "name": "stdout",
     "text": [
      "(172, 5)\n"
     ]
    },
    {
     "output_type": "display_data",
     "data": {
      "text/plain": "   Season  Episode           Title  Rating  Votes\n0       1        2    The Stakeout     7.8    649\n1       1        3     The Robbery     7.7    565\n2       1        4  Male Unbonding     7.6    561",
      "text/html": "<div>\n<style scoped>\n    .dataframe tbody tr th:only-of-type {\n        vertical-align: middle;\n    }\n\n    .dataframe tbody tr th {\n        vertical-align: top;\n    }\n\n    .dataframe thead th {\n        text-align: right;\n    }\n</style>\n<table border=\"1\" class=\"dataframe\">\n  <thead>\n    <tr style=\"text-align: right;\">\n      <th></th>\n      <th>Season</th>\n      <th>Episode</th>\n      <th>Title</th>\n      <th>Rating</th>\n      <th>Votes</th>\n    </tr>\n  </thead>\n  <tbody>\n    <tr>\n      <th>0</th>\n      <td>1</td>\n      <td>2</td>\n      <td>The Stakeout</td>\n      <td>7.8</td>\n      <td>649</td>\n    </tr>\n    <tr>\n      <th>1</th>\n      <td>1</td>\n      <td>3</td>\n      <td>The Robbery</td>\n      <td>7.7</td>\n      <td>565</td>\n    </tr>\n    <tr>\n      <th>2</th>\n      <td>1</td>\n      <td>4</td>\n      <td>Male Unbonding</td>\n      <td>7.6</td>\n      <td>561</td>\n    </tr>\n  </tbody>\n</table>\n</div>"
     },
     "metadata": {}
    }
   ],
   "source": [
    "seindf = pd.read_csv('~/Dropbox/data/seinfeld/seinfeld.csv')\n",
    "print(seindf.shape)\n",
    "display(seindf.head(3))               "
   ]
  },
  {
   "cell_type": "code",
   "execution_count": 21,
   "id": "drawn-creator",
   "metadata": {},
   "outputs": [
    {
     "output_type": "stream",
     "name": "stdout",
     "text": [
      "Ohio:2000:1.5:9.80392156862745\nOhio:2001:1.7:11.11111111111111\nOhio:2002:3.6:23.52941176470588\nNevada:2001:2.4:15.686274509803921\nNevada:2002:2.9:18.954248366013072\nNevada:2003:3.2:20.915032679738562\n"
     ]
    }
   ],
   "source": [
    "# write to file\n",
    "import sys\n",
    "df.to_csv('~/Dropbox/data/test/test.csv')\n",
    "# print to sceen with custom seperator\n",
    "df.to_csv(sys.stdout, sep=':', index=False, header=False)\n"
   ]
  },
  {
   "cell_type": "code",
   "execution_count": 22,
   "id": "straight-bumper",
   "metadata": {},
   "outputs": [
    {
     "output_type": "stream",
     "name": "stdout",
     "text": [
      "{\"State\":{\"0\":\"Ohio\",\"1\":\"Ohio\",\"2\":\"Ohio\",\"3\":\"Nevada\",\"4\":\"Nevada\",\"5\":\"Nevada\"},\"Year\":{\"0\":2000,\"1\":2001,\"2\":2002,\"3\":2001,\"4\":2002,\"5\":2003},\"Population\":{\"0\":1.5,\"1\":1.7,\"2\":3.6,\"3\":2.4,\"4\":2.9,\"5\":3.2},\"PopPerc\":{\"0\":9.8039215686,\"1\":11.1111111111,\"2\":23.5294117647,\"3\":15.6862745098,\"4\":18.954248366,\"5\":20.9150326797}}"
     ]
    }
   ],
   "source": [
    "df.to_json(sys.stdout)"
   ]
  },
  {
   "cell_type": "markdown",
   "id": "designing-xerox",
   "metadata": {},
   "source": [
    "# merge (again)"
   ]
  },
  {
   "cell_type": "code",
   "execution_count": 82,
   "id": "saved-assets",
   "metadata": {},
   "outputs": [
    {
     "output_type": "stream",
     "name": "stdout",
     "text": [
      "-- dfa --\n"
     ]
    },
    {
     "output_type": "display_data",
     "data": {
      "text/plain": "  A1  A2\n0  a   1\n1  b   2\n2  c   3",
      "text/html": "<div>\n<style scoped>\n    .dataframe tbody tr th:only-of-type {\n        vertical-align: middle;\n    }\n\n    .dataframe tbody tr th {\n        vertical-align: top;\n    }\n\n    .dataframe thead th {\n        text-align: right;\n    }\n</style>\n<table border=\"1\" class=\"dataframe\">\n  <thead>\n    <tr style=\"text-align: right;\">\n      <th></th>\n      <th>A1</th>\n      <th>A2</th>\n    </tr>\n  </thead>\n  <tbody>\n    <tr>\n      <th>0</th>\n      <td>a</td>\n      <td>1</td>\n    </tr>\n    <tr>\n      <th>1</th>\n      <td>b</td>\n      <td>2</td>\n    </tr>\n    <tr>\n      <th>2</th>\n      <td>c</td>\n      <td>3</td>\n    </tr>\n  </tbody>\n</table>\n</div>"
     },
     "metadata": {}
    },
    {
     "output_type": "stream",
     "name": "stdout",
     "text": [
      "-- dfb --\n"
     ]
    },
    {
     "output_type": "display_data",
     "data": {
      "text/plain": "  A1   B2\n0  b  100\n1  c  200\n2  d  300\n3  e  400",
      "text/html": "<div>\n<style scoped>\n    .dataframe tbody tr th:only-of-type {\n        vertical-align: middle;\n    }\n\n    .dataframe tbody tr th {\n        vertical-align: top;\n    }\n\n    .dataframe thead th {\n        text-align: right;\n    }\n</style>\n<table border=\"1\" class=\"dataframe\">\n  <thead>\n    <tr style=\"text-align: right;\">\n      <th></th>\n      <th>A1</th>\n      <th>B2</th>\n    </tr>\n  </thead>\n  <tbody>\n    <tr>\n      <th>0</th>\n      <td>b</td>\n      <td>100</td>\n    </tr>\n    <tr>\n      <th>1</th>\n      <td>c</td>\n      <td>200</td>\n    </tr>\n    <tr>\n      <th>2</th>\n      <td>d</td>\n      <td>300</td>\n    </tr>\n    <tr>\n      <th>3</th>\n      <td>e</td>\n      <td>400</td>\n    </tr>\n  </tbody>\n</table>\n</div>"
     },
     "metadata": {}
    },
    {
     "output_type": "stream",
     "name": "stdout",
     "text": [
      "-- merge (default: inner) --\n"
     ]
    },
    {
     "output_type": "display_data",
     "data": {
      "text/plain": "  A1  A2   B2\n0  b   2  100\n1  c   3  200",
      "text/html": "<div>\n<style scoped>\n    .dataframe tbody tr th:only-of-type {\n        vertical-align: middle;\n    }\n\n    .dataframe tbody tr th {\n        vertical-align: top;\n    }\n\n    .dataframe thead th {\n        text-align: right;\n    }\n</style>\n<table border=\"1\" class=\"dataframe\">\n  <thead>\n    <tr style=\"text-align: right;\">\n      <th></th>\n      <th>A1</th>\n      <th>A2</th>\n      <th>B2</th>\n    </tr>\n  </thead>\n  <tbody>\n    <tr>\n      <th>0</th>\n      <td>b</td>\n      <td>2</td>\n      <td>100</td>\n    </tr>\n    <tr>\n      <th>1</th>\n      <td>c</td>\n      <td>3</td>\n      <td>200</td>\n    </tr>\n  </tbody>\n</table>\n</div>"
     },
     "metadata": {}
    },
    {
     "output_type": "stream",
     "name": "stdout",
     "text": [
      "-- merge left -- \n"
     ]
    },
    {
     "output_type": "display_data",
     "data": {
      "text/plain": "  A1  A2     B2\n0  a   1    NaN\n1  b   2  100.0\n2  c   3  200.0",
      "text/html": "<div>\n<style scoped>\n    .dataframe tbody tr th:only-of-type {\n        vertical-align: middle;\n    }\n\n    .dataframe tbody tr th {\n        vertical-align: top;\n    }\n\n    .dataframe thead th {\n        text-align: right;\n    }\n</style>\n<table border=\"1\" class=\"dataframe\">\n  <thead>\n    <tr style=\"text-align: right;\">\n      <th></th>\n      <th>A1</th>\n      <th>A2</th>\n      <th>B2</th>\n    </tr>\n  </thead>\n  <tbody>\n    <tr>\n      <th>0</th>\n      <td>a</td>\n      <td>1</td>\n      <td>NaN</td>\n    </tr>\n    <tr>\n      <th>1</th>\n      <td>b</td>\n      <td>2</td>\n      <td>100.0</td>\n    </tr>\n    <tr>\n      <th>2</th>\n      <td>c</td>\n      <td>3</td>\n      <td>200.0</td>\n    </tr>\n  </tbody>\n</table>\n</div>"
     },
     "metadata": {}
    },
    {
     "output_type": "stream",
     "name": "stdout",
     "text": [
      "-- merge right --\n"
     ]
    },
    {
     "output_type": "display_data",
     "data": {
      "text/plain": "  A1   A2   B2\n0  b  2.0  100\n1  c  3.0  200\n2  d  NaN  300\n3  e  NaN  400",
      "text/html": "<div>\n<style scoped>\n    .dataframe tbody tr th:only-of-type {\n        vertical-align: middle;\n    }\n\n    .dataframe tbody tr th {\n        vertical-align: top;\n    }\n\n    .dataframe thead th {\n        text-align: right;\n    }\n</style>\n<table border=\"1\" class=\"dataframe\">\n  <thead>\n    <tr style=\"text-align: right;\">\n      <th></th>\n      <th>A1</th>\n      <th>A2</th>\n      <th>B2</th>\n    </tr>\n  </thead>\n  <tbody>\n    <tr>\n      <th>0</th>\n      <td>b</td>\n      <td>2.0</td>\n      <td>100</td>\n    </tr>\n    <tr>\n      <th>1</th>\n      <td>c</td>\n      <td>3.0</td>\n      <td>200</td>\n    </tr>\n    <tr>\n      <th>2</th>\n      <td>d</td>\n      <td>NaN</td>\n      <td>300</td>\n    </tr>\n    <tr>\n      <th>3</th>\n      <td>e</td>\n      <td>NaN</td>\n      <td>400</td>\n    </tr>\n  </tbody>\n</table>\n</div>"
     },
     "metadata": {}
    },
    {
     "output_type": "stream",
     "name": "stdout",
     "text": [
      "-- merge inner ---\n"
     ]
    },
    {
     "output_type": "display_data",
     "data": {
      "text/plain": "  A1  A2   B2\n0  b   2  100\n1  c   3  200",
      "text/html": "<div>\n<style scoped>\n    .dataframe tbody tr th:only-of-type {\n        vertical-align: middle;\n    }\n\n    .dataframe tbody tr th {\n        vertical-align: top;\n    }\n\n    .dataframe thead th {\n        text-align: right;\n    }\n</style>\n<table border=\"1\" class=\"dataframe\">\n  <thead>\n    <tr style=\"text-align: right;\">\n      <th></th>\n      <th>A1</th>\n      <th>A2</th>\n      <th>B2</th>\n    </tr>\n  </thead>\n  <tbody>\n    <tr>\n      <th>0</th>\n      <td>b</td>\n      <td>2</td>\n      <td>100</td>\n    </tr>\n    <tr>\n      <th>1</th>\n      <td>c</td>\n      <td>3</td>\n      <td>200</td>\n    </tr>\n  </tbody>\n</table>\n</div>"
     },
     "metadata": {}
    },
    {
     "output_type": "stream",
     "name": "stdout",
     "text": [
      "-- merge outer ---\n"
     ]
    },
    {
     "output_type": "display_data",
     "data": {
      "text/plain": "  A1   A2     B2\n0  a  1.0    NaN\n1  b  2.0  100.0\n2  c  3.0  200.0\n3  d  NaN  300.0\n4  e  NaN  400.0",
      "text/html": "<div>\n<style scoped>\n    .dataframe tbody tr th:only-of-type {\n        vertical-align: middle;\n    }\n\n    .dataframe tbody tr th {\n        vertical-align: top;\n    }\n\n    .dataframe thead th {\n        text-align: right;\n    }\n</style>\n<table border=\"1\" class=\"dataframe\">\n  <thead>\n    <tr style=\"text-align: right;\">\n      <th></th>\n      <th>A1</th>\n      <th>A2</th>\n      <th>B2</th>\n    </tr>\n  </thead>\n  <tbody>\n    <tr>\n      <th>0</th>\n      <td>a</td>\n      <td>1.0</td>\n      <td>NaN</td>\n    </tr>\n    <tr>\n      <th>1</th>\n      <td>b</td>\n      <td>2.0</td>\n      <td>100.0</td>\n    </tr>\n    <tr>\n      <th>2</th>\n      <td>c</td>\n      <td>3.0</td>\n      <td>200.0</td>\n    </tr>\n    <tr>\n      <th>3</th>\n      <td>d</td>\n      <td>NaN</td>\n      <td>300.0</td>\n    </tr>\n    <tr>\n      <th>4</th>\n      <td>e</td>\n      <td>NaN</td>\n      <td>400.0</td>\n    </tr>\n  </tbody>\n</table>\n</div>"
     },
     "metadata": {}
    },
    {
     "output_type": "display_data",
     "data": {
      "text/plain": "  A1   A2   B2\n0  a  1.0    0\n1  b  2.0  100\n2  c  3.0  200\n3  d  NaN  300\n4  e  NaN  400",
      "text/html": "<div>\n<style scoped>\n    .dataframe tbody tr th:only-of-type {\n        vertical-align: middle;\n    }\n\n    .dataframe tbody tr th {\n        vertical-align: top;\n    }\n\n    .dataframe thead th {\n        text-align: right;\n    }\n</style>\n<table border=\"1\" class=\"dataframe\">\n  <thead>\n    <tr style=\"text-align: right;\">\n      <th></th>\n      <th>A1</th>\n      <th>A2</th>\n      <th>B2</th>\n    </tr>\n  </thead>\n  <tbody>\n    <tr>\n      <th>0</th>\n      <td>a</td>\n      <td>1.0</td>\n      <td>0</td>\n    </tr>\n    <tr>\n      <th>1</th>\n      <td>b</td>\n      <td>2.0</td>\n      <td>100</td>\n    </tr>\n    <tr>\n      <th>2</th>\n      <td>c</td>\n      <td>3.0</td>\n      <td>200</td>\n    </tr>\n    <tr>\n      <th>3</th>\n      <td>d</td>\n      <td>NaN</td>\n      <td>300</td>\n    </tr>\n    <tr>\n      <th>4</th>\n      <td>e</td>\n      <td>NaN</td>\n      <td>400</td>\n    </tr>\n  </tbody>\n</table>\n</div>"
     },
     "metadata": {}
    }
   ],
   "source": [
    "# merging DF on common colounms\n",
    "dfa = pd.DataFrame({'A1': ['a','b','c'],\n",
    "                   'A2' : [1,2,3]})\n",
    "\n",
    "dfb = pd.DataFrame({'A1': ['b','c','d','e'],\n",
    "                   'B2' : [100,200,300,400]})\n",
    "\n",
    "print(\"-- dfa --\")\n",
    "display(dfa)\n",
    "\n",
    "print ('-- dfb --')\n",
    "display(dfb)\n",
    "\n",
    "print ('-- merge (default: inner) --')\n",
    "display(dfa.merge(dfb))\n",
    "\n",
    "print ('-- merge left -- ')\n",
    "display(dfa.merge(dfb,how='left',on='A1'))\n",
    "                  \n",
    "print ('-- merge right --')\n",
    "display(dfa.merge(dfb,how='right',on='A1'))\n",
    "\n",
    "print ('-- merge inner ---')                 \n",
    "display(dfa.merge(dfb,how='inner',on='A1'))\n",
    "\n",
    "print ('-- merge outer ---')                 \n",
    "display(dfa.merge(dfb,how='outer',on='A1'))\n",
    "\n",
    "# Fill NA with values -- use astype() to change dtype\n",
    "dfm = dfa.merge(dfb,how='outer',on='A1')\n",
    "dfm.B2 = dfm.B2.fillna(0).astype(int)\n",
    "display(dfm)"
   ]
  },
  {
   "cell_type": "code",
   "execution_count": 24,
   "id": "neural-slovenia",
   "metadata": {},
   "outputs": [
    {
     "output_type": "execute_result",
     "data": {
      "text/plain": [
       "    A1   A2   B1     B2\n",
       "0    a  1.0  NaN    NaN\n",
       "1    b  2.0    b  100.0\n",
       "2  NaN  NaN    c  200.0"
      ],
      "text/html": "<div>\n<style scoped>\n    .dataframe tbody tr th:only-of-type {\n        vertical-align: middle;\n    }\n\n    .dataframe tbody tr th {\n        vertical-align: top;\n    }\n\n    .dataframe thead th {\n        text-align: right;\n    }\n</style>\n<table border=\"1\" class=\"dataframe\">\n  <thead>\n    <tr style=\"text-align: right;\">\n      <th></th>\n      <th>A1</th>\n      <th>A2</th>\n      <th>B1</th>\n      <th>B2</th>\n    </tr>\n  </thead>\n  <tbody>\n    <tr>\n      <th>0</th>\n      <td>a</td>\n      <td>1.0</td>\n      <td>NaN</td>\n      <td>NaN</td>\n    </tr>\n    <tr>\n      <th>1</th>\n      <td>b</td>\n      <td>2.0</td>\n      <td>b</td>\n      <td>100.0</td>\n    </tr>\n    <tr>\n      <th>2</th>\n      <td>NaN</td>\n      <td>NaN</td>\n      <td>c</td>\n      <td>200.0</td>\n    </tr>\n  </tbody>\n</table>\n</div>"
     },
     "metadata": {},
     "execution_count": 24
    }
   ],
   "source": [
    "dfa = pd.DataFrame({'A1': ['a','b'],\n",
    "                   'A2' : [1,2]})\n",
    "\n",
    "dfb = pd.DataFrame({'B1': ['b','c'],\n",
    "                    'B2' : [100,200]})\n",
    "\n",
    "dfa.merge(dfb, left_on='A1', right_on='B1', how='outer')"
   ]
  },
  {
   "cell_type": "code",
   "execution_count": 25,
   "id": "instant-iraqi",
   "metadata": {},
   "outputs": [
    {
     "output_type": "error",
     "ename": "NameError",
     "evalue": "name 'canonicalize' is not defined",
     "traceback": [
      "\u001b[0;31m---------------------------------------------------------------------------\u001b[0m",
      "\u001b[0;31mNameError\u001b[0m                                 Traceback (most recent call last)",
      "\u001b[0;32m<ipython-input-25-0185363a0e80>\u001b[0m in \u001b[0;36m<module>\u001b[0;34m\u001b[0m\n\u001b[1;32m      5\u001b[0m                     'A2' : [1,3,2]})\n\u001b[1;32m      6\u001b[0m \u001b[0;34m\u001b[0m\u001b[0m\n\u001b[0;32m----> 7\u001b[0;31m \u001b[0mdfb_s\u001b[0m \u001b[0;34m=\u001b[0m \u001b[0mcanonicalize\u001b[0m \u001b[0;34m(\u001b[0m\u001b[0mdfb\u001b[0m\u001b[0;34m)\u001b[0m\u001b[0;34m\u001b[0m\u001b[0;34m\u001b[0m\u001b[0m\n\u001b[0m\u001b[1;32m      8\u001b[0m \u001b[0;34m\u001b[0m\u001b[0m\n\u001b[1;32m      9\u001b[0m \u001b[0mdisplay\u001b[0m\u001b[0;34m(\u001b[0m\u001b[0mdfa\u001b[0m\u001b[0;34m,\u001b[0m \u001b[0mdfb\u001b[0m\u001b[0;34m,\u001b[0m \u001b[0mdfb_s\u001b[0m\u001b[0;34m)\u001b[0m\u001b[0;34m\u001b[0m\u001b[0;34m\u001b[0m\u001b[0m\n",
      "\u001b[0;31mNameError\u001b[0m: name 'canonicalize' is not defined"
     ]
    }
   ],
   "source": [
    "dfa = pd.DataFrame({'A1': ['a','b','c'],\n",
    "                   'A2' : [1,2,3]})\n",
    "\n",
    "dfb = pd.DataFrame({ 'A1': ['a','c','b'],\n",
    "                    'A2' : [1,3,2]})\n",
    "\n",
    "dfb_s = canonicalize (dfb)\n",
    "\n",
    "display(dfa, dfb, dfb_s)\n",
    "#print(v)\n",
    "dfa.equals(dfb)"
   ]
  },
  {
   "source": [
    "## Melting\n"
   ],
   "cell_type": "markdown",
   "metadata": {}
  },
  {
   "cell_type": "code",
   "execution_count": 53,
   "id": "adapted-thanks",
   "metadata": {},
   "outputs": [
    {
     "name": "stdout",
     "output_type": "stream",
     "text": [
      " columns: Index(['A1', 'V2', 'V3', 'V4'], dtype='object')\n",
      " id_vars: ['A1']\n",
      " value_vars: ['V2', 'V3', 'V4']\n"
     ]
    },
    {
     "data": {
      "text/html": [
       "<div>\n",
       "<style scoped>\n",
       "    .dataframe tbody tr th:only-of-type {\n",
       "        vertical-align: middle;\n",
       "    }\n",
       "\n",
       "    .dataframe tbody tr th {\n",
       "        vertical-align: top;\n",
       "    }\n",
       "\n",
       "    .dataframe thead th {\n",
       "        text-align: right;\n",
       "    }\n",
       "</style>\n",
       "<table border=\"1\" class=\"dataframe\">\n",
       "  <thead>\n",
       "    <tr style=\"text-align: right;\">\n",
       "      <th></th>\n",
       "      <th>A1</th>\n",
       "      <th>V2</th>\n",
       "      <th>V3</th>\n",
       "      <th>V4</th>\n",
       "    </tr>\n",
       "  </thead>\n",
       "  <tbody>\n",
       "    <tr>\n",
       "      <th>0</th>\n",
       "      <td>a</td>\n",
       "      <td>1</td>\n",
       "      <td>11</td>\n",
       "      <td>21</td>\n",
       "    </tr>\n",
       "    <tr>\n",
       "      <th>1</th>\n",
       "      <td>b</td>\n",
       "      <td>2</td>\n",
       "      <td>22</td>\n",
       "      <td>22</td>\n",
       "    </tr>\n",
       "    <tr>\n",
       "      <th>2</th>\n",
       "      <td>c</td>\n",
       "      <td>3</td>\n",
       "      <td>33</td>\n",
       "      <td>23</td>\n",
       "    </tr>\n",
       "  </tbody>\n",
       "</table>\n",
       "</div>"
      ],
      "text/plain": [
       "  A1  V2  V3  V4\n",
       "0  a   1  11  21\n",
       "1  b   2  22  22\n",
       "2  c   3  33  23"
      ]
     },
     "metadata": {},
     "output_type": "display_data"
    },
    {
     "data": {
      "text/html": [
       "<div>\n",
       "<style scoped>\n",
       "    .dataframe tbody tr th:only-of-type {\n",
       "        vertical-align: middle;\n",
       "    }\n",
       "\n",
       "    .dataframe tbody tr th {\n",
       "        vertical-align: top;\n",
       "    }\n",
       "\n",
       "    .dataframe thead th {\n",
       "        text-align: right;\n",
       "    }\n",
       "</style>\n",
       "<table border=\"1\" class=\"dataframe\">\n",
       "  <thead>\n",
       "    <tr style=\"text-align: right;\">\n",
       "      <th></th>\n",
       "      <th>A1</th>\n",
       "      <th>VAR</th>\n",
       "      <th>VAL</th>\n",
       "    </tr>\n",
       "  </thead>\n",
       "  <tbody>\n",
       "    <tr>\n",
       "      <th>0</th>\n",
       "      <td>a</td>\n",
       "      <td>V2</td>\n",
       "      <td>1</td>\n",
       "    </tr>\n",
       "    <tr>\n",
       "      <th>1</th>\n",
       "      <td>b</td>\n",
       "      <td>V2</td>\n",
       "      <td>2</td>\n",
       "    </tr>\n",
       "    <tr>\n",
       "      <th>2</th>\n",
       "      <td>c</td>\n",
       "      <td>V2</td>\n",
       "      <td>3</td>\n",
       "    </tr>\n",
       "    <tr>\n",
       "      <th>3</th>\n",
       "      <td>a</td>\n",
       "      <td>V3</td>\n",
       "      <td>11</td>\n",
       "    </tr>\n",
       "    <tr>\n",
       "      <th>4</th>\n",
       "      <td>b</td>\n",
       "      <td>V3</td>\n",
       "      <td>22</td>\n",
       "    </tr>\n",
       "    <tr>\n",
       "      <th>5</th>\n",
       "      <td>c</td>\n",
       "      <td>V3</td>\n",
       "      <td>33</td>\n",
       "    </tr>\n",
       "    <tr>\n",
       "      <th>6</th>\n",
       "      <td>a</td>\n",
       "      <td>V4</td>\n",
       "      <td>21</td>\n",
       "    </tr>\n",
       "    <tr>\n",
       "      <th>7</th>\n",
       "      <td>b</td>\n",
       "      <td>V4</td>\n",
       "      <td>22</td>\n",
       "    </tr>\n",
       "    <tr>\n",
       "      <th>8</th>\n",
       "      <td>c</td>\n",
       "      <td>V4</td>\n",
       "      <td>23</td>\n",
       "    </tr>\n",
       "  </tbody>\n",
       "</table>\n",
       "</div>"
      ],
      "text/plain": [
       "  A1 VAR  VAL\n",
       "0  a  V2    1\n",
       "1  b  V2    2\n",
       "2  c  V2    3\n",
       "3  a  V3   11\n",
       "4  b  V3   22\n",
       "5  c  V3   33\n",
       "6  a  V4   21\n",
       "7  b  V4   22\n",
       "8  c  V4   23"
      ]
     },
     "metadata": {},
     "output_type": "display_data"
    }
   ],
   "source": [
    "# melting DF - make wide -> narrow\n",
    "df_w = pd.DataFrame({'A1': ['a','b','c'],\n",
    "                   'V2' : [1,2,3],\n",
    "                   'V3' : [11,22,33],\n",
    "                   'V4': [21,22,23]})\n",
    "\n",
    "c = df_w.columns\n",
    "cl = list(c)\n",
    "v = ['V2','V3','V4']\n",
    "[ cl.remove(x) for x in v ] \n",
    "print (f' columns: {c}\\n id_vars: {cl}\\n value_vars: {v}')\n",
    "\n",
    "df_n = df_w.melt(id_vars=cl,\n",
    "                value_vars = v,\n",
    "                var_name='VAR',\n",
    "                value_name='VAL')\n",
    "\n",
    "display(df_w, df_n)"
   ]
  },
  {
   "cell_type": "code",
   "execution_count": 54,
   "id": "dominican-editing",
   "metadata": {},
   "outputs": [
    {
     "data": {
      "text/html": [
       "<div>\n",
       "<style scoped>\n",
       "    .dataframe tbody tr th:only-of-type {\n",
       "        vertical-align: middle;\n",
       "    }\n",
       "\n",
       "    .dataframe tbody tr th {\n",
       "        vertical-align: top;\n",
       "    }\n",
       "\n",
       "    .dataframe thead th {\n",
       "        text-align: right;\n",
       "    }\n",
       "</style>\n",
       "<table border=\"1\" class=\"dataframe\">\n",
       "  <thead>\n",
       "    <tr style=\"text-align: right;\">\n",
       "      <th></th>\n",
       "      <th>total_bill</th>\n",
       "      <th>tip</th>\n",
       "      <th>sex</th>\n",
       "      <th>smoker</th>\n",
       "      <th>day</th>\n",
       "      <th>time</th>\n",
       "      <th>size</th>\n",
       "    </tr>\n",
       "  </thead>\n",
       "  <tbody>\n",
       "    <tr>\n",
       "      <th>0</th>\n",
       "      <td>16.99</td>\n",
       "      <td>1.01</td>\n",
       "      <td>Female</td>\n",
       "      <td>No</td>\n",
       "      <td>Sun</td>\n",
       "      <td>Dinner</td>\n",
       "      <td>2</td>\n",
       "    </tr>\n",
       "    <tr>\n",
       "      <th>1</th>\n",
       "      <td>10.34</td>\n",
       "      <td>1.66</td>\n",
       "      <td>Male</td>\n",
       "      <td>No</td>\n",
       "      <td>Sun</td>\n",
       "      <td>Dinner</td>\n",
       "      <td>3</td>\n",
       "    </tr>\n",
       "    <tr>\n",
       "      <th>2</th>\n",
       "      <td>21.01</td>\n",
       "      <td>3.50</td>\n",
       "      <td>Male</td>\n",
       "      <td>No</td>\n",
       "      <td>Sun</td>\n",
       "      <td>Dinner</td>\n",
       "      <td>3</td>\n",
       "    </tr>\n",
       "  </tbody>\n",
       "</table>\n",
       "</div>"
      ],
      "text/plain": [
       "   total_bill   tip     sex smoker  day    time  size\n",
       "0       16.99  1.01  Female     No  Sun  Dinner     2\n",
       "1       10.34  1.66    Male     No  Sun  Dinner     3\n",
       "2       21.01  3.50    Male     No  Sun  Dinner     3"
      ]
     },
     "execution_count": 54,
     "metadata": {},
     "output_type": "execute_result"
    }
   ],
   "source": [
    "#from \n",
    "#https://www.youtube.com/watch?v=kJsiiPK5sxs\n",
    "#https://github.com/knathanieltucker/pandas-tutorial/blob/master/notebooks/Row-Column%20Transformations.ipynb\n",
    "    \n",
    "tips = sns.load_dataset('tips')\n",
    "tips.head(3)"
   ]
  },
  {
   "source": [
    "## Group by"
   ],
   "cell_type": "markdown",
   "metadata": {}
  },
  {
   "cell_type": "code",
   "execution_count": 55,
   "id": "independent-training",
   "metadata": {},
   "outputs": [
    {
     "data": {
      "text/html": [
       "<div>\n",
       "<style scoped>\n",
       "    .dataframe tbody tr th:only-of-type {\n",
       "        vertical-align: middle;\n",
       "    }\n",
       "\n",
       "    .dataframe tbody tr th {\n",
       "        vertical-align: top;\n",
       "    }\n",
       "\n",
       "    .dataframe thead th {\n",
       "        text-align: right;\n",
       "    }\n",
       "</style>\n",
       "<table border=\"1\" class=\"dataframe\">\n",
       "  <thead>\n",
       "    <tr style=\"text-align: right;\">\n",
       "      <th></th>\n",
       "      <th></th>\n",
       "      <th>size</th>\n",
       "    </tr>\n",
       "    <tr>\n",
       "      <th>day</th>\n",
       "      <th>sex</th>\n",
       "      <th></th>\n",
       "    </tr>\n",
       "  </thead>\n",
       "  <tbody>\n",
       "    <tr>\n",
       "      <th rowspan=\"2\" valign=\"top\">Thur</th>\n",
       "      <th>Male</th>\n",
       "      <td>73</td>\n",
       "    </tr>\n",
       "    <tr>\n",
       "      <th>Female</th>\n",
       "      <td>79</td>\n",
       "    </tr>\n",
       "    <tr>\n",
       "      <th rowspan=\"2\" valign=\"top\">Fri</th>\n",
       "      <th>Male</th>\n",
       "      <td>21</td>\n",
       "    </tr>\n",
       "    <tr>\n",
       "      <th>Female</th>\n",
       "      <td>19</td>\n",
       "    </tr>\n",
       "    <tr>\n",
       "      <th rowspan=\"2\" valign=\"top\">Sat</th>\n",
       "      <th>Male</th>\n",
       "      <td>156</td>\n",
       "    </tr>\n",
       "    <tr>\n",
       "      <th>Female</th>\n",
       "      <td>63</td>\n",
       "    </tr>\n",
       "    <tr>\n",
       "      <th rowspan=\"2\" valign=\"top\">Sun</th>\n",
       "      <th>Male</th>\n",
       "      <td>163</td>\n",
       "    </tr>\n",
       "    <tr>\n",
       "      <th>Female</th>\n",
       "      <td>53</td>\n",
       "    </tr>\n",
       "  </tbody>\n",
       "</table>\n",
       "</div>"
      ],
      "text/plain": [
       "             size\n",
       "day  sex         \n",
       "Thur Male      73\n",
       "     Female    79\n",
       "Fri  Male      21\n",
       "     Female    19\n",
       "Sat  Male     156\n",
       "     Female    63\n",
       "Sun  Male     163\n",
       "     Female    53"
      ]
     },
     "execution_count": 55,
     "metadata": {},
     "output_type": "execute_result"
    }
   ],
   "source": [
    "tips_gb = tips.groupby(['day', 'sex']).agg({'size' : 'sum'})\n",
    "tips_gb"
   ]
  },
  {
   "cell_type": "code",
   "execution_count": 56,
   "id": "unavailable-serve",
   "metadata": {
    "scrolled": true
   },
   "outputs": [
    {
     "data": {
      "text/html": [
       "<div>\n",
       "<style scoped>\n",
       "    .dataframe tbody tr th:only-of-type {\n",
       "        vertical-align: middle;\n",
       "    }\n",
       "\n",
       "    .dataframe tbody tr th {\n",
       "        vertical-align: top;\n",
       "    }\n",
       "\n",
       "    .dataframe thead tr th {\n",
       "        text-align: left;\n",
       "    }\n",
       "\n",
       "    .dataframe thead tr:last-of-type th {\n",
       "        text-align: right;\n",
       "    }\n",
       "</style>\n",
       "<table border=\"1\" class=\"dataframe\">\n",
       "  <thead>\n",
       "    <tr>\n",
       "      <th></th>\n",
       "      <th colspan=\"2\" halign=\"left\">size</th>\n",
       "    </tr>\n",
       "    <tr>\n",
       "      <th>sex</th>\n",
       "      <th>Male</th>\n",
       "      <th>Female</th>\n",
       "    </tr>\n",
       "    <tr>\n",
       "      <th>day</th>\n",
       "      <th></th>\n",
       "      <th></th>\n",
       "    </tr>\n",
       "  </thead>\n",
       "  <tbody>\n",
       "    <tr>\n",
       "      <th>Thur</th>\n",
       "      <td>73</td>\n",
       "      <td>79</td>\n",
       "    </tr>\n",
       "    <tr>\n",
       "      <th>Fri</th>\n",
       "      <td>21</td>\n",
       "      <td>19</td>\n",
       "    </tr>\n",
       "    <tr>\n",
       "      <th>Sat</th>\n",
       "      <td>156</td>\n",
       "      <td>63</td>\n",
       "    </tr>\n",
       "    <tr>\n",
       "      <th>Sun</th>\n",
       "      <td>163</td>\n",
       "      <td>53</td>\n",
       "    </tr>\n",
       "  </tbody>\n",
       "</table>\n",
       "</div>"
      ],
      "text/plain": [
       "     size       \n",
       "sex  Male Female\n",
       "day             \n",
       "Thur   73     79\n",
       "Fri    21     19\n",
       "Sat   156     63\n",
       "Sun   163     53"
      ]
     },
     "execution_count": 56,
     "metadata": {},
     "output_type": "execute_result"
    }
   ],
   "source": [
    "#tibs_gb2 = tips_gb.pivot(columns=['sex'], values='size')\n",
    "#tips_gb2\n",
    "tips_gb1 = tips_gb.unstack()\n",
    "tips_gb1\n",
    "#tips_gb1['size', 'Male'] <-- access multi index col."
   ]
  },
  {
   "cell_type": "code",
   "execution_count": 57,
   "id": "seven-possession",
   "metadata": {},
   "outputs": [
    {
     "data": {
      "text/html": [
       "<div>\n",
       "<style scoped>\n",
       "    .dataframe tbody tr th:only-of-type {\n",
       "        vertical-align: middle;\n",
       "    }\n",
       "\n",
       "    .dataframe tbody tr th {\n",
       "        vertical-align: top;\n",
       "    }\n",
       "\n",
       "    .dataframe thead th {\n",
       "        text-align: right;\n",
       "    }\n",
       "</style>\n",
       "<table border=\"1\" class=\"dataframe\">\n",
       "  <thead>\n",
       "    <tr style=\"text-align: right;\">\n",
       "      <th></th>\n",
       "      <th>size__Male</th>\n",
       "      <th>size__Female</th>\n",
       "    </tr>\n",
       "    <tr>\n",
       "      <th>day</th>\n",
       "      <th></th>\n",
       "      <th></th>\n",
       "    </tr>\n",
       "  </thead>\n",
       "  <tbody>\n",
       "    <tr>\n",
       "      <th>Thur</th>\n",
       "      <td>73</td>\n",
       "      <td>79</td>\n",
       "    </tr>\n",
       "    <tr>\n",
       "      <th>Fri</th>\n",
       "      <td>21</td>\n",
       "      <td>19</td>\n",
       "    </tr>\n",
       "    <tr>\n",
       "      <th>Sat</th>\n",
       "      <td>156</td>\n",
       "      <td>63</td>\n",
       "    </tr>\n",
       "    <tr>\n",
       "      <th>Sun</th>\n",
       "      <td>163</td>\n",
       "      <td>53</td>\n",
       "    </tr>\n",
       "  </tbody>\n",
       "</table>\n",
       "</div>"
      ],
      "text/plain": [
       "      size__Male  size__Female\n",
       "day                           \n",
       "Thur          73            79\n",
       "Fri           21            19\n",
       "Sat          156            63\n",
       "Sun          163            53"
      ]
     },
     "execution_count": 57,
     "metadata": {},
     "output_type": "execute_result"
    }
   ],
   "source": [
    "# flatten multi index col names \n",
    "tips_gb1.columns = ['__'.join(col).strip() for col in tips_gb1.columns.values]\n",
    "tips_gb1"
   ]
  },
  {
   "cell_type": "code",
   "execution_count": 58,
   "id": "tough-hurricane",
   "metadata": {},
   "outputs": [
    {
     "data": {
      "text/html": [
       "<div>\n",
       "<style scoped>\n",
       "    .dataframe tbody tr th:only-of-type {\n",
       "        vertical-align: middle;\n",
       "    }\n",
       "\n",
       "    .dataframe tbody tr th {\n",
       "        vertical-align: top;\n",
       "    }\n",
       "\n",
       "    .dataframe thead th {\n",
       "        text-align: right;\n",
       "    }\n",
       "</style>\n",
       "<table border=\"1\" class=\"dataframe\">\n",
       "  <thead>\n",
       "    <tr style=\"text-align: right;\">\n",
       "      <th></th>\n",
       "      <th>size__Male</th>\n",
       "      <th>size__Female</th>\n",
       "      <th>mf_ratio</th>\n",
       "    </tr>\n",
       "    <tr>\n",
       "      <th>day</th>\n",
       "      <th></th>\n",
       "      <th></th>\n",
       "      <th></th>\n",
       "    </tr>\n",
       "  </thead>\n",
       "  <tbody>\n",
       "    <tr>\n",
       "      <th>Thur</th>\n",
       "      <td>73</td>\n",
       "      <td>79</td>\n",
       "      <td>0.924051</td>\n",
       "    </tr>\n",
       "    <tr>\n",
       "      <th>Fri</th>\n",
       "      <td>21</td>\n",
       "      <td>19</td>\n",
       "      <td>1.105263</td>\n",
       "    </tr>\n",
       "    <tr>\n",
       "      <th>Sat</th>\n",
       "      <td>156</td>\n",
       "      <td>63</td>\n",
       "      <td>2.476190</td>\n",
       "    </tr>\n",
       "    <tr>\n",
       "      <th>Sun</th>\n",
       "      <td>163</td>\n",
       "      <td>53</td>\n",
       "      <td>3.075472</td>\n",
       "    </tr>\n",
       "  </tbody>\n",
       "</table>\n",
       "</div>"
      ],
      "text/plain": [
       "      size__Male  size__Female  mf_ratio\n",
       "day                                     \n",
       "Thur          73            79  0.924051\n",
       "Fri           21            19  1.105263\n",
       "Sat          156            63  2.476190\n",
       "Sun          163            53  3.075472"
      ]
     },
     "execution_count": 58,
     "metadata": {},
     "output_type": "execute_result"
    }
   ],
   "source": [
    "tips_gb1['mf_ratio'] = tips_gb1.size__Male / tips_gb1.size__Female\n",
    "tips_gb1"
   ]
  },
  {
   "cell_type": "code",
   "execution_count": 59,
   "id": "coral-blues",
   "metadata": {},
   "outputs": [
    {
     "data": {
      "text/html": [
       "<div>\n",
       "<style scoped>\n",
       "    .dataframe tbody tr th:only-of-type {\n",
       "        vertical-align: middle;\n",
       "    }\n",
       "\n",
       "    .dataframe tbody tr th {\n",
       "        vertical-align: top;\n",
       "    }\n",
       "\n",
       "    .dataframe thead tr th {\n",
       "        text-align: left;\n",
       "    }\n",
       "\n",
       "    .dataframe thead tr:last-of-type th {\n",
       "        text-align: right;\n",
       "    }\n",
       "</style>\n",
       "<table border=\"1\" class=\"dataframe\">\n",
       "  <thead>\n",
       "    <tr>\n",
       "      <th></th>\n",
       "      <th colspan=\"4\" halign=\"left\">size</th>\n",
       "    </tr>\n",
       "    <tr>\n",
       "      <th>day</th>\n",
       "      <th>Thur</th>\n",
       "      <th>Fri</th>\n",
       "      <th>Sat</th>\n",
       "      <th>Sun</th>\n",
       "    </tr>\n",
       "    <tr>\n",
       "      <th>sex</th>\n",
       "      <th></th>\n",
       "      <th></th>\n",
       "      <th></th>\n",
       "      <th></th>\n",
       "    </tr>\n",
       "  </thead>\n",
       "  <tbody>\n",
       "    <tr>\n",
       "      <th>Male</th>\n",
       "      <td>73</td>\n",
       "      <td>21</td>\n",
       "      <td>156</td>\n",
       "      <td>163</td>\n",
       "    </tr>\n",
       "    <tr>\n",
       "      <th>Female</th>\n",
       "      <td>79</td>\n",
       "      <td>19</td>\n",
       "      <td>63</td>\n",
       "      <td>53</td>\n",
       "    </tr>\n",
       "  </tbody>\n",
       "</table>\n",
       "</div>"
      ],
      "text/plain": [
       "       size              \n",
       "day    Thur Fri  Sat  Sun\n",
       "sex                      \n",
       "Male     73  21  156  163\n",
       "Female   79  19   63   53"
      ]
     },
     "execution_count": 59,
     "metadata": {},
     "output_type": "execute_result"
    }
   ],
   "source": [
    "tips_gb2 = tips_gb.unstack(0)\n",
    "tips_gb2"
   ]
  },
  {
   "cell_type": "code",
   "execution_count": 60,
   "id": "scheduled-linux",
   "metadata": {},
   "outputs": [
    {
     "data": {
      "text/html": [
       "<div>\n",
       "<style scoped>\n",
       "    .dataframe tbody tr th:only-of-type {\n",
       "        vertical-align: middle;\n",
       "    }\n",
       "\n",
       "    .dataframe tbody tr th {\n",
       "        vertical-align: top;\n",
       "    }\n",
       "\n",
       "    .dataframe thead th {\n",
       "        text-align: right;\n",
       "    }\n",
       "</style>\n",
       "<table border=\"1\" class=\"dataframe\">\n",
       "  <thead>\n",
       "    <tr style=\"text-align: right;\">\n",
       "      <th></th>\n",
       "      <th>size__Thur</th>\n",
       "      <th>size__Fri</th>\n",
       "      <th>size__Sat</th>\n",
       "      <th>size__Sun</th>\n",
       "    </tr>\n",
       "    <tr>\n",
       "      <th>sex</th>\n",
       "      <th></th>\n",
       "      <th></th>\n",
       "      <th></th>\n",
       "      <th></th>\n",
       "    </tr>\n",
       "  </thead>\n",
       "  <tbody>\n",
       "    <tr>\n",
       "      <th>Male</th>\n",
       "      <td>73</td>\n",
       "      <td>21</td>\n",
       "      <td>156</td>\n",
       "      <td>163</td>\n",
       "    </tr>\n",
       "    <tr>\n",
       "      <th>Female</th>\n",
       "      <td>79</td>\n",
       "      <td>19</td>\n",
       "      <td>63</td>\n",
       "      <td>53</td>\n",
       "    </tr>\n",
       "  </tbody>\n",
       "</table>\n",
       "</div>"
      ],
      "text/plain": [
       "        size__Thur  size__Fri  size__Sat  size__Sun\n",
       "sex                                                \n",
       "Male            73         21        156        163\n",
       "Female          79         19         63         53"
      ]
     },
     "execution_count": 60,
     "metadata": {},
     "output_type": "execute_result"
    }
   ],
   "source": [
    "tips_gb2.columns = ['__'.join(col).strip() for col in tips_gb2.columns.values]\n",
    "tips_gb2"
   ]
  },
  {
   "cell_type": "code",
   "execution_count": 61,
   "id": "dominican-domain",
   "metadata": {},
   "outputs": [
    {
     "data": {
      "text/html": [
       "<div>\n",
       "<style scoped>\n",
       "    .dataframe tbody tr th:only-of-type {\n",
       "        vertical-align: middle;\n",
       "    }\n",
       "\n",
       "    .dataframe tbody tr th {\n",
       "        vertical-align: top;\n",
       "    }\n",
       "\n",
       "    .dataframe thead th {\n",
       "        text-align: right;\n",
       "    }\n",
       "</style>\n",
       "<table border=\"1\" class=\"dataframe\">\n",
       "  <thead>\n",
       "    <tr style=\"text-align: right;\">\n",
       "      <th></th>\n",
       "      <th>first</th>\n",
       "      <th>last</th>\n",
       "      <th>height</th>\n",
       "      <th>weight</th>\n",
       "    </tr>\n",
       "  </thead>\n",
       "  <tbody>\n",
       "    <tr>\n",
       "      <th>0</th>\n",
       "      <td>John</td>\n",
       "      <td>Doe</td>\n",
       "      <td>5.5</td>\n",
       "      <td>130</td>\n",
       "    </tr>\n",
       "    <tr>\n",
       "      <th>1</th>\n",
       "      <td>Mary</td>\n",
       "      <td>Bo</td>\n",
       "      <td>6.0</td>\n",
       "      <td>150</td>\n",
       "    </tr>\n",
       "  </tbody>\n",
       "</table>\n",
       "</div>"
      ],
      "text/plain": [
       "  first last  height  weight\n",
       "0  John  Doe     5.5     130\n",
       "1  Mary   Bo     6.0     150"
      ]
     },
     "execution_count": 61,
     "metadata": {},
     "output_type": "execute_result"
    }
   ],
   "source": [
    "df1 = pd.DataFrame({'first': ['John', 'Mary'],\n",
    "                        'last': ['Doe', 'Bo'],\n",
    "                        'height': [5.5, 6.0],\n",
    "                        'weight': [130, 150]})\n",
    "df1"
   ]
  },
  {
   "cell_type": "code",
   "execution_count": 62,
   "id": "interpreted-spain",
   "metadata": {},
   "outputs": [
    {
     "data": {
      "text/html": [
       "<div>\n",
       "<style scoped>\n",
       "    .dataframe tbody tr th:only-of-type {\n",
       "        vertical-align: middle;\n",
       "    }\n",
       "\n",
       "    .dataframe tbody tr th {\n",
       "        vertical-align: top;\n",
       "    }\n",
       "\n",
       "    .dataframe thead th {\n",
       "        text-align: right;\n",
       "    }\n",
       "</style>\n",
       "<table border=\"1\" class=\"dataframe\">\n",
       "  <thead>\n",
       "    <tr style=\"text-align: right;\">\n",
       "      <th></th>\n",
       "      <th>first</th>\n",
       "      <th>last</th>\n",
       "      <th>variable</th>\n",
       "      <th>value</th>\n",
       "    </tr>\n",
       "  </thead>\n",
       "  <tbody>\n",
       "    <tr>\n",
       "      <th>0</th>\n",
       "      <td>John</td>\n",
       "      <td>Doe</td>\n",
       "      <td>height</td>\n",
       "      <td>5.5</td>\n",
       "    </tr>\n",
       "    <tr>\n",
       "      <th>1</th>\n",
       "      <td>Mary</td>\n",
       "      <td>Bo</td>\n",
       "      <td>height</td>\n",
       "      <td>6.0</td>\n",
       "    </tr>\n",
       "    <tr>\n",
       "      <th>2</th>\n",
       "      <td>John</td>\n",
       "      <td>Doe</td>\n",
       "      <td>weight</td>\n",
       "      <td>130.0</td>\n",
       "    </tr>\n",
       "    <tr>\n",
       "      <th>3</th>\n",
       "      <td>Mary</td>\n",
       "      <td>Bo</td>\n",
       "      <td>weight</td>\n",
       "      <td>150.0</td>\n",
       "    </tr>\n",
       "  </tbody>\n",
       "</table>\n",
       "</div>"
      ],
      "text/plain": [
       "  first last variable  value\n",
       "0  John  Doe   height    5.5\n",
       "1  Mary   Bo   height    6.0\n",
       "2  John  Doe   weight  130.0\n",
       "3  Mary   Bo   weight  150.0"
      ]
     },
     "execution_count": 62,
     "metadata": {},
     "output_type": "execute_result"
    }
   ],
   "source": [
    "# melting can be done with stacking\n",
    "df1.melt(id_vars=['first', 'last'])"
   ]
  },
  {
   "cell_type": "code",
   "execution_count": 63,
   "id": "about-shirt",
   "metadata": {},
   "outputs": [
    {
     "data": {
      "text/html": [
       "<div>\n",
       "<style scoped>\n",
       "    .dataframe tbody tr th:only-of-type {\n",
       "        vertical-align: middle;\n",
       "    }\n",
       "\n",
       "    .dataframe tbody tr th {\n",
       "        vertical-align: top;\n",
       "    }\n",
       "\n",
       "    .dataframe thead th {\n",
       "        text-align: right;\n",
       "    }\n",
       "</style>\n",
       "<table border=\"1\" class=\"dataframe\">\n",
       "  <thead>\n",
       "    <tr style=\"text-align: right;\">\n",
       "      <th></th>\n",
       "      <th>first</th>\n",
       "      <th>last</th>\n",
       "      <th>level_2</th>\n",
       "      <th>0</th>\n",
       "    </tr>\n",
       "  </thead>\n",
       "  <tbody>\n",
       "    <tr>\n",
       "      <th>0</th>\n",
       "      <td>John</td>\n",
       "      <td>Doe</td>\n",
       "      <td>height</td>\n",
       "      <td>5.5</td>\n",
       "    </tr>\n",
       "    <tr>\n",
       "      <th>1</th>\n",
       "      <td>John</td>\n",
       "      <td>Doe</td>\n",
       "      <td>weight</td>\n",
       "      <td>130.0</td>\n",
       "    </tr>\n",
       "    <tr>\n",
       "      <th>2</th>\n",
       "      <td>Mary</td>\n",
       "      <td>Bo</td>\n",
       "      <td>height</td>\n",
       "      <td>6.0</td>\n",
       "    </tr>\n",
       "    <tr>\n",
       "      <th>3</th>\n",
       "      <td>Mary</td>\n",
       "      <td>Bo</td>\n",
       "      <td>weight</td>\n",
       "      <td>150.0</td>\n",
       "    </tr>\n",
       "  </tbody>\n",
       "</table>\n",
       "</div>"
      ],
      "text/plain": [
       "  first last level_2      0\n",
       "0  John  Doe  height    5.5\n",
       "1  John  Doe  weight  130.0\n",
       "2  Mary   Bo  height    6.0\n",
       "3  Mary   Bo  weight  150.0"
      ]
     },
     "execution_count": 63,
     "metadata": {},
     "output_type": "execute_result"
    }
   ],
   "source": [
    "#samething with stack\n",
    "df1.set_index(['first', 'last'], inplace=True)\n",
    "df1.stack().reset_index()"
   ]
  },
  {
   "cell_type": "code",
   "execution_count": 64,
   "id": "special-dictionary",
   "metadata": {},
   "outputs": [],
   "source": [
    "def filterdata(data, low, high):\n",
    "    ###\n",
    "    ### YOUR CODE HERE\n",
    "    ###\n",
    "    df = pd.DataFrame(data, columns=['price', 'city'])\n",
    "    # multiple conditions. (condition1) & (condition)\n",
    "    df1 = df[(df['price'] >= low) & (df['price'] <= high)]\n",
    "    \n",
    "    # convert df to list\n",
    "    o = df1.values.tolist()\n",
    "    print (f'ret {len(o)} results')\n",
    "    \n",
    "    #print (o[0:10])\n",
    "    #print('values', df1.values.tolist())\n",
    "    return (o)"
   ]
  },
  {
   "cell_type": "code",
   "execution_count": 78,
   "id": "bored-croatia",
   "metadata": {},
   "outputs": [
    {
     "name": "stdout",
     "output_type": "stream",
     "text": [
      "--- dataframe\n",
      "(3, 2)\n"
     ]
    },
    {
     "data": {
      "text/html": [
       "<div>\n",
       "<style scoped>\n",
       "    .dataframe tbody tr th:only-of-type {\n",
       "        vertical-align: middle;\n",
       "    }\n",
       "\n",
       "    .dataframe tbody tr th {\n",
       "        vertical-align: top;\n",
       "    }\n",
       "\n",
       "    .dataframe thead th {\n",
       "        text-align: right;\n",
       "    }\n",
       "</style>\n",
       "<table border=\"1\" class=\"dataframe\">\n",
       "  <thead>\n",
       "    <tr style=\"text-align: right;\">\n",
       "      <th></th>\n",
       "      <th>A</th>\n",
       "      <th>B</th>\n",
       "    </tr>\n",
       "  </thead>\n",
       "  <tbody>\n",
       "    <tr>\n",
       "      <th>0</th>\n",
       "      <td>1</td>\n",
       "      <td>2</td>\n",
       "    </tr>\n",
       "    <tr>\n",
       "      <th>1</th>\n",
       "      <td>3</td>\n",
       "      <td>4</td>\n",
       "    </tr>\n",
       "    <tr>\n",
       "      <th>2</th>\n",
       "      <td>4</td>\n",
       "      <td>5</td>\n",
       "    </tr>\n",
       "  </tbody>\n",
       "</table>\n",
       "</div>"
      ],
      "text/plain": [
       "   A  B\n",
       "0  1  2\n",
       "1  3  4\n",
       "2  4  5"
      ]
     },
     "metadata": {},
     "output_type": "display_data"
    },
    {
     "name": "stdout",
     "output_type": "stream",
     "text": [
      "adding [10, 11]\n",
      "-- modified dataframe\n",
      "(4, 2)\n"
     ]
    },
    {
     "data": {
      "text/html": [
       "<div>\n",
       "<style scoped>\n",
       "    .dataframe tbody tr th:only-of-type {\n",
       "        vertical-align: middle;\n",
       "    }\n",
       "\n",
       "    .dataframe tbody tr th {\n",
       "        vertical-align: top;\n",
       "    }\n",
       "\n",
       "    .dataframe thead th {\n",
       "        text-align: right;\n",
       "    }\n",
       "</style>\n",
       "<table border=\"1\" class=\"dataframe\">\n",
       "  <thead>\n",
       "    <tr style=\"text-align: right;\">\n",
       "      <th></th>\n",
       "      <th>A</th>\n",
       "      <th>B</th>\n",
       "    </tr>\n",
       "  </thead>\n",
       "  <tbody>\n",
       "    <tr>\n",
       "      <th>0</th>\n",
       "      <td>1</td>\n",
       "      <td>2</td>\n",
       "    </tr>\n",
       "    <tr>\n",
       "      <th>1</th>\n",
       "      <td>3</td>\n",
       "      <td>4</td>\n",
       "    </tr>\n",
       "    <tr>\n",
       "      <th>2</th>\n",
       "      <td>4</td>\n",
       "      <td>5</td>\n",
       "    </tr>\n",
       "    <tr>\n",
       "      <th>3</th>\n",
       "      <td>10</td>\n",
       "      <td>11</td>\n",
       "    </tr>\n",
       "  </tbody>\n",
       "</table>\n",
       "</div>"
      ],
      "text/plain": [
       "    A   B\n",
       "0   1   2\n",
       "1   3   4\n",
       "2   4   5\n",
       "3  10  11"
      ]
     },
     "metadata": {},
     "output_type": "display_data"
    }
   ],
   "source": [
    "# adding row to dataframe\n",
    "df = pd.DataFrame(np.array([[1,2], [3, 4], [4, 5]]), \n",
    "                  columns = ['A', 'B'])\n",
    "print ('--- dataframe')\n",
    "print(df.shape)\n",
    "display(df)\n",
    "\n",
    "data =  [10, 11]\n",
    "print (f'adding {data}')\n",
    "s = pd.Series(data, index = df.columns)\n",
    "df = df.append(s, ignore_index = True)\n",
    "\n",
    "print ('-- modified dataframe')\n",
    "print(df.shape)\n",
    "display(df)\n"
   ]
  },
  {
   "cell_type": "code",
   "execution_count": 85,
   "id": "possible-chain",
   "metadata": {},
   "outputs": [
    {
     "name": "stdout",
     "output_type": "stream",
     "text": [
      "--- i: 0 type(row): <class 'pandas.core.series.Series'>\n"
     ]
    },
    {
     "data": {
      "text/plain": [
       "A    1\n",
       "B    2\n",
       "Name: 0, dtype: int64"
      ]
     },
     "metadata": {},
     "output_type": "display_data"
    },
    {
     "name": "stdout",
     "output_type": "stream",
     "text": [
      "--- i: 1 type(row): <class 'pandas.core.series.Series'>\n"
     ]
    },
    {
     "data": {
      "text/plain": [
       "A    3\n",
       "B    4\n",
       "Name: 1, dtype: int64"
      ]
     },
     "metadata": {},
     "output_type": "display_data"
    },
    {
     "name": "stdout",
     "output_type": "stream",
     "text": [
      "--- i: 2 type(row): <class 'pandas.core.series.Series'>\n"
     ]
    },
    {
     "data": {
      "text/plain": [
       "A    4\n",
       "B    5\n",
       "Name: 2, dtype: int64"
      ]
     },
     "metadata": {},
     "output_type": "display_data"
    },
    {
     "name": "stdout",
     "output_type": "stream",
     "text": [
      "--- i: 3 type(row): <class 'pandas.core.series.Series'>\n"
     ]
    },
    {
     "data": {
      "text/plain": [
       "A    10\n",
       "B    11\n",
       "Name: 3, dtype: int64"
      ]
     },
     "metadata": {},
     "output_type": "display_data"
    }
   ],
   "source": [
    "# Iterating over rows in DF\n",
    "# NOTE - THIS IS NOT RECOMMENDED and considered an anti-pattern\n",
    "for i, r in df.iterrows ():\n",
    "    print(f'--- i: {i} type(row): {type(r)}')\n",
    "    display(r)"
   ]
  },
  {
   "source": [
    "# sample dataset"
   ],
   "cell_type": "markdown",
   "metadata": {}
  },
  {
   "cell_type": "code",
   "execution_count": 1,
   "metadata": {},
   "outputs": [
    {
     "output_type": "stream",
     "name": "stdout",
     "text": [
      "['anagrams', 'anscombe', 'attention', 'brain_networks', 'car_crashes', 'diamonds', 'dots', 'exercise', 'flights', 'fmri', 'gammas', 'geyser', 'iris', 'mpg', 'penguins', 'planets', 'tips', 'titanic']\n",
      "/opt/anaconda3/lib/python3.7/site-packages/seaborn/utils.py:384: UserWarning: No parser was explicitly specified, so I'm using the best available HTML parser for this system (\"lxml\"). This usually isn't a problem, but if you run this code on another system, or in a different virtual environment, it may use a different parser and behave differently.\n",
      "\n",
      "The code that caused this warning is on line 384 of the file /opt/anaconda3/lib/python3.7/site-packages/seaborn/utils.py. To get rid of this warning, pass the additional argument 'features=\"lxml\"' to the BeautifulSoup constructor.\n",
      "\n",
      "  gh_list = BeautifulSoup(http)\n"
     ]
    }
   ],
   "source": [
    "# Import seaborn\n",
    "import seaborn as sns\n",
    "# Check out available datasets\n",
    "print(sns.get_dataset_names())"
   ]
  },
  {
   "cell_type": "code",
   "execution_count": 29,
   "metadata": {},
   "outputs": [
    {
     "output_type": "stream",
     "name": "stdout",
     "text": [
      "(398, 9)\n"
     ]
    },
    {
     "output_type": "display_data",
     "data": {
      "text/plain": "    mpg  cylinders  displacement  horsepower  weight  acceleration  \\\n0  18.0          8         307.0       130.0    3504          12.0   \n1  15.0          8         350.0       165.0    3693          11.5   \n2  18.0          8         318.0       150.0    3436          11.0   \n\n   model_year origin                       name  \n0          70    usa  chevrolet chevelle malibu  \n1          70    usa          buick skylark 320  \n2          70    usa         plymouth satellite  ",
      "text/html": "<div>\n<style scoped>\n    .dataframe tbody tr th:only-of-type {\n        vertical-align: middle;\n    }\n\n    .dataframe tbody tr th {\n        vertical-align: top;\n    }\n\n    .dataframe thead th {\n        text-align: right;\n    }\n</style>\n<table border=\"1\" class=\"dataframe\">\n  <thead>\n    <tr style=\"text-align: right;\">\n      <th></th>\n      <th>mpg</th>\n      <th>cylinders</th>\n      <th>displacement</th>\n      <th>horsepower</th>\n      <th>weight</th>\n      <th>acceleration</th>\n      <th>model_year</th>\n      <th>origin</th>\n      <th>name</th>\n    </tr>\n  </thead>\n  <tbody>\n    <tr>\n      <th>0</th>\n      <td>18.0</td>\n      <td>8</td>\n      <td>307.0</td>\n      <td>130.0</td>\n      <td>3504</td>\n      <td>12.0</td>\n      <td>70</td>\n      <td>usa</td>\n      <td>chevrolet chevelle malibu</td>\n    </tr>\n    <tr>\n      <th>1</th>\n      <td>15.0</td>\n      <td>8</td>\n      <td>350.0</td>\n      <td>165.0</td>\n      <td>3693</td>\n      <td>11.5</td>\n      <td>70</td>\n      <td>usa</td>\n      <td>buick skylark 320</td>\n    </tr>\n    <tr>\n      <th>2</th>\n      <td>18.0</td>\n      <td>8</td>\n      <td>318.0</td>\n      <td>150.0</td>\n      <td>3436</td>\n      <td>11.0</td>\n      <td>70</td>\n      <td>usa</td>\n      <td>plymouth satellite</td>\n    </tr>\n  </tbody>\n</table>\n</div>"
     },
     "metadata": {}
    },
    {
     "output_type": "execute_result",
     "data": {
      "text/plain": [
       "              mpg   cylinders  displacement  horsepower       weight  \\\n",
       "count  398.000000  398.000000    398.000000  392.000000   398.000000   \n",
       "mean    23.514573    5.454774    193.425879  104.469388  2970.424623   \n",
       "std      7.815984    1.701004    104.269838   38.491160   846.841774   \n",
       "min      9.000000    3.000000     68.000000   46.000000  1613.000000   \n",
       "25%     17.500000    4.000000    104.250000   75.000000  2223.750000   \n",
       "50%     23.000000    4.000000    148.500000   93.500000  2803.500000   \n",
       "75%     29.000000    8.000000    262.000000  126.000000  3608.000000   \n",
       "max     46.600000    8.000000    455.000000  230.000000  5140.000000   \n",
       "\n",
       "       acceleration  model_year  \n",
       "count    398.000000  398.000000  \n",
       "mean      15.568090   76.010050  \n",
       "std        2.757689    3.697627  \n",
       "min        8.000000   70.000000  \n",
       "25%       13.825000   73.000000  \n",
       "50%       15.500000   76.000000  \n",
       "75%       17.175000   79.000000  \n",
       "max       24.800000   82.000000  "
      ],
      "text/html": "<div>\n<style scoped>\n    .dataframe tbody tr th:only-of-type {\n        vertical-align: middle;\n    }\n\n    .dataframe tbody tr th {\n        vertical-align: top;\n    }\n\n    .dataframe thead th {\n        text-align: right;\n    }\n</style>\n<table border=\"1\" class=\"dataframe\">\n  <thead>\n    <tr style=\"text-align: right;\">\n      <th></th>\n      <th>mpg</th>\n      <th>cylinders</th>\n      <th>displacement</th>\n      <th>horsepower</th>\n      <th>weight</th>\n      <th>acceleration</th>\n      <th>model_year</th>\n    </tr>\n  </thead>\n  <tbody>\n    <tr>\n      <th>count</th>\n      <td>398.000000</td>\n      <td>398.000000</td>\n      <td>398.000000</td>\n      <td>392.000000</td>\n      <td>398.000000</td>\n      <td>398.000000</td>\n      <td>398.000000</td>\n    </tr>\n    <tr>\n      <th>mean</th>\n      <td>23.514573</td>\n      <td>5.454774</td>\n      <td>193.425879</td>\n      <td>104.469388</td>\n      <td>2970.424623</td>\n      <td>15.568090</td>\n      <td>76.010050</td>\n    </tr>\n    <tr>\n      <th>std</th>\n      <td>7.815984</td>\n      <td>1.701004</td>\n      <td>104.269838</td>\n      <td>38.491160</td>\n      <td>846.841774</td>\n      <td>2.757689</td>\n      <td>3.697627</td>\n    </tr>\n    <tr>\n      <th>min</th>\n      <td>9.000000</td>\n      <td>3.000000</td>\n      <td>68.000000</td>\n      <td>46.000000</td>\n      <td>1613.000000</td>\n      <td>8.000000</td>\n      <td>70.000000</td>\n    </tr>\n    <tr>\n      <th>25%</th>\n      <td>17.500000</td>\n      <td>4.000000</td>\n      <td>104.250000</td>\n      <td>75.000000</td>\n      <td>2223.750000</td>\n      <td>13.825000</td>\n      <td>73.000000</td>\n    </tr>\n    <tr>\n      <th>50%</th>\n      <td>23.000000</td>\n      <td>4.000000</td>\n      <td>148.500000</td>\n      <td>93.500000</td>\n      <td>2803.500000</td>\n      <td>15.500000</td>\n      <td>76.000000</td>\n    </tr>\n    <tr>\n      <th>75%</th>\n      <td>29.000000</td>\n      <td>8.000000</td>\n      <td>262.000000</td>\n      <td>126.000000</td>\n      <td>3608.000000</td>\n      <td>17.175000</td>\n      <td>79.000000</td>\n    </tr>\n    <tr>\n      <th>max</th>\n      <td>46.600000</td>\n      <td>8.000000</td>\n      <td>455.000000</td>\n      <td>230.000000</td>\n      <td>5140.000000</td>\n      <td>24.800000</td>\n      <td>82.000000</td>\n    </tr>\n  </tbody>\n</table>\n</div>"
     },
     "metadata": {},
     "execution_count": 29
    }
   ],
   "source": [
    "mpg_df = sns.load_dataset('mpg')\n",
    "print(mpg_df.shape)\n",
    "display(mpg_df.head(3))\n",
    "mpg_df.describe()"
   ]
  },
  {
   "cell_type": "code",
   "execution_count": 30,
   "metadata": {},
   "outputs": [
    {
     "output_type": "execute_result",
     "data": {
      "text/plain": [
       "                           name variable   value\n",
       "0     chevrolet chevelle malibu      mpg      18\n",
       "1             buick skylark 320      mpg      15\n",
       "2            plymouth satellite      mpg      18\n",
       "3                 amc rebel sst      mpg      16\n",
       "4                   ford torino      mpg      17\n",
       "...                         ...      ...     ...\n",
       "1189            ford mustang gl   origin     usa\n",
       "1190                  vw pickup   origin  europe\n",
       "1191              dodge rampage   origin     usa\n",
       "1192                ford ranger   origin     usa\n",
       "1193                 chevy s-10   origin     usa\n",
       "\n",
       "[1194 rows x 3 columns]"
      ],
      "text/html": "<div>\n<style scoped>\n    .dataframe tbody tr th:only-of-type {\n        vertical-align: middle;\n    }\n\n    .dataframe tbody tr th {\n        vertical-align: top;\n    }\n\n    .dataframe thead th {\n        text-align: right;\n    }\n</style>\n<table border=\"1\" class=\"dataframe\">\n  <thead>\n    <tr style=\"text-align: right;\">\n      <th></th>\n      <th>name</th>\n      <th>variable</th>\n      <th>value</th>\n    </tr>\n  </thead>\n  <tbody>\n    <tr>\n      <th>0</th>\n      <td>chevrolet chevelle malibu</td>\n      <td>mpg</td>\n      <td>18</td>\n    </tr>\n    <tr>\n      <th>1</th>\n      <td>buick skylark 320</td>\n      <td>mpg</td>\n      <td>15</td>\n    </tr>\n    <tr>\n      <th>2</th>\n      <td>plymouth satellite</td>\n      <td>mpg</td>\n      <td>18</td>\n    </tr>\n    <tr>\n      <th>3</th>\n      <td>amc rebel sst</td>\n      <td>mpg</td>\n      <td>16</td>\n    </tr>\n    <tr>\n      <th>4</th>\n      <td>ford torino</td>\n      <td>mpg</td>\n      <td>17</td>\n    </tr>\n    <tr>\n      <th>...</th>\n      <td>...</td>\n      <td>...</td>\n      <td>...</td>\n    </tr>\n    <tr>\n      <th>1189</th>\n      <td>ford mustang gl</td>\n      <td>origin</td>\n      <td>usa</td>\n    </tr>\n    <tr>\n      <th>1190</th>\n      <td>vw pickup</td>\n      <td>origin</td>\n      <td>europe</td>\n    </tr>\n    <tr>\n      <th>1191</th>\n      <td>dodge rampage</td>\n      <td>origin</td>\n      <td>usa</td>\n    </tr>\n    <tr>\n      <th>1192</th>\n      <td>ford ranger</td>\n      <td>origin</td>\n      <td>usa</td>\n    </tr>\n    <tr>\n      <th>1193</th>\n      <td>chevy s-10</td>\n      <td>origin</td>\n      <td>usa</td>\n    </tr>\n  </tbody>\n</table>\n<p>1194 rows × 3 columns</p>\n</div>"
     },
     "metadata": {},
     "execution_count": 30
    }
   ],
   "source": [
    "id_vars = ['name']\n",
    "val_vars = ['mpg', 'cylinders', 'origin']\n",
    "mpg_narrow_df = pd.melt(mpg_df, id_vars = id_vars, value_vars = val_vars)\n",
    "mpg_narrow_df"
   ]
  },
  {
   "source": [
    "## Date & time"
   ],
   "cell_type": "markdown",
   "metadata": {}
  },
  {
   "cell_type": "code",
   "execution_count": 60,
   "metadata": {},
   "outputs": [
    {
     "output_type": "display_data",
     "data": {
      "text/plain": "                date\n0  2021-04-01 3:15PM\n1         2021/01/01",
      "text/html": "<div>\n<style scoped>\n    .dataframe tbody tr th:only-of-type {\n        vertical-align: middle;\n    }\n\n    .dataframe tbody tr th {\n        vertical-align: top;\n    }\n\n    .dataframe thead th {\n        text-align: right;\n    }\n</style>\n<table border=\"1\" class=\"dataframe\">\n  <thead>\n    <tr style=\"text-align: right;\">\n      <th></th>\n      <th>date</th>\n    </tr>\n  </thead>\n  <tbody>\n    <tr>\n      <th>0</th>\n      <td>2021-04-01 3:15PM</td>\n    </tr>\n    <tr>\n      <th>1</th>\n      <td>2021/01/01</td>\n    </tr>\n  </tbody>\n</table>\n</div>"
     },
     "metadata": {}
    },
    {
     "output_type": "stream",
     "name": "stdout",
     "text": [
      "type:  <class 'str'>\n"
     ]
    },
    {
     "output_type": "display_data",
     "data": {
      "text/plain": "                 date\n0 2021-04-01 15:15:00\n1 2021-01-01 00:00:00",
      "text/html": "<div>\n<style scoped>\n    .dataframe tbody tr th:only-of-type {\n        vertical-align: middle;\n    }\n\n    .dataframe tbody tr th {\n        vertical-align: top;\n    }\n\n    .dataframe thead th {\n        text-align: right;\n    }\n</style>\n<table border=\"1\" class=\"dataframe\">\n  <thead>\n    <tr style=\"text-align: right;\">\n      <th></th>\n      <th>date</th>\n    </tr>\n  </thead>\n  <tbody>\n    <tr>\n      <th>0</th>\n      <td>2021-04-01 15:15:00</td>\n    </tr>\n    <tr>\n      <th>1</th>\n      <td>2021-01-01 00:00:00</td>\n    </tr>\n  </tbody>\n</table>\n</div>"
     },
     "metadata": {}
    },
    {
     "output_type": "stream",
     "name": "stdout",
     "text": [
      "type:  <class 'pandas._libs.tslibs.timestamps.Timestamp'>\n\ndiff between 2021-04-01 15:15:00 and 2021-01-01 00:00:00 is '90 days 15:15:00'\n"
     ]
    }
   ],
   "source": [
    "dstr = [[\"2021-04-01 3:15PM\"], [\"2021/01/01\" ]]\n",
    "df = pd.DataFrame(dstr, columns=['date'])\n",
    "display(df)\n",
    "print('type: ',type(df.loc[0][0]))\n",
    "\n",
    "# convert str to timestamp\n",
    "df['date'] = pd.to_datetime(df['date'])\n",
    "display(df)\n",
    "print('type: ',type(df.loc[1][0]))\n",
    "\n",
    "# timestamp arth\n",
    "d = df.loc[0][0] - df.loc[1][0]\n",
    "print (f'\\ndiff between {df.loc[0][0]} and {df.loc[1][0]} is \\'{d}\\'')"
   ]
  },
  {
   "cell_type": "code",
   "execution_count": 69,
   "metadata": {},
   "outputs": [
    {
     "output_type": "display_data",
     "data": {
      "text/plain": "  col1  col2  col2  col3\n0    a     1     2     3\n1    b    10    11    12",
      "text/html": "<div>\n<style scoped>\n    .dataframe tbody tr th:only-of-type {\n        vertical-align: middle;\n    }\n\n    .dataframe tbody tr th {\n        vertical-align: top;\n    }\n\n    .dataframe thead th {\n        text-align: right;\n    }\n</style>\n<table border=\"1\" class=\"dataframe\">\n  <thead>\n    <tr style=\"text-align: right;\">\n      <th></th>\n      <th>col1</th>\n      <th>col2</th>\n      <th>col2</th>\n      <th>col3</th>\n    </tr>\n  </thead>\n  <tbody>\n    <tr>\n      <th>0</th>\n      <td>a</td>\n      <td>1</td>\n      <td>2</td>\n      <td>3</td>\n    </tr>\n    <tr>\n      <th>1</th>\n      <td>b</td>\n      <td>10</td>\n      <td>11</td>\n      <td>12</td>\n    </tr>\n  </tbody>\n</table>\n</div>"
     },
     "metadata": {}
    },
    {
     "output_type": "stream",
     "name": "stdout",
     "text": [
      "cols ['col1', 'col2']  present ?  True\ncols ['col1', 'col8']  present ?  False\n"
     ]
    }
   ],
   "source": [
    "# check if required cols are preset in DF\n",
    "\n",
    "values = [['a', 1, 2, 3], ['b', 10, 11, 12]]\n",
    "colnames = ['col1', 'col2', 'col2', 'col3']\n",
    "df = pd.DataFrame(values, columns=colnames)\n",
    "display (df)\n",
    "\n",
    "cols = df.columns\n",
    "req_cols = ['col1', 'col2']\n",
    "has_cols =  all(elem in cols  for elem in req_cols)\n",
    "print (f'cols {req_cols}  present ? ', has_cols)\n",
    "\n",
    "req_cols = ['col1', 'col8']\n",
    "has_cols =  all(elem in cols  for elem in req_cols)\n",
    "print (f'cols {req_cols}  present ? ', has_cols)\n"
   ]
  },
  {
   "source": [
    "* concatinate dataframes"
   ],
   "cell_type": "markdown",
   "metadata": {}
  },
  {
   "cell_type": "code",
   "execution_count": 79,
   "metadata": {},
   "outputs": [
    {
     "output_type": "stream",
     "name": "stdout",
     "text": [
      "(4, 4) (1, 4)\n(5, 4)\n"
     ]
    },
    {
     "output_type": "display_data",
     "data": {
      "text/plain": "  col1  col2  col2 col3\n0    a     1     2    3\n1    b    10    11   12\n0    x   101   201  301\n0    x   101   201    x\n0    x   101   201  301",
      "text/html": "<div>\n<style scoped>\n    .dataframe tbody tr th:only-of-type {\n        vertical-align: middle;\n    }\n\n    .dataframe tbody tr th {\n        vertical-align: top;\n    }\n\n    .dataframe thead th {\n        text-align: right;\n    }\n</style>\n<table border=\"1\" class=\"dataframe\">\n  <thead>\n    <tr style=\"text-align: right;\">\n      <th></th>\n      <th>col1</th>\n      <th>col2</th>\n      <th>col2</th>\n      <th>col3</th>\n    </tr>\n  </thead>\n  <tbody>\n    <tr>\n      <th>0</th>\n      <td>a</td>\n      <td>1</td>\n      <td>2</td>\n      <td>3</td>\n    </tr>\n    <tr>\n      <th>1</th>\n      <td>b</td>\n      <td>10</td>\n      <td>11</td>\n      <td>12</td>\n    </tr>\n    <tr>\n      <th>0</th>\n      <td>x</td>\n      <td>101</td>\n      <td>201</td>\n      <td>301</td>\n    </tr>\n    <tr>\n      <th>0</th>\n      <td>x</td>\n      <td>101</td>\n      <td>201</td>\n      <td>x</td>\n    </tr>\n    <tr>\n      <th>0</th>\n      <td>x</td>\n      <td>101</td>\n      <td>201</td>\n      <td>301</td>\n    </tr>\n  </tbody>\n</table>\n</div>"
     },
     "metadata": {}
    }
   ],
   "source": [
    "values = [['x', 101, 201, 301]]\n",
    "df1 = pd.DataFrame(values, columns = df.columns) # number and name of columns should match\n",
    "print (df.shape, df1.shape)\n",
    "\n",
    "# note the []\n",
    "df = pd.concat([df, df1])\n",
    "\n",
    "print (df.shape)\n",
    "display (df.head())"
   ]
  },
  {
   "cell_type": "code",
   "execution_count": 113,
   "metadata": {},
   "outputs": [
    {
     "output_type": "stream",
     "name": "stdout",
     "text": [
      "\nMPG  (398, 9)\n"
     ]
    },
    {
     "output_type": "display_data",
     "data": {
      "text/plain": "    mpg  cylinders  displacement  horsepower  weight  acceleration  \\\n0  18.0          8         307.0       130.0    3504          12.0   \n1  15.0          8         350.0       165.0    3693          11.5   \n2  18.0          8         318.0       150.0    3436          11.0   \n\n   model_year origin                       name  \n0          70    usa  chevrolet chevelle malibu  \n1          70    usa          buick skylark 320  \n2          70    usa         plymouth satellite  ",
      "text/html": "<div>\n<style scoped>\n    .dataframe tbody tr th:only-of-type {\n        vertical-align: middle;\n    }\n\n    .dataframe tbody tr th {\n        vertical-align: top;\n    }\n\n    .dataframe thead th {\n        text-align: right;\n    }\n</style>\n<table border=\"1\" class=\"dataframe\">\n  <thead>\n    <tr style=\"text-align: right;\">\n      <th></th>\n      <th>mpg</th>\n      <th>cylinders</th>\n      <th>displacement</th>\n      <th>horsepower</th>\n      <th>weight</th>\n      <th>acceleration</th>\n      <th>model_year</th>\n      <th>origin</th>\n      <th>name</th>\n    </tr>\n  </thead>\n  <tbody>\n    <tr>\n      <th>0</th>\n      <td>18.0</td>\n      <td>8</td>\n      <td>307.0</td>\n      <td>130.0</td>\n      <td>3504</td>\n      <td>12.0</td>\n      <td>70</td>\n      <td>usa</td>\n      <td>chevrolet chevelle malibu</td>\n    </tr>\n    <tr>\n      <th>1</th>\n      <td>15.0</td>\n      <td>8</td>\n      <td>350.0</td>\n      <td>165.0</td>\n      <td>3693</td>\n      <td>11.5</td>\n      <td>70</td>\n      <td>usa</td>\n      <td>buick skylark 320</td>\n    </tr>\n    <tr>\n      <th>2</th>\n      <td>18.0</td>\n      <td>8</td>\n      <td>318.0</td>\n      <td>150.0</td>\n      <td>3436</td>\n      <td>11.0</td>\n      <td>70</td>\n      <td>usa</td>\n      <td>plymouth satellite</td>\n    </tr>\n  </tbody>\n</table>\n</div>"
     },
     "metadata": {}
    },
    {
     "output_type": "stream",
     "name": "stdout",
     "text": [
      "\nUS MPG  (40, 9)\n"
     ]
    },
    {
     "output_type": "display_data",
     "data": {
      "text/plain": "      mpg  cylinders  displacement  horsepower  weight  acceleration  \\\n364  26.6          8         350.0       105.0    3725          19.0   \n389  22.0          6         232.0       112.0    2835          14.7   \n341  23.5          6         173.0       110.0    2725          12.6   \n363  22.4          6         231.0       110.0    3415          15.8   \n386  25.0          6         181.0       110.0    2945          16.4   \n316  19.1          6         225.0        90.0    3381          18.7   \n365  20.2          6         200.0        88.0    3060          17.1   \n366  17.6          6         225.0        85.0    3465          16.6   \n387  38.0          6         262.0        85.0    3015          17.0   \n323  27.9          4         156.0       105.0    2800          14.4   \n\n     model_year origin                               name  \n364          81    usa              oldsmobile cutlass ls  \n389          82    usa                     ford granada l  \n341          81    usa                 chevrolet citation  \n363          81    usa                      buick century  \n386          82    usa              buick century limited  \n316          80    usa                        dodge aspen  \n365          81    usa                    ford granada gl  \n366          81    usa             chrysler lebaron salon  \n387          82    usa  oldsmobile cutlass ciera (diesel)  \n323          80    usa                         dodge colt  ",
      "text/html": "<div>\n<style scoped>\n    .dataframe tbody tr th:only-of-type {\n        vertical-align: middle;\n    }\n\n    .dataframe tbody tr th {\n        vertical-align: top;\n    }\n\n    .dataframe thead th {\n        text-align: right;\n    }\n</style>\n<table border=\"1\" class=\"dataframe\">\n  <thead>\n    <tr style=\"text-align: right;\">\n      <th></th>\n      <th>mpg</th>\n      <th>cylinders</th>\n      <th>displacement</th>\n      <th>horsepower</th>\n      <th>weight</th>\n      <th>acceleration</th>\n      <th>model_year</th>\n      <th>origin</th>\n      <th>name</th>\n    </tr>\n  </thead>\n  <tbody>\n    <tr>\n      <th>364</th>\n      <td>26.6</td>\n      <td>8</td>\n      <td>350.0</td>\n      <td>105.0</td>\n      <td>3725</td>\n      <td>19.0</td>\n      <td>81</td>\n      <td>usa</td>\n      <td>oldsmobile cutlass ls</td>\n    </tr>\n    <tr>\n      <th>389</th>\n      <td>22.0</td>\n      <td>6</td>\n      <td>232.0</td>\n      <td>112.0</td>\n      <td>2835</td>\n      <td>14.7</td>\n      <td>82</td>\n      <td>usa</td>\n      <td>ford granada l</td>\n    </tr>\n    <tr>\n      <th>341</th>\n      <td>23.5</td>\n      <td>6</td>\n      <td>173.0</td>\n      <td>110.0</td>\n      <td>2725</td>\n      <td>12.6</td>\n      <td>81</td>\n      <td>usa</td>\n      <td>chevrolet citation</td>\n    </tr>\n    <tr>\n      <th>363</th>\n      <td>22.4</td>\n      <td>6</td>\n      <td>231.0</td>\n      <td>110.0</td>\n      <td>3415</td>\n      <td>15.8</td>\n      <td>81</td>\n      <td>usa</td>\n      <td>buick century</td>\n    </tr>\n    <tr>\n      <th>386</th>\n      <td>25.0</td>\n      <td>6</td>\n      <td>181.0</td>\n      <td>110.0</td>\n      <td>2945</td>\n      <td>16.4</td>\n      <td>82</td>\n      <td>usa</td>\n      <td>buick century limited</td>\n    </tr>\n    <tr>\n      <th>316</th>\n      <td>19.1</td>\n      <td>6</td>\n      <td>225.0</td>\n      <td>90.0</td>\n      <td>3381</td>\n      <td>18.7</td>\n      <td>80</td>\n      <td>usa</td>\n      <td>dodge aspen</td>\n    </tr>\n    <tr>\n      <th>365</th>\n      <td>20.2</td>\n      <td>6</td>\n      <td>200.0</td>\n      <td>88.0</td>\n      <td>3060</td>\n      <td>17.1</td>\n      <td>81</td>\n      <td>usa</td>\n      <td>ford granada gl</td>\n    </tr>\n    <tr>\n      <th>366</th>\n      <td>17.6</td>\n      <td>6</td>\n      <td>225.0</td>\n      <td>85.0</td>\n      <td>3465</td>\n      <td>16.6</td>\n      <td>81</td>\n      <td>usa</td>\n      <td>chrysler lebaron salon</td>\n    </tr>\n    <tr>\n      <th>387</th>\n      <td>38.0</td>\n      <td>6</td>\n      <td>262.0</td>\n      <td>85.0</td>\n      <td>3015</td>\n      <td>17.0</td>\n      <td>82</td>\n      <td>usa</td>\n      <td>oldsmobile cutlass ciera (diesel)</td>\n    </tr>\n    <tr>\n      <th>323</th>\n      <td>27.9</td>\n      <td>4</td>\n      <td>156.0</td>\n      <td>105.0</td>\n      <td>2800</td>\n      <td>14.4</td>\n      <td>80</td>\n      <td>usa</td>\n      <td>dodge colt</td>\n    </tr>\n  </tbody>\n</table>\n</div>"
     },
     "metadata": {}
    }
   ],
   "source": [
    "# Sort DF\n",
    "mpg_df = sns.load_dataset('mpg')\n",
    "print('\\nMPG ', mpg_df.shape); display(mpg_df.head(3))\n",
    "\n",
    "# filter for us made cars after 80s\n",
    "f = (mpg_df['origin'] == 'usa') & (mpg_df['model_year'] >= 80)\n",
    "\n",
    "# sort by cols in descending order\n",
    "mpg_df = mpg_df[f].sort_values(by=['cylinders', 'horsepower'], ascending=False)\n",
    "\n",
    "print('\\nUS MPG ',mpg_df.shape); display(mpg_df.head(10))\n"
   ]
  },
  {
   "cell_type": "code",
   "execution_count": null,
   "metadata": {},
   "outputs": [],
   "source": []
  }
 ],
 "metadata": {
  "kernelspec": {
   "name": "python376jvsc74a57bd0dca0ade3e726a953b501b15e8e990130d2b7799f14cfd9f4271676035ebe5511",
   "display_name": "Python 3.7.6 64-bit ('base': conda)"
  },
  "language_info": {
   "codemirror_mode": {
    "name": "ipython",
    "version": 3
   },
   "file_extension": ".py",
   "mimetype": "text/x-python",
   "name": "python",
   "nbconvert_exporter": "python",
   "pygments_lexer": "ipython3",
   "version": "3.7.6"
  }
 },
 "nbformat": 4,
 "nbformat_minor": 5
}