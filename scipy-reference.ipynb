{
 "cells": [
  {
   "cell_type": "code",
   "execution_count": 2,
   "id": "higher-spice",
   "metadata": {},
   "outputs": [],
   "source": [
    "# load coo_matrix from Scipy.sparse module\n",
    "from scipy.sparse import coo_matrix\n",
    "# import numpy\n",
    "import numpy as np"
   ]
  },
  {
   "cell_type": "markdown",
   "id": "homeless-export",
   "metadata": {},
   "source": [
    "https://cmdlinetips.com/2019/01/3-ways-to-create-sparse-matrix-in-coo-format-with-scipy/"
   ]
  },
  {
   "cell_type": "code",
   "execution_count": 3,
   "id": "anticipated-collaboration",
   "metadata": {},
   "outputs": [
    {
     "data": {
      "text/plain": [
       "<4x5 sparse matrix of type '<class 'numpy.float64'>'\n",
       "\twith 0 stored elements in COOrdinate format>"
      ]
     },
     "metadata": {},
     "output_type": "display_data"
    },
    {
     "data": {
      "text/plain": [
       "array([[0., 0., 0., 0., 0.],\n",
       "       [0., 0., 0., 0., 0.],\n",
       "       [0., 0., 0., 0., 0.],\n",
       "       [0., 0., 0., 0., 0.]])"
      ]
     },
     "metadata": {},
     "output_type": "display_data"
    },
    {
     "data": {
      "text/plain": [
       "matrix([[0., 0., 0., 0., 0.],\n",
       "        [0., 0., 0., 0., 0.],\n",
       "        [0., 0., 0., 0., 0.],\n",
       "        [0., 0., 0., 0., 0.]])"
      ]
     },
     "metadata": {},
     "output_type": "display_data"
    }
   ],
   "source": [
    "# create empty COO matrix\n",
    "A = coo_matrix((4, 5))\n",
    "display(A) # prints nothing\n",
    "# use these to print\n",
    "display(A.toarray())\n",
    "display(A.todense())"
   ]
  },
  {
   "cell_type": "code",
   "execution_count": 25,
   "id": "nonprofit-father",
   "metadata": {},
   "outputs": [
    {
     "name": "stdout",
     "output_type": "stream",
     "text": [
      "3\n",
      "  (0, 0)\t10\n",
      "  (3, 1)\t3\n",
      "  (1, 1)\t88\n",
      "  (2, 2)\t9\n",
      "  (3, 0)\t2\n",
      "  (2, 1)\t6\n"
     ]
    },
    {
     "data": {
      "text/plain": [
       "array([[10,  0,  0,  0],\n",
       "       [ 0, 88,  0,  0],\n",
       "       [ 0,  6,  9,  0],\n",
       "       [ 2,  3,  0,  0]])"
      ]
     },
     "metadata": {},
     "output_type": "display_data"
    }
   ],
   "source": [
    "# Constructing a matrix using ijv format\n",
    "row  = np.array([0, 3, 1, 2, 3, 2])\n",
    "col  = np.array([0, 1, 1, 2, 0, 1])\n",
    "data = np.array([10, 3, 88, 9, 2,6])\n",
    "\n",
    "B = coo_matrix((data, (row, col)), shape = (4,4))\n",
    "print (coo_matrix((data, (row, col))).shape[1])\n",
    "\n",
    "# what is this displaying ???\n",
    "print (B)\n",
    "display(B.toarray())\n"
   ]
  },
  {
   "cell_type": "code",
   "execution_count": 29,
   "id": "grateful-singer",
   "metadata": {},
   "outputs": [
    {
     "name": "stdout",
     "output_type": "stream",
     "text": [
      "(4, 4)\n",
      "10\n"
     ]
    }
   ],
   "source": [
    "# accessing elements.\n",
    "# Use A.toarray()[i, j]\n",
    "print (B.toarray().shape)\n",
    "print (B.toarray()[0,0])"
   ]
  },
  {
   "cell_type": "code",
   "execution_count": null,
   "id": "applicable-proposition",
   "metadata": {},
   "outputs": [],
   "source": []
  }
 ],
 "metadata": {
  "kernelspec": {
   "display_name": "Python 3",
   "language": "python",
   "name": "python3"
  },
  "language_info": {
   "codemirror_mode": {
    "name": "ipython",
    "version": 3
   },
   "file_extension": ".py",
   "mimetype": "text/x-python",
   "name": "python",
   "nbconvert_exporter": "python",
   "pygments_lexer": "ipython3",
   "version": "3.8.5"
  }
 },
 "nbformat": 4,
 "nbformat_minor": 5
}
