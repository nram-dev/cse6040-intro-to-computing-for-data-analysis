{
 "cells": [
  {
   "cell_type": "markdown",
   "id": "essential-cross",
   "metadata": {},
   "source": [
    "# Python Reference"
   ]
  },
  {
   "cell_type": "code",
   "execution_count": 23,
   "id": "prompt-translator",
   "metadata": {},
   "outputs": [],
   "source": [
    "# useful imports\n",
    "\n",
    "import re\n",
    "import pandas as pd\n",
    "import numpy as np\n",
    "\n",
    "import seaborn as sns\n",
    "from collections import defaultdict \n",
    "import itertools\n",
    "import sqlite3\n",
    "\n",
    "\n",
    "import pprint\n",
    "pp = pprint.PrettyPrinter()\n",
    "\n",
    "from numpy.random import default_rng\n",
    "rng = default_rng()\n",
    "\n",
    "#_d = defaultdict(int) "
   ]
  },
  {
   "cell_type": "markdown",
   "id": "published-effort",
   "metadata": {},
   "source": [
    "### Iterator vs list\n",
    "-  Iterators are evaluted at runtime, if there is no need, the whole range is not generated\n",
    "- List are statically genrated before hand.\n"
   ]
  },
  {
   "cell_type": "code",
   "execution_count": 4,
   "id": "recovered-evanescence",
   "metadata": {},
   "outputs": [
    {
     "name": "stdout",
     "output_type": "stream",
     "text": [
      "0\n",
      "1\n",
      "2\n",
      "3\n",
      "4\n",
      "5\n",
      "6\n",
      "7\n",
      "8\n",
      "9\n",
      "10\n"
     ]
    }
   ],
   "source": [
    "# iter above 10 not evaluated at all\n",
    "it = iter(range(1000))\n",
    "for i in it:\n",
    "    print (i)\n",
    "    if i >= 10:\n",
    "        break"
   ]
  },
  {
   "cell_type": "code",
   "execution_count": 6,
   "id": "aging-johnston",
   "metadata": {},
   "outputs": [
    {
     "name": "stdout",
     "output_type": "stream",
     "text": [
      "0\n",
      "1\n",
      "2\n",
      "3\n",
      "4\n",
      "5\n",
      "6\n",
      "7\n",
      "8\n",
      "9\n",
      "10\n"
     ]
    }
   ],
   "source": [
    "# whole list is genrated\n",
    "li =  list(range(1000)) \n",
    "for i in li:\n",
    "    print (i)\n",
    "    if i >= 10:\n",
    "        break"
   ]
  },
  {
   "cell_type": "markdown",
   "id": "nonprofit-liberal",
   "metadata": {},
   "source": [
    "### enumerate iterator\n",
    "- give the index as well as value of list."
   ]
  },
  {
   "cell_type": "code",
   "execution_count": 9,
   "id": "homeless-mixture",
   "metadata": {},
   "outputs": [
    {
     "name": "stdout",
     "output_type": "stream",
     "text": [
      "0 10\n",
      "1 11\n",
      "2 12\n",
      "3 13\n",
      "4 14\n",
      "5 15\n",
      "6 16\n",
      "7 17\n",
      "8 18\n",
      "9 19\n"
     ]
    }
   ],
   "source": [
    "alist = list(range(10,20))\n",
    "for i,v in enumerate(alist):\n",
    "    print (i, v)"
   ]
  },
  {
   "cell_type": "markdown",
   "id": "classified-infection",
   "metadata": {},
   "source": [
    "### zip iterator\n",
    "- iterate over two lists"
   ]
  },
  {
   "cell_type": "code",
   "execution_count": 11,
   "id": "subtle-dallas",
   "metadata": {},
   "outputs": [
    {
     "name": "stdout",
     "output_type": "stream",
     "text": [
      "10 100\n",
      "11 101\n",
      "12 102\n",
      "13 103\n",
      "14 104\n",
      "15 105\n",
      "16 106\n",
      "17 107\n",
      "18 108\n",
      "19 109\n"
     ]
    }
   ],
   "source": [
    "alist = list(range(10,20))\n",
    "blist = list(range(100, 120))\n",
    "for a,b in zip(alist, blist):\n",
    "    print (a,b)"
   ]
  },
  {
   "cell_type": "markdown",
   "id": "limiting-sessions",
   "metadata": {},
   "source": [
    "### map and filter\n",
    "- list comprehension is a better choice for this? \n"
   ]
  },
  {
   "cell_type": "code",
   "execution_count": 16,
   "id": "essential-manual",
   "metadata": {},
   "outputs": [
    {
     "name": "stdout",
     "output_type": "stream",
     "text": [
      "0\n",
      "1\n",
      "4\n",
      "9\n",
      "16\n",
      "25\n",
      "36\n",
      "49\n",
      "64\n",
      "81\n"
     ]
    }
   ],
   "source": [
    "myfunc = lambda x: x**2\n",
    "alist = list(range(10))\n",
    "for a in map(myfunc, alist):\n",
    "    print (a)"
   ]
  },
  {
   "cell_type": "code",
   "execution_count": 18,
   "id": "derived-configuration",
   "metadata": {},
   "outputs": [
    {
     "data": {
      "text/plain": [
       "[0, 1, 4, 9, 16, 25, 36, 49, 64, 81]"
      ]
     },
     "execution_count": 18,
     "metadata": {},
     "output_type": "execute_result"
    }
   ],
   "source": [
    "# same with list comprehension\n",
    "alist = list(range(10))\n",
    "[ x**2 for x in alist ]"
   ]
  },
  {
   "cell_type": "code",
   "execution_count": 20,
   "id": "nonprofit-there",
   "metadata": {},
   "outputs": [
    {
     "name": "stdout",
     "output_type": "stream",
     "text": [
      "0\n",
      "2\n",
      "4\n",
      "6\n",
      "8\n"
     ]
    }
   ],
   "source": [
    "myfilt = lambda x: x%2 == 0\n",
    "alist = list(range(10))\n",
    "for a in filter(myfilt, alist):\n",
    "    print (a)"
   ]
  },
  {
   "cell_type": "code",
   "execution_count": 21,
   "id": "parental-picnic",
   "metadata": {},
   "outputs": [
    {
     "data": {
      "text/plain": [
       "[0, 2, 4, 6, 8]"
      ]
     },
     "execution_count": 21,
     "metadata": {},
     "output_type": "execute_result"
    }
   ],
   "source": [
    "# same with LC\n",
    "alist = list(range(10))\n",
    "[ x for x in alist if x %2 == 0 ]"
   ]
  },
  {
   "cell_type": "markdown",
   "id": "national-component",
   "metadata": {},
   "source": [
    "## Decorator\n",
    "https://realpython.com/primer-on-python-decorators/\n",
    "### You can change the bahaviour of the function without touching it!"
   ]
  },
  {
   "cell_type": "code",
   "execution_count": 15,
   "id": "looking-exception",
   "metadata": {},
   "outputs": [
    {
     "name": "stdout",
     "output_type": "stream",
     "text": [
      "add_one called with 3\n",
      "add_one called with 4\n"
     ]
    },
    {
     "data": {
      "text/plain": [
       "5"
      ]
     },
     "execution_count": 15,
     "metadata": {},
     "output_type": "execute_result"
    }
   ],
   "source": [
    "def add_two(f):\n",
    "    def wrapper(n): # this arg should match with arg to function\n",
    "        return f(f(n))\n",
    "    return wrapper\n",
    "\n",
    "# this is short \"pie\" notation\n",
    "@add_two\n",
    "def add_one(n=0):\n",
    "    print(f'add_one called with {n}')\n",
    "    return n+1\n",
    "\n",
    "add_one(3)"
   ]
  },
  {
   "cell_type": "code",
   "execution_count": 19,
   "id": "israeli-latvia",
   "metadata": {},
   "outputs": [
    {
     "data": {
      "text/plain": [
       "ParseResult(scheme='http', netloc='www.cwi.nl:80', path='/%7Eguido/Python.html', params='', query='', fragment='')"
      ]
     },
     "execution_count": 19,
     "metadata": {},
     "output_type": "execute_result"
    }
   ],
   "source": [
    "# url parsing\n",
    "from urllib.parse import urlparse, unquote\n",
    "o = urlparse('http://www.cwi.nl:80/%7Eguido/Python.html')\n",
    "o"
   ]
  },
  {
   "cell_type": "code",
   "execution_count": 21,
   "id": "competitive-circuit",
   "metadata": {},
   "outputs": [
    {
     "name": "stdout",
     "output_type": "stream",
     "text": [
      "url https://www.airbnb.com/rooms/18520444?location=Cleveland%2C%20TX location Cleveland\n"
     ]
    },
    {
     "data": {
      "text/plain": [
       "['Cleveland']"
      ]
     },
     "execution_count": 21,
     "metadata": {},
     "output_type": "execute_result"
    }
   ],
   "source": [
    "def parseurl(urls):\n",
    "    o = []\n",
    "    for url in urls:\n",
    "        u = urlparse(url)\n",
    "        l = unquote(u.query).split('=')[1].split(',')[0]\n",
    "        print (f'url {url} location {l}')\n",
    "        o.append(l)\n",
    "    #print (o)\n",
    "    return(o)\n",
    "\n",
    "parseurl(['https://www.airbnb.com/rooms/18520444?location=Cleveland%2C%20TX' ])"
   ]
  },
  {
   "cell_type": "code",
   "execution_count": 28,
   "id": "responsible-change",
   "metadata": {},
   "outputs": [
    {
     "name": "stdout",
     "output_type": "stream",
     "text": [
      "dems = ['bob', 'carol']\n",
      "reps = ['alice']\n",
      "pairs = [('alice', 'bob'), ('alice', 'carol')]\n"
     ]
    }
   ],
   "source": [
    "# combinations of two lists\n",
    "\n",
    "dems = ['bob', 'carol']\n",
    "reps = ['alice']\n",
    "pairs = [ list(itertools.product(reps, dems)) ][0] # this returns array of single entry?\n",
    "print (f'dems = {dems}')\n",
    "print (f'reps = {reps}')\n",
    "print (f'pairs = {pairs}')\n"
   ]
  },
  {
   "cell_type": "code",
   "execution_count": null,
   "id": "classical-agent",
   "metadata": {},
   "outputs": [],
   "source": [
    "# sort dict by value\n",
    "sorted(d, key=lambda item: item['last']) # item can be any string."
   ]
  },
  {
   "cell_type": "code",
   "execution_count": 32,
   "id": "incredible-savings",
   "metadata": {},
   "outputs": [
    {
     "name": "stdout",
     "output_type": "stream",
     "text": [
      "'unsorted dict: {1: 1, 2: 9, 3: 4}'\n",
      "'sorted-dict: [9, 4, 1]'\n"
     ]
    }
   ],
   "source": [
    "# dict sort by val.\n",
    "# https://stackabuse.com/how-to-sort-dictionary-by-value-in-python/\n",
    "dict1 = {1: 1, 2: 9, 3: 4}\n",
    "pp.pprint(f'unsorted dict: {dict1}')\n",
    "sorted_values = sorted(dict1.values(), reverse = True) # Sort the values\n",
    "pp.pprint(f'sorted-dict: {sorted_values}')"
   ]
  },
  {
   "cell_type": "code",
   "execution_count": 53,
   "id": "removed-password",
   "metadata": {},
   "outputs": [
    {
     "name": "stdout",
     "output_type": "stream",
     "text": [
      "unsorted dict\n",
      "{1: 1, 2: 9, 3: 4, 4: 8}\n",
      "sorted tupple:\n",
      "[(2, 9), (4, 8), (3, 4), (1, 1)]\n",
      "sorted dict:\n",
      "{2: 9, 4: 8, 3: 4, 1: 1}\n"
     ]
    }
   ],
   "source": [
    "# doesn't work!\n",
    "from collections import OrderedDict\n",
    "dict1 = {1: 1, 2: 9, 3: 4, 4: 8 }\n",
    "print('unsorted dict');pp.pprint(dict1)\n",
    "\n",
    "sorted_tuples = sorted(dict1.items(), key=lambda item: item[1], reverse = True)\n",
    "print('sorted tupple:'); pp.pprint(sorted_tuples) \n",
    "\n",
    "sorted_dict = OrderedDict() # still not reliable\n",
    "\n",
    "sorted_dict = {k: v for k, v in sorted_tuples} # NOT REILABLE\n",
    "print('sorted dict:'); print(sorted_dict) #### pprint prints it sorted by key - F***"
   ]
  },
  {
   "cell_type": "code",
   "execution_count": 43,
   "id": "silent-angel",
   "metadata": {},
   "outputs": [
    {
     "name": "stdout",
     "output_type": "stream",
     "text": [
      "{1: 1, 3: 4, 4: 8, 2: 9}\n"
     ]
    }
   ],
   "source": [
    "# works - verbose\n",
    "dict1 = {1: 1, 2: 9, 3: 4, 4: 8 }\n",
    "sorted_values = sorted(dict1.values()) # Sort the values\n",
    "sorted_dict = {}\n",
    "\n",
    "for i in sorted_values:\n",
    "    for k in dict1.keys():\n",
    "        if dict1[k] == i:\n",
    "            sorted_dict[k] = dict1[k]\n",
    "            break\n",
    "\n",
    "print(sorted_dict)"
   ]
  },
  {
   "cell_type": "code",
   "execution_count": 48,
   "id": "electrical-hayes",
   "metadata": {},
   "outputs": [
    {
     "name": "stdout",
     "output_type": "stream",
     "text": [
      "{1: 1, 3: 4, 4: 8, 2: 9}\n"
     ]
    }
   ],
   "source": [
    "sorted_dict = {}\n",
    "sorted_keys = sorted(dict1, key=dict1.get) \n",
    "\n",
    "for w in sorted_keys:\n",
    "    sorted_dict[w] = dict1[w]\n",
    "\n",
    "print(sorted_dict) "
   ]
  },
  {
   "cell_type": "code",
   "execution_count": 52,
   "id": "sized-light",
   "metadata": {},
   "outputs": [
    {
     "name": "stdout",
     "output_type": "stream",
     "text": [
      "{1: 1, 2: 9, 3: 4, 4: 8}\n",
      "{5: 0, 1: 1, 3: 4, 4: 8, 2: 9}\n"
     ]
    }
   ],
   "source": [
    "d = {1: 1, 2: 9, 3: 4, 4: 8}\n",
    "for w in sorted(d, key=d.get):\n",
    "    sd[w] = d[w]\n",
    "print(d)\n",
    "print(sd)"
   ]
  },
  {
   "cell_type": "code",
   "execution_count": 51,
   "id": "ordinary-beaver",
   "metadata": {},
   "outputs": [
    {
     "name": "stdout",
     "output_type": "stream",
     "text": [
      "{1: 1, 2: 9, 3: 4, 4: 8, 5: 0}\n",
      "{5: 0, 1: 1, 3: 4, 4: 8, 2: 9}\n"
     ]
    }
   ],
   "source": [
    "d = {1: 1, 2: 9, 3: 4, 4: 8, 5: 0}\n",
    "st = sorted(d.items(), key=lambda item: item[1])\n",
    "sd = {k: v for k, v in st}\n",
    "\n",
    "print(d)\n",
    "print(sd) "
   ]
  },
  {
   "cell_type": "code",
   "execution_count": 8,
   "id": "virgin-america",
   "metadata": {},
   "outputs": [
    {
     "name": "stdout",
     "output_type": "stream",
     "text": [
      "[0, 1, 2, 3, 4, 5, 6, 7, 8, 9] [0, 1, 2] [7, 8, 9]\n"
     ]
    }
   ],
   "source": [
    "l = [i for i in range(10)]\n",
    "print (l, l[:3], l[-3:])"
   ]
  },
  {
   "cell_type": "code",
   "execution_count": null,
   "id": "fifty-reservation",
   "metadata": {},
   "outputs": [],
   "source": []
  }
 ],
 "metadata": {
  "kernelspec": {
   "display_name": "Python 3",
   "language": "python",
   "name": "python3"
  },
  "language_info": {
   "codemirror_mode": {
    "name": "ipython",
    "version": 3
   },
   "file_extension": ".py",
   "mimetype": "text/x-python",
   "name": "python",
   "nbconvert_exporter": "python",
   "pygments_lexer": "ipython3",
   "version": "3.8.5"
  }
 },
 "nbformat": 4,
 "nbformat_minor": 5
}