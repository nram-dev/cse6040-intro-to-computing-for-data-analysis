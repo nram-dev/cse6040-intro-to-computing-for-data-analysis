{
  "nbformat": 4,
  "nbformat_minor": 0,
  "metadata": {
    "colab": {
      "name": "functional-python.ipynb",
      "provenance": [],
      "collapsed_sections": [],
      "authorship_tag": "ABX9TyN1X7XnPS0brcAsoSM6CEOk",
      "include_colab_link": true
    },
    "kernelspec": {
      "name": "python3",
      "display_name": "Python 3"
    },
    "language_info": {
      "name": "python"
    }
  },
  "cells": [
    {
      "cell_type": "markdown",
      "metadata": {
        "id": "view-in-github",
        "colab_type": "text"
      },
      "source": [
        "<a href=\"https://colab.research.google.com/github/nram-dev/cse6040-intro-to-computing-for-data-analysis/blob/master/functional_python.ipynb\" target=\"_parent\"><img src=\"https://colab.research.google.com/assets/colab-badge.svg\" alt=\"Open In Colab\"/></a>"
      ]
    },
    {
      "cell_type": "markdown",
      "source": [
        "# Stuff from Functional Python course on LinkedIn Learning by Shaun Wassel\n",
        "Ref:\n",
        "https://www.linkedin.com/learning/functional-programming-with-python/installing-python?autoSkip=true&autoplay=true&resume=false&u=2163426"
      ],
      "metadata": {
        "id": "ND2K8FmpQ3Bo"
      }
    },
    {
      "cell_type": "code",
      "source": [
        "# function as variable\n",
        "def say_hello(name):\n",
        "  print (\"Hello \"+ name)\n",
        "\n",
        "# call it classic way\n",
        "say_hello('Classic')\n",
        "\n",
        "# using function as variable\n",
        "say_hello_var = say_hello\n",
        "say_hello_var('functional')\n"
      ],
      "metadata": {
        "colab": {
          "base_uri": "https://localhost:8080/"
        },
        "id": "Ncg5g7QpXDsO",
        "outputId": "2f47771f-2a1a-4d7a-b3ad-44999a8b90d2"
      },
      "execution_count": null,
      "outputs": [
        {
          "output_type": "stream",
          "name": "stdout",
          "text": [
            "Hello Classic\n",
            "Hello functional\n"
          ]
        }
      ]
    },
    {
      "cell_type": "code",
      "source": [
        "# A/B testing\n",
        "import random\n",
        "def my_func_a():\n",
        "  return ('A')\n",
        "\n",
        "def my_func_b():\n",
        "  return ('B')\n",
        "\n",
        "for i in range(0,10) :\n",
        "  r = random.randint(1,10)\n",
        "  ab_test = my_func_a if r < 5 else my_func_b\n",
        "  print(f'{i}) {r:2} : {ab_test()}')"
      ],
      "metadata": {
        "colab": {
          "base_uri": "https://localhost:8080/"
        },
        "id": "gYbj0HqRXLJ-",
        "outputId": "c2db2192-9e2a-442d-c3b8-1df761338890"
      },
      "execution_count": null,
      "outputs": [
        {
          "output_type": "stream",
          "name": "stdout",
          "text": [
            "0) 10 : B\n",
            "1)  1 : A\n",
            "2)  2 : A\n",
            "3) 10 : B\n",
            "4)  5 : B\n",
            "5)  2 : A\n",
            "6)  8 : B\n",
            "7)  9 : B\n",
            "8)  5 : B\n",
            "9)  5 : B\n"
          ]
        }
      ]
    },
    {
      "cell_type": "code",
      "source": [
        "# apply transformations\n",
        "import math\n",
        "def op1(n):\n",
        "  return n+10\n",
        "\n",
        "def op2(n):\n",
        "  return n*10\n",
        "\n",
        "def op3(n):\n",
        "  return n*2\n",
        "\n",
        "# note math.sqrt at the end\n",
        "ops_list = [ op1, op2, op3, math.sqrt ]\n",
        "\n",
        "n = 16\n",
        "print (f'n = {n}')\n",
        "for op in ops_list:\n",
        "  n = op(n)\n",
        "print (n)\n",
        "print (f'Result: {n}')\n",
        "\n",
        "n = 16\n",
        "m = [ op(n) for op in ops_list ]\n",
        "print (f'Ops output: {m}')"
      ],
      "metadata": {
        "colab": {
          "base_uri": "https://localhost:8080/"
        },
        "id": "x8ueTA89XP78",
        "outputId": "2909b3ab-c76a-44ac-9136-bc1ae842ff00"
      },
      "execution_count": null,
      "outputs": [
        {
          "output_type": "stream",
          "name": "stdout",
          "text": [
            "n = 16\n",
            "22.80350850198276\n",
            "Result: 22.80350850198276\n",
            "Ops output: [26, 160, 32, 4.0]\n"
          ]
        }
      ]
    },
    {
      "cell_type": "code",
      "source": [
        "# function as arg\n",
        "def min_ab(a, b):\n",
        "  return min(a,b)\n",
        "\n",
        "def max_ab(a, b):\n",
        "  return max(a,b)\n",
        "\n",
        "def min_or_max_ab(func, a, b):\n",
        "  return func(a,b)\n",
        "\n",
        "a=10\n",
        "b=20\n",
        "for n in range(1,10):\n",
        "  r = random.random()\n",
        "  min_or_max = min_ab if r < 0.5 else max_ab\n",
        "  result = min_or_max_ab(min_or_max, a, b)\n",
        "  print (f'min_or_max({a}, {b}) = {result} (r = {r})')"
      ],
      "metadata": {
        "colab": {
          "base_uri": "https://localhost:8080/"
        },
        "id": "Ac0WjAzgcQiY",
        "outputId": "8c6985c6-e3e5-42b4-dc2b-e7764518a2a0"
      },
      "execution_count": null,
      "outputs": [
        {
          "output_type": "stream",
          "name": "stdout",
          "text": [
            "min_or_max(10, 20) = 10 (r = 0.018058939351021763)\n",
            "min_or_max(10, 20) = 10 (r = 0.3124563358524527)\n",
            "min_or_max(10, 20) = 20 (r = 0.7476315917608153)\n",
            "min_or_max(10, 20) = 20 (r = 0.5990554492956094)\n",
            "min_or_max(10, 20) = 20 (r = 0.8348022806521455)\n",
            "min_or_max(10, 20) = 20 (r = 0.667519310382702)\n",
            "min_or_max(10, 20) = 10 (r = 0.27907150040211504)\n",
            "min_or_max(10, 20) = 10 (r = 0.2315003554727617)\n",
            "min_or_max(10, 20) = 10 (r = 0.03852333107898842)\n"
          ]
        }
      ]
    },
    {
      "cell_type": "code",
      "source": [
        "# return function & closure\n",
        "\n",
        "def get_nx (n):\n",
        "  my_offset = 2\n",
        "  def nx(x):\n",
        "    nonlocal my_offset\n",
        "    my_offset += 1\n",
        "    return n*x + my_offset # closuer example - can access my_offset\n",
        "  return nx\n",
        "\n",
        "a = 10\n",
        "for n in range(1, 5):\n",
        "  print (f'get_nx({n}) = {get_nx(n)(a)}')"
      ],
      "metadata": {
        "colab": {
          "base_uri": "https://localhost:8080/"
        },
        "id": "NtaM3L4dfMw4",
        "outputId": "3e06aabc-298f-4b56-a2ec-b573cac598ee"
      },
      "execution_count": null,
      "outputs": [
        {
          "output_type": "stream",
          "name": "stdout",
          "text": [
            "get_nx(1) = 13\n",
            "get_nx(2) = 23\n",
            "get_nx(3) = 33\n",
            "get_nx(4) = 43\n"
          ]
        }
      ]
    },
    {
      "cell_type": "code",
      "source": [
        "# higher order function \n",
        "\n",
        "def div_ab(a, b):\n",
        "  return a / b\n",
        "\n",
        "def check_args(func):\n",
        "  def safe_fn (*args):\n",
        "    if args[1] == 0:\n",
        "      print ('Cannot divide by Zero')\n",
        "      return \n",
        "    return func(*args)\n",
        "  return safe_fn\n",
        "\n",
        "safe_div_ab = check_args(div_ab)\n",
        "\n",
        "a = 10\n",
        "for b in range(0, 3):\n",
        "  print (f'{a} / {b} = {safe_div_ab(a, b)}')\n"
      ],
      "metadata": {
        "colab": {
          "base_uri": "https://localhost:8080/"
        },
        "id": "oDiSHpLEjdYF",
        "outputId": "b3a27f6b-f96a-402a-98c8-4feef31c6b60"
      },
      "execution_count": null,
      "outputs": [
        {
          "output_type": "stream",
          "name": "stdout",
          "text": [
            "Cannot divide by Zero\n",
            "10 / 0 = None\n",
            "10 / 1 = 10.0\n",
            "10 / 2 = 5.0\n"
          ]
        }
      ]
    },
    {
      "cell_type": "code",
      "source": [
        "# mapping\n",
        "dow_names = [\"Sunday\", \"Monday\", \"Tuesday\", \"Wednesday\", \"Thursday\", \"Friday\", \"Saturday\"]\n",
        "\n",
        "def get_dow_name(n):\n",
        "  return dow_names[n]\n",
        "\n",
        "def check_args(func):\n",
        "  def safe_fn (*args):\n",
        "    if args[0] < 0 or args[0] > 6:\n",
        "      print (f'** Invalid week index [{n}] ***')\n",
        "      return \"Doomsday\"\n",
        "    return func(*args)\n",
        "  return safe_fn\n",
        "\n",
        "safe_get_dow_name = check_args(get_dow_name)\n",
        "\n",
        "day_ids = range(0,10)\n",
        "dow_list = list(map(safe_get_dow_name, day_ids))\n",
        "print (dow_list)\n"
      ],
      "metadata": {
        "colab": {
          "base_uri": "https://localhost:8080/"
        },
        "id": "pCgsVIrsfhcC",
        "outputId": "3b701396-c9ee-43e8-e9be-2cffab67214a"
      },
      "execution_count": 6,
      "outputs": [
        {
          "output_type": "stream",
          "name": "stdout",
          "text": [
            "** Invalid week index [9] ***\n",
            "** Invalid week index [9] ***\n",
            "** Invalid week index [9] ***\n",
            "['Sunday', 'Monday', 'Tuesday', 'Wednesday', 'Thursday', 'Friday', 'Saturday', 'Doomsday', 'Doomsday', 'Doomsday']\n"
          ]
        }
      ]
    },
    {
      "cell_type": "code",
      "source": [
        "# filtering\n",
        "import numpy as np \n",
        "\n",
        "threshold = 0.5\n",
        "samples = np.random.random_sample(size = 10)\n",
        "\n",
        "def checker(n):\n",
        "  return n > threshold\n",
        "\n",
        "qualified_samples = list(filter(checker, samples))\n",
        "\n",
        "\n",
        "print ('Samples:', samples)\n",
        "print ('Threshold: ', threshold)\n",
        "print ('Qualified Samples: ', qualified_samples)"
      ],
      "metadata": {
        "colab": {
          "base_uri": "https://localhost:8080/"
        },
        "id": "ud1-QHMkiXIO",
        "outputId": "fddc7c4a-0c92-495c-bb89-bcc23c02b693"
      },
      "execution_count": 11,
      "outputs": [
        {
          "output_type": "stream",
          "name": "stdout",
          "text": [
            "Samples: [0.06144132 0.94573518 0.60519003 0.63879902 0.15973106 0.50212989\n",
            " 0.82722847 0.59937194 0.88612667 0.08386325]\n",
            "Threshold:  0.5\n",
            "Qualified Samples:  [0.9457351812924644, 0.6051900256397084, 0.6387990162959671, 0.5021298871280439, 0.8272284699454303, 0.5993719367621815, 0.886126674595226]\n"
          ]
        }
      ]
    },
    {
      "cell_type": "code",
      "source": [
        "# lambda\n",
        "\n",
        "my_lambda1 = lambda a, b : a + 2*b\n",
        "\n",
        "print (my_lambda1(1,2))\n",
        "\n",
        "import numpy as np \n",
        "\n",
        "# lambda as function arg\n",
        "threshold = 0.5\n",
        "samples = np.random.random_sample(size = 10)\n",
        "qualified_samples = list(filter(lambda x: x > threshold, samples))\n",
        "print ('Samples:', samples)\n",
        "print ('Threshold: ', threshold)\n",
        "print ('Qualified Samples: ', qualified_samples)\n"
      ],
      "metadata": {
        "colab": {
          "base_uri": "https://localhost:8080/"
        },
        "id": "QMGntZCakoAY",
        "outputId": "2403dab9-ec39-49bd-da64-ba739f1acc09"
      },
      "execution_count": 14,
      "outputs": [
        {
          "output_type": "stream",
          "name": "stdout",
          "text": [
            "5\n",
            "Samples: [0.71206221 0.23692166 0.9926716  0.01265159 0.69975568 0.22353633\n",
            " 0.83091484 0.63407842 0.77394588 0.01052006]\n",
            "Threshold:  0.5\n",
            "Qualified Samples:  [0.7120622072253661, 0.9926716029747882, 0.6997556823772519, 0.8309148410282992, 0.6340784213693863, 0.7739458772041906]\n"
          ]
        }
      ]
    },
    {
      "cell_type": "code",
      "source": [
        "# list comprehension\n",
        "\n",
        "my_list = range(1,11)\n",
        "\n",
        "my_doubles = [ x * 2 for x in my_list ]\n",
        "my_evens = [ x for x in my_list if x % 2 == 0 ]\n",
        "my_odds_doubled = [ x * 2 for x in my_list if x % 2 ]\n",
        "\n",
        "print ('my_list: ', my_list)\n",
        "print ('my_doubles: ', my_doubles)\n",
        "print ('my_evens: ', my_evens)\n",
        "print ('odds_doubled: ', my_odds_doubled)"
      ],
      "metadata": {
        "colab": {
          "base_uri": "https://localhost:8080/"
        },
        "id": "jGtUc1p-mB91",
        "outputId": "0d4f927f-a662-4869-fa58-3d2b21af6205"
      },
      "execution_count": 16,
      "outputs": [
        {
          "output_type": "stream",
          "name": "stdout",
          "text": [
            "my_list:  range(1, 11)\n",
            "my_doubles:  [2, 4, 6, 8, 10, 12, 14, 16, 18, 20]\n",
            "my_evens:  [2, 4, 6, 8, 10]\n",
            "odds_doubled:  [2, 6, 10, 14, 18]\n"
          ]
        }
      ]
    },
    {
      "cell_type": "code",
      "source": [
        "# map comprehension\n",
        "\n",
        "dow_names = [\"Sunday\", \"Monday\", \"Tuesday\", \"Wednesday\", \"Thursday\", \"Friday\", \"Saturday\"]\n",
        "\n",
        "# lambda fn\n",
        "get_dow_name = lambda n: dow_names[n]\n",
        "check_day_id = lambda x : True if x >= 0 and x < 7 else False\n",
        "\n",
        "day_ids = range(0,10)\n",
        "dow_map = { x:get_dow_name(x) for x in day_ids if check_day_id(x)}\n",
        "print (dow_map)\n",
        "\n"
      ],
      "metadata": {
        "colab": {
          "base_uri": "https://localhost:8080/"
        },
        "id": "3WkzfOfmnZo9",
        "outputId": "f0bfa89a-d5fd-42c4-a256-1eb9b1580378"
      },
      "execution_count": 20,
      "outputs": [
        {
          "output_type": "stream",
          "name": "stdout",
          "text": [
            "{0: 'Sunday', 1: 'Monday', 2: 'Tuesday', 3: 'Wednesday', 4: 'Thursday', 5: 'Friday', 6: 'Saturday'}\n"
          ]
        }
      ]
    },
    {
      "cell_type": "code",
      "source": [
        "# Reduce\n",
        "\n",
        "from functools import reduce\n",
        "# acc is accumulator, the prev. values so far\n",
        "def sum_it (acc, n):\n",
        "  return acc + n\n",
        "\n",
        "# 3rd arg is starting value for accumulator\n",
        "my_list = range(1,11)\n",
        "sum = reduce (sum_it, my_list, 0)\n",
        "\n",
        "print ('my_list :', my_list)\n",
        "print ('sum with reduce:', sum)"
      ],
      "metadata": {
        "colab": {
          "base_uri": "https://localhost:8080/"
        },
        "id": "MPczi87IqSuP",
        "outputId": "5f33cee4-9428-427c-9e51-0ee176ddd19e"
      },
      "execution_count": 21,
      "outputs": [
        {
          "output_type": "stream",
          "name": "stdout",
          "text": [
            "my_list : range(1, 11)\n",
            "sum with reduce: 55\n"
          ]
        }
      ]
    },
    {
      "cell_type": "code",
      "source": [
        "# the challenge project\n",
        "# compare avg. dev vs non-developer salaries with list comprehension\n",
        "import random \n",
        "\n",
        "# prepare data\n",
        "names = ['john doe', 'jane doe']\n",
        "salaries = [100000, 120000, 200000, 80000, 150000, 90000, 220000 ]\n",
        "jobs = ['developer', 'executive', 'manager', 'ceo']\n",
        "rec = lambda: { 'name': random.choice(names), 'job-title' : random.choice(jobs), 'salary': random.choice(salaries)}\n",
        "data = [ rec() for x in range(1,10) ]\n",
        "print ('Data: ', data)\n",
        "\n",
        "# seperate dev non-dev salaries\n",
        "dev_salaries = [ d['salary'] for d in data if d['job-title'] == 'developer' ]\n",
        "non_dev_salaries = [ d['salary'] for d in data if d['job-title'] != 'developer' ]\n",
        "print ('developer salaries          : ', dev_salaries)\n",
        "print ('non deveoper salaries       : ', non_dev_salaries)\n",
        "\n",
        "# sum and find avg. protect against div/zero\n",
        "sum_it = lambda acc, x: acc + x\n",
        "avg_dev_salary = reduce(sum_it, dev_salaries, 0) / len(dev_salaries) if len(dev_salaries) > 0 else 0\n",
        "avg_non_dev_salary = reduce(sum_it, non_dev_salaries, 0) / len(non_dev_salaries) if len(non_dev_salaries) > 0 else 0\n",
        "\n",
        "print ('average developer salary    : ', avg_dev_salary)\n",
        "print ('average non-developer salary: ', avg_non_dev_salary)\n"
      ],
      "metadata": {
        "colab": {
          "base_uri": "https://localhost:8080/"
        },
        "id": "oJfsrleDsyAc",
        "outputId": "ef3c1aac-62e8-4133-8dd0-f80d089ae80e"
      },
      "execution_count": 55,
      "outputs": [
        {
          "output_type": "stream",
          "name": "stdout",
          "text": [
            "Data:  [{'name': 'jane doe', 'job-title': 'executive', 'salary': 200000}, {'name': 'john doe', 'job-title': 'manager', 'salary': 80000}, {'name': 'john doe', 'job-title': 'manager', 'salary': 90000}, {'name': 'john doe', 'job-title': 'ceo', 'salary': 90000}, {'name': 'john doe', 'job-title': 'manager', 'salary': 120000}, {'name': 'john doe', 'job-title': 'ceo', 'salary': 90000}, {'name': 'jane doe', 'job-title': 'manager', 'salary': 150000}, {'name': 'jane doe', 'job-title': 'manager', 'salary': 220000}, {'name': 'jane doe', 'job-title': 'executive', 'salary': 80000}]\n",
            "developer salaries          :  []\n",
            "non deveoper salaries       :  [200000, 80000, 90000, 90000, 120000, 90000, 150000, 220000, 80000]\n",
            "average developer salary    :  0\n",
            "average non-developer salary:  124444.44444444444\n"
          ]
        }
      ]
    }
  ]
}