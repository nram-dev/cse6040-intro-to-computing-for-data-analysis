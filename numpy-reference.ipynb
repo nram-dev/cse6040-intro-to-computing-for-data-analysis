{
 "cells": [
  {
   "cell_type": "markdown",
   "id": "focused-freeze",
   "metadata": {},
   "source": [
    "# NumPy Reference\n",
    "- Reference\n",
    "https://learning.oreilly.com/library/view/python-for-data/9781449323592/ch04.html"
   ]
  },
  {
   "cell_type": "markdown",
   "id": "reduced-christian",
   "metadata": {},
   "source": [
    "* Python lists can have heterogeneous. This requires two levels of pointer access.\n",
    "* Python array supports homegeneous type. This gives efficient storage.\n",
    "* np.array, in addition to efficient storage, also provides efficient operation on data.\n",
    "* Use np.arrray for ALL homegeneous data array needs."
   ]
  },
  {
   "cell_type": "raw",
   "id": "happy-pharmacy",
   "metadata": {},
   "source": [
    "### Data type\tDescription\n",
    "bool_\tBoolean (True or False) stored as a byte\n",
    "int_\tDefault integer type (same as C long; normally either int64 or int32)\n",
    "intc\tIdentical to C int (normally int32 or int64)\n",
    "intp\tInteger used for indexing (same as C ssize_t; normally either int32 or int64)\n",
    "int8\tByte (-128 to 127)\n",
    "int16\tInteger (-32768 to 32767)\n",
    "int32\tInteger (-2147483648 to 2147483647)\n",
    "int64\tInteger (-9223372036854775808 to 9223372036854775807)\n",
    "uint8\tUnsigned integer (0 to 255)\n",
    "uint16\tUnsigned integer (0 to 65535)\n",
    "uint32\tUnsigned integer (0 to 4294967295)\n",
    "uint64\tUnsigned integer (0 to 18446744073709551615)\n",
    "float_\tShorthand for float64.\n",
    "float16\tHalf precision float: sign bit, 5 bits exponent, 10 bits mantissa\n",
    "float32\tSingle precision float: sign bit, 8 bits exponent, 23 bits mantissa\n",
    "float64\tDouble precision float: sign bit, 11 bits exponent, 52 bits mantissa\n",
    "complex_\tShorthand for complex128.\n",
    "complex64\tComplex number, represented by two 32-bit floats\n",
    "complex128\tComplex number, represented by two 64-bit floats"
   ]
  },
  {
   "cell_type": "code",
   "execution_count": 66,
   "id": "apart-poster",
   "metadata": {},
   "outputs": [],
   "source": [
    "import numpy as np\n",
    "import pandas as pd\n",
    "from numpy.random import default_rng\n",
    "rng = default_rng()"
   ]
  },
  {
   "cell_type": "markdown",
   "id": "spoken-polyester",
   "metadata": {},
   "source": [
    "### Diff in performance between list and np.array performance"
   ]
  },
  {
   "cell_type": "code",
   "execution_count": 3,
   "id": "entire-starter",
   "metadata": {},
   "outputs": [
    {
     "output_type": "stream",
     "name": "stdout",
     "text": [
      "2.58 µs ± 103 ns per loop (mean ± std. dev. of 7 runs, 100000 loops each)\n"
     ]
    }
   ],
   "source": [
    "%timeit [ a**2 for a in range(10) ]"
   ]
  },
  {
   "cell_type": "code",
   "execution_count": 4,
   "id": "focal-length",
   "metadata": {},
   "outputs": [
    {
     "output_type": "stream",
     "name": "stdout",
     "text": [
      "1.18 µs ± 71.2 ns per loop (mean ± std. dev. of 7 runs, 1000000 loops each)\n"
     ]
    }
   ],
   "source": [
    " %timeit np.arange(10) ** 2"
   ]
  },
  {
   "cell_type": "code",
   "execution_count": 5,
   "id": "infinite-steam",
   "metadata": {},
   "outputs": [
    {
     "output_type": "execute_result",
     "data": {
      "text/plain": [
       "array([ 0,  1,  2,  3,  4,  5,  6,  7,  8,  9, 10, 11])"
      ]
     },
     "metadata": {},
     "execution_count": 5
    }
   ],
   "source": [
    "np.arange(12)"
   ]
  },
  {
   "cell_type": "code",
   "execution_count": 6,
   "id": "aerial-administration",
   "metadata": {},
   "outputs": [
    {
     "output_type": "execute_result",
     "data": {
      "text/plain": [
       "array([0, 0, 0, 0, 0, 0, 0, 0, 0, 0])"
      ]
     },
     "metadata": {},
     "execution_count": 6
    }
   ],
   "source": [
    "np.zeros(10, dtype=int) # default will be float"
   ]
  },
  {
   "cell_type": "code",
   "execution_count": 7,
   "id": "subject-request",
   "metadata": {},
   "outputs": [
    {
     "output_type": "execute_result",
     "data": {
      "text/plain": [
       "array([[1., 1., 1., 1.],\n",
       "       [1., 1., 1., 1.],\n",
       "       [1., 1., 1., 1.]])"
      ]
     },
     "metadata": {},
     "execution_count": 7
    }
   ],
   "source": [
    "np.ones((3,4)) # 2 D array"
   ]
  },
  {
   "cell_type": "code",
   "execution_count": 8,
   "id": "manufactured-found",
   "metadata": {},
   "outputs": [
    {
     "output_type": "execute_result",
     "data": {
      "text/plain": [
       "array([[[123, 123, 123, 123],\n",
       "        [123, 123, 123, 123],\n",
       "        [123, 123, 123, 123]],\n",
       "\n",
       "       [[123, 123, 123, 123],\n",
       "        [123, 123, 123, 123],\n",
       "        [123, 123, 123, 123]]])"
      ]
     },
     "metadata": {},
     "execution_count": 8
    }
   ],
   "source": [
    "np.full((2,3,4), 123) # start with some value."
   ]
  },
  {
   "cell_type": "code",
   "execution_count": 9,
   "id": "large-termination",
   "metadata": {},
   "outputs": [
    {
     "output_type": "execute_result",
     "data": {
      "text/plain": [
       "array([ 1,  3,  5,  7,  9, 11, 13, 15, 17, 19])"
      ]
     },
     "metadata": {},
     "execution_count": 9
    }
   ],
   "source": [
    "np.arange(1,20,2)"
   ]
  },
  {
   "cell_type": "code",
   "execution_count": 10,
   "id": "aggressive-notification",
   "metadata": {},
   "outputs": [
    {
     "output_type": "execute_result",
     "data": {
      "text/plain": [
       "array([1.        , 1.11111111, 1.22222222, 1.33333333, 1.44444444,\n",
       "       1.55555556, 1.66666667, 1.77777778, 1.88888889, 2.        ])"
      ]
     },
     "metadata": {},
     "execution_count": 10
    }
   ],
   "source": [
    "np.linspace(1,2,10) # linearly spaced numbers."
   ]
  },
  {
   "cell_type": "code",
   "execution_count": 11,
   "id": "better-elephant",
   "metadata": {},
   "outputs": [
    {
     "output_type": "execute_result",
     "data": {
      "text/plain": [
       "array([[0.34447042, 0.46465401, 0.57264347],\n",
       "       [0.63879384, 0.00937727, 0.72993168],\n",
       "       [0.97001281, 0.98843865, 0.49750511]])"
      ]
     },
     "metadata": {},
     "execution_count": 11
    }
   ],
   "source": [
    "np.random.random((3,3)) # random nos"
   ]
  },
  {
   "cell_type": "code",
   "execution_count": 12,
   "id": "dependent-concord",
   "metadata": {},
   "outputs": [
    {
     "output_type": "execute_result",
     "data": {
      "text/plain": [
       "array([[6, 1, 5],\n",
       "       [3, 3, 4],\n",
       "       [2, 8, 1]])"
      ]
     },
     "metadata": {},
     "execution_count": 12
    }
   ],
   "source": [
    "np.random.randint(1,10, (3,3))"
   ]
  },
  {
   "cell_type": "code",
   "execution_count": 13,
   "id": "incorporated-chosen",
   "metadata": {},
   "outputs": [
    {
     "output_type": "execute_result",
     "data": {
      "text/plain": [
       "array([[1., 0., 0.],\n",
       "       [0., 1., 0.],\n",
       "       [0., 0., 1.]])"
      ]
     },
     "metadata": {},
     "execution_count": 13
    }
   ],
   "source": [
    "np.eye(3) # identity matrix"
   ]
  },
  {
   "cell_type": "code",
   "execution_count": 14,
   "id": "round-township",
   "metadata": {},
   "outputs": [
    {
     "output_type": "stream",
     "name": "stdout",
     "text": [
      "dim  : 3\nshape: (3, 4, 5)\nsize : 60\n"
     ]
    }
   ],
   "source": [
    "# shape, dim and size\n",
    "\n",
    "x3 = np.random.randint(10, size=(3, 4, 5))  # Three-dimensional array\n",
    "print (f'dim  : {x3.ndim}')\n",
    "print (f'shape: {x3.shape}')\n",
    "print (f'size : {x3.size}')"
   ]
  },
  {
   "cell_type": "code",
   "execution_count": 15,
   "id": "mysterious-tuesday",
   "metadata": {},
   "outputs": [
    {
     "output_type": "stream",
     "name": "stdout",
     "text": [
      "array:  [0 1 2 3 4 5 6 7 8 9]\n[0 1 2 3 4]\n[5 6 7 8 9]\n3 7\n[2 4 6]\nreverse:  [9 8 7 6 5 4 3 2 1 0]\n[9, 8, 7, 6, 5, 4, 3, 2, 1, 0]\n"
     ]
    }
   ],
   "source": [
    "a = np.arange(10)\n",
    "print ('array: ', a)\n",
    "print (a[:5])\n",
    "print (a[5:])\n",
    "print (a[3], a[-3])\n",
    "print (a[2:8:2])\n",
    "print('reverse: ', a[:: -1])\n",
    "print ([ i for i in reversed(a) ])"
   ]
  },
  {
   "cell_type": "code",
   "execution_count": 16,
   "id": "bridal-execution",
   "metadata": {},
   "outputs": [
    {
     "output_type": "stream",
     "name": "stdout",
     "text": [
      "array :\n [[ 0  1  2  3  4  5]\n [ 6  7  8  9 10 11]\n [12 13 14 15 16 17]\n [18 19 20 21 22 23]]\n0\n[0 1 2 3 4 5]\n[ 2  8 14 20]\n[ 0 12]\n[0 2 4]\n[[ 0  2  4]\n [12 14 16]]\n"
     ]
    }
   ],
   "source": [
    "a = np.arange(24).reshape(4,6)\n",
    "print ('array :\\n', a)\n",
    "print (a[0,0])\n",
    "print (a[0])\n",
    "print (a[:,2])\n",
    "print (a[::2,0])\n",
    "print (a[0, ::2])\n",
    "print (a[::2, ::2])\n"
   ]
  },
  {
   "cell_type": "code",
   "execution_count": 17,
   "id": "empirical-jacksonville",
   "metadata": {},
   "outputs": [
    {
     "output_type": "stream",
     "name": "stdout",
     "text": [
      "a : [0 1 2 3 4 5 6 7 8 9]\na:  [100   1   2   3   4   5   6   7   8   9]\nTrue\n"
     ]
    }
   ],
   "source": [
    "a = np.arange(10)\n",
    "print ('a :', a)\n",
    "b = a ## This is shallow copy \n",
    "b[0] = 100 \n",
    "print ('a: ', a)\n",
    "print (np.may_share_memory(a,b)) # check if its deep or shallow copy"
   ]
  },
  {
   "cell_type": "code",
   "execution_count": 18,
   "id": "emotional-physics",
   "metadata": {},
   "outputs": [
    {
     "output_type": "stream",
     "name": "stdout",
     "text": [
      "a : [0 1 2 3 4 5 6 7 8 9]\na:  [0 1 2 3 4 5 6 7 8 9]\nFalse\n"
     ]
    }
   ],
   "source": [
    "a = np.arange(10)\n",
    "print ('a :', a)\n",
    "b = a.copy() ## This is deep copy \n",
    "b[0] = 100 \n",
    "print ('a: ', a)\n",
    "print (np.may_share_memory(a,b))"
   ]
  },
  {
   "cell_type": "raw",
   "id": "psychological-status",
   "metadata": {},
   "source": [
    "The following table lists the arithmetic operators implemented in NumPy:\n",
    "\n",
    "Operator\tEquivalent ufunc\tDescription\n",
    "+\tnp.add\tAddition (e.g., 1 + 1 = 2)\n",
    "-\tnp.subtract\tSubtraction (e.g., 3 - 2 = 1)\n",
    "-\tnp.negative\tUnary negation (e.g., -2)\n",
    "*\tnp.multiply\tMultiplication (e.g., 2 * 3 = 6)\n",
    "/\tnp.divide\tDivision (e.g., 3 / 2 = 1.5)\n",
    "//\tnp.floor_divide\tFloor division (e.g., 3 // 2 = 1)\n",
    "**\tnp.power\tExponentiation (e.g., 2 ** 3 = 8)\n",
    "%\tnp.mod\tModulus/remainder (e.g., 9 % 4 = 1)"
   ]
  },
  {
   "cell_type": "code",
   "execution_count": 19,
   "id": "inappropriate-keeping",
   "metadata": {},
   "outputs": [
    {
     "output_type": "stream",
     "name": "stdout",
     "text": [
      "a : [0 1 2 3 4 5 6 7 8 9]\n[10 11 12 13 14 15 16 17 18 19]\n[-2 -1  0  1  2  3  4  5  6  7]\n[ 0 -1 -2 -3 -4 -5 -6 -7 -8 -9]\n[0.  0.5 1.  1.5 2.  2.5 3.  3.5 4.  4.5]\n[0 0 1 1 2 2 3 3 4 4]\n[0 1 2 0 1 2 0 1 2 0]\n[ 2  4  6  8 10 12 14 16 18 20]\n[ 0  1  4  9 16 25 36 49 64 81]\n"
     ]
    }
   ],
   "source": [
    "# ufuncs - these are fast. use these instead of looping. \n",
    "# binary and unary ufuncs.\n",
    "a = np.arange(10)\n",
    "print ('a :', a)\n",
    "print (a+10)\n",
    "print (a-2)\n",
    "print (-a)\n",
    "print (a/2)\n",
    "print (a//2) # floor 2\n",
    "print (a % 3) # mod\n",
    "print (a*2 + 2)\n",
    "print (a**2)"
   ]
  },
  {
   "cell_type": "code",
   "execution_count": 20,
   "id": "chubby-referral",
   "metadata": {},
   "outputs": [
    {
     "output_type": "stream",
     "name": "stdout",
     "text": [
      "array : [0 1 2 3 4 5 6 7 8 9]\nreduce : 45\naccumulate:  [ 0  1  3  6 10 15 21 28 36 45]\n[  0  -1  -3  -6 -10 -15 -21 -28 -36 -45]\n"
     ]
    }
   ],
   "source": [
    "# Reduce and accumulate\n",
    "\n",
    "a = np.arange(10)\n",
    "print ('array :', a)\n",
    "print ('reduce :',np.add.reduce(a))\n",
    "print ('accumulate: ', np.add.accumulate(a))\n",
    "print (np.subtract.accumulate(a))"
   ]
  },
  {
   "cell_type": "code",
   "execution_count": 21,
   "id": "sharp-tournament",
   "metadata": {},
   "outputs": [
    {
     "output_type": "stream",
     "name": "stdout",
     "text": [
      "array:\n [ 0  1  2  3  4  5  6  7  8  9 10 11]\nreshapped:\n [[ 0  1  2  3]\n [ 4  5  6  7]\n [ 8  9 10 11]]\n"
     ]
    }
   ],
   "source": [
    "a = np.arange(12)\n",
    "print('array:\\n', a)\n",
    "a = a.reshape(3,4)\n",
    "print('reshapped:\\n', a)"
   ]
  },
  {
   "cell_type": "code",
   "execution_count": 22,
   "id": "cultural-service",
   "metadata": {},
   "outputs": [
    {
     "output_type": "stream",
     "name": "stdout",
     "text": [
      "transposed:\n [[ 0  4  8]\n [ 1  5  9]\n [ 2  6 10]\n [ 3  7 11]]\n"
     ]
    }
   ],
   "source": [
    "print ('transposed:\\n', a.T)"
   ]
  },
  {
   "cell_type": "code",
   "execution_count": 23,
   "id": "above-plane",
   "metadata": {},
   "outputs": [
    {
     "output_type": "execute_result",
     "data": {
      "text/plain": [
       "array([ 0,  5, 10])"
      ]
     },
     "metadata": {},
     "execution_count": 23
    }
   ],
   "source": [
    "# multi dimentional - Row, Col, ...\n",
    "a[[0,1,2],[0,1,2]] # gets (0,0) (1,1), (2,2)"
   ]
  },
  {
   "cell_type": "code",
   "execution_count": 24,
   "id": "complicated-charles",
   "metadata": {},
   "outputs": [
    {
     "output_type": "execute_result",
     "data": {
      "text/plain": [
       "array([[9.03203631, 8.42692579, 8.82909384, 9.06024561],\n",
       "       [9.28399259, 7.96671262, 7.92366686, 2.12327728],\n",
       "       [7.72258553, 3.07059179, 9.08503681, 1.88125918]])"
      ]
     },
     "metadata": {},
     "execution_count": 24
    }
   ],
   "source": [
    "b = np.random.rand(12).reshape(3,4)*10\n",
    "b"
   ]
  },
  {
   "cell_type": "code",
   "execution_count": 25,
   "id": "collect-ivory",
   "metadata": {},
   "outputs": [
    {
     "output_type": "execute_result",
     "data": {
      "text/plain": [
       "array([[ 9.03203631,  8.42692579,  8.82909384,  9.06024561],\n",
       "       [ 9.28399259,  7.96671262,  7.92366686,  7.        ],\n",
       "       [ 8.        ,  9.        , 10.        , 11.        ]])"
      ]
     },
     "metadata": {},
     "execution_count": 25
    }
   ],
   "source": [
    "np.maximum(a,b)"
   ]
  },
  {
   "cell_type": "code",
   "execution_count": 26,
   "id": "divine-athletics",
   "metadata": {},
   "outputs": [
    {
     "output_type": "execute_result",
     "data": {
      "text/plain": [
       "array([[ 9.03203631,  9.42692579, 10.82909384, 12.06024561],\n",
       "       [13.28399259, 12.96671262, 13.92366686,  9.12327728],\n",
       "       [15.72258553, 12.07059179, 19.08503681, 12.88125918]])"
      ]
     },
     "metadata": {},
     "execution_count": 26
    }
   ],
   "source": [
    "a+b"
   ]
  },
  {
   "cell_type": "code",
   "execution_count": 27,
   "id": "changing-platinum",
   "metadata": {},
   "outputs": [
    {
     "output_type": "execute_result",
     "data": {
      "text/plain": [
       "array([0. , 0.1, 0.2, 0.3, 0.4, 0.5, 0.6, 0.7, 0.8, 0.9, 1. , 1.1, 1.2,\n",
       "       1.3, 1.4, 1.5, 1.6, 1.7, 1.8, 1.9, 2. , 2.1, 2.2, 2.3, 2.4, 2.5,\n",
       "       2.6, 2.7, 2.8, 2.9, 3. , 3.1, 3.2, 3.3, 3.4, 3.5, 3.6, 3.7, 3.8,\n",
       "       3.9, 4. , 4.1, 4.2, 4.3, 4.4, 4.5, 4.6, 4.7, 4.8, 4.9, 5. , 5.1,\n",
       "       5.2, 5.3, 5.4, 5.5, 5.6, 5.7, 5.8, 5.9, 6. , 6.1, 6.2, 6.3, 6.4,\n",
       "       6.5, 6.6, 6.7, 6.8, 6.9, 7. , 7.1, 7.2, 7.3, 7.4, 7.5, 7.6, 7.7,\n",
       "       7.8, 7.9, 8. , 8.1, 8.2, 8.3, 8.4, 8.5, 8.6, 8.7, 8.8, 8.9, 9. ,\n",
       "       9.1, 9.2, 9.3, 9.4, 9.5, 9.6, 9.7, 9.8, 9.9])"
      ]
     },
     "metadata": {},
     "execution_count": 27
    }
   ],
   "source": [
    "np.arange(0,10,0.1)"
   ]
  },
  {
   "cell_type": "code",
   "execution_count": 28,
   "id": "wicked-think",
   "metadata": {},
   "outputs": [
    {
     "output_type": "execute_result",
     "data": {
      "text/plain": [
       "array([[7.38094721, 8.62465943, 3.31202145],\n",
       "       [8.64541519, 3.26739348, 9.13370256],\n",
       "       [4.62199233, 0.12835017, 4.86776413]])"
      ]
     },
     "metadata": {},
     "execution_count": 28
    }
   ],
   "source": [
    "c = np.random.rand(3,3)*10\n",
    "c"
   ]
  },
  {
   "cell_type": "code",
   "execution_count": 29,
   "id": "solar-model",
   "metadata": {},
   "outputs": [
    {
     "output_type": "execute_result",
     "data": {
      "text/plain": [
       "array([[ True,  True, False],\n",
       "       [ True, False,  True],\n",
       "       [False, False, False]])"
      ]
     },
     "metadata": {},
     "execution_count": 29
    }
   ],
   "source": [
    "c > 5"
   ]
  },
  {
   "cell_type": "raw",
   "id": "failing-choice",
   "metadata": {},
   "source": [
    "\n",
    "Function Name\tNaN-safe Version\tDescription\n",
    "np.sum\tnp.nansum\tCompute sum of elements\n",
    "np.prod\tnp.nanprod\tCompute product of elements\n",
    "np.mean\tnp.nanmean\tCompute mean of elements\n",
    "np.std\tnp.nanstd\tCompute standard deviation\n",
    "np.var\tnp.nanvar\tCompute variance\n",
    "np.min\tnp.nanmin\tFind minimum value\n",
    "np.max\tnp.nanmax\tFind maximum value\n",
    "np.argmin\tnp.nanargmin\tFind index of minimum value\n",
    "np.argmax\tnp.nanargmax\tFind index of maximum value\n",
    "np.median\tnp.nanmedian\tCompute median of elements\n",
    "np.percentile\tnp.nanpercentile\tCompute rank-based statistics of elements\n",
    "np.any\tN/A\tEvaluate whether any elements are true\n",
    "np.all\tN/A\tEvaluate whether all elements are true"
   ]
  },
  {
   "cell_type": "code",
   "execution_count": 30,
   "id": "alert-catholic",
   "metadata": {},
   "outputs": [
    {
     "output_type": "stream",
     "name": "stdout",
     "text": [
      "mean of array is 5.55358288240508\nstandard diviattion of array is 2.909182269664856\nvariance diviattion of array is 8.463341478132364\nmax  of array is 9.133702555989302\nmin  of array is 0.12835017204276156\nsum  of array is 49.98224594164572\n"
     ]
    },
    {
     "output_type": "execute_result",
     "data": {
      "text/plain": [
       "array([ 7.38094721, 16.00560664, 19.31762809, 27.96304327, 31.23043676,\n",
       "       40.36413931, 44.98613164, 45.11448181, 49.98224594])"
      ]
     },
     "metadata": {},
     "execution_count": 30
    }
   ],
   "source": [
    "print (f'mean of array is {c.mean()}')\n",
    "print (f'standard diviattion of array is {c.std()}')\n",
    "print (f'variance diviattion of array is {c.var()}')\n",
    "\n",
    "print (f'max  of array is {c.max()}')\n",
    "print (f'min  of array is {c.min()}')\n",
    "print (f'sum  of array is {c.sum()}')\n",
    "c.cumsum()"
   ]
  },
  {
   "cell_type": "code",
   "execution_count": 31,
   "id": "useful-basic",
   "metadata": {},
   "outputs": [
    {
     "output_type": "execute_result",
     "data": {
      "text/plain": [
       "array([9.71311584, 6.98570882, 8.75115666, 8.52445854, 3.76060542,\n",
       "       7.29246778, 3.79863167, 8.15692291, 0.25206676, 7.43989509])"
      ]
     },
     "metadata": {},
     "execution_count": 31
    }
   ],
   "source": [
    "d = np.random.rand(10)*10\n",
    "d"
   ]
  },
  {
   "cell_type": "code",
   "execution_count": 32,
   "id": "answering-indication",
   "metadata": {},
   "outputs": [
    {
     "output_type": "execute_result",
     "data": {
      "text/plain": [
       "array([0.25206676, 3.76060542, 3.79863167, 6.98570882, 7.29246778,\n",
       "       7.43989509, 8.15692291, 8.52445854, 8.75115666, 9.71311584])"
      ]
     },
     "metadata": {},
     "execution_count": 32
    }
   ],
   "source": [
    "d.sort() # inline sort\n",
    "d"
   ]
  },
  {
   "cell_type": "code",
   "execution_count": 33,
   "id": "understanding-suggestion",
   "metadata": {},
   "outputs": [
    {
     "output_type": "execute_result",
     "data": {
      "text/plain": [
       "array([0.54915668, 1.36020405, 2.27979528, 4.75603767, 5.3856947 ,\n",
       "       5.94317616, 6.24615673, 7.01219439, 8.3486116 , 9.11497636])"
      ]
     },
     "metadata": {},
     "execution_count": 33
    }
   ],
   "source": [
    "d = np.random.rand(10)*10\n",
    "np.sort(d) # non-inline sort"
   ]
  },
  {
   "cell_type": "code",
   "execution_count": 34,
   "id": "returning-orchestra",
   "metadata": {},
   "outputs": [
    {
     "output_type": "execute_result",
     "data": {
      "text/plain": [
       "array([1, 2, 3, 4, 5])"
      ]
     },
     "metadata": {},
     "execution_count": 34
    }
   ],
   "source": [
    "e = np.array([1,1,2,2,3,3,4,5])\n",
    "e\n",
    "np.unique(e)"
   ]
  },
  {
   "cell_type": "code",
   "execution_count": 35,
   "id": "planned-incidence",
   "metadata": {},
   "outputs": [
    {
     "output_type": "execute_result",
     "data": {
      "text/plain": [
       "array([ True,  True, False, False, False])"
      ]
     },
     "metadata": {},
     "execution_count": 35
    }
   ],
   "source": [
    "# testing membership\n",
    "np.in1d([2,4,6,8,10],e)"
   ]
  },
  {
   "cell_type": "code",
   "execution_count": 36,
   "id": "looking-stewart",
   "metadata": {},
   "outputs": [
    {
     "output_type": "execute_result",
     "data": {
      "text/plain": [
       "array([ 1,  2,  3,  4,  5,  8, 10])"
      ]
     },
     "metadata": {},
     "execution_count": 36
    }
   ],
   "source": [
    "np.union1d([2,4,8,10], e)"
   ]
  },
  {
   "cell_type": "code",
   "execution_count": 37,
   "id": "analyzed-stupid",
   "metadata": {},
   "outputs": [],
   "source": [
    "np.save('sample-nparray',e)"
   ]
  },
  {
   "cell_type": "code",
   "execution_count": 38,
   "id": "instructional-maximum",
   "metadata": {},
   "outputs": [
    {
     "output_type": "execute_result",
     "data": {
      "text/plain": [
       "array([1, 1, 2, 2, 3, 3, 4, 5])"
      ]
     },
     "metadata": {},
     "execution_count": 38
    }
   ],
   "source": [
    "np.load('sample-nparray.npy')"
   ]
  },
  {
   "cell_type": "code",
   "execution_count": 39,
   "id": "primary-browse",
   "metadata": {},
   "outputs": [
    {
     "output_type": "execute_result",
     "data": {
      "text/plain": [
       "array([[2.27339165, 4.01043983, 5.27942052],\n",
       "       [8.66838717, 1.13691095, 5.8152069 ],\n",
       "       [0.43124041, 6.02999471, 9.28909131]])"
      ]
     },
     "metadata": {},
     "execution_count": 39
    }
   ],
   "source": [
    "n = np.random.rand(3,3)*10\n",
    "n"
   ]
  },
  {
   "cell_type": "code",
   "execution_count": 40,
   "id": "grateful-slovenia",
   "metadata": {},
   "outputs": [
    {
     "output_type": "execute_result",
     "data": {
      "text/plain": [
       "array([2.27339165, 1.13691095, 9.28909131])"
      ]
     },
     "metadata": {},
     "execution_count": 40
    }
   ],
   "source": [
    "np.diag(n)"
   ]
  },
  {
   "cell_type": "code",
   "execution_count": 41,
   "id": "harmful-simple",
   "metadata": {},
   "outputs": [
    {
     "output_type": "stream",
     "name": "stdout",
     "text": [
      "[58.76884181 75.01719341 94.12316269]\n[58.76884181 75.01719341 94.12316269]\n[58.76884181 75.01719341 94.12316269]\n"
     ]
    }
   ],
   "source": [
    "A = np.dot(n, np.diag(n)) # matrix mult - multiple ways ...\n",
    "print(A)\n",
    "\n",
    "A1 = n.dot(np.diag(n))\n",
    "print (A1)\n",
    "\n",
    "A2 = n @ np.diag(n)\n",
    "print (A2)"
   ]
  },
  {
   "cell_type": "code",
   "execution_count": 42,
   "id": "contemporary-conference",
   "metadata": {},
   "outputs": [
    {
     "output_type": "execute_result",
     "data": {
      "text/plain": [
       "(array([-3.80746096,  1.68737731, 14.81947756]),\n",
       " array([[ 0.23678754, -0.43042401,  0.46645407],\n",
       "        [-0.88545001, -0.69511117,  0.57952954],\n",
       "        [ 0.39988742,  0.57580868,  0.66825602]]))"
      ]
     },
     "metadata": {},
     "execution_count": 42
    }
   ],
   "source": [
    "np.linalg.eig(n) # eigen value"
   ]
  },
  {
   "cell_type": "code",
   "execution_count": 43,
   "id": "supreme-incidence",
   "metadata": {},
   "outputs": [
    {
     "output_type": "execute_result",
     "data": {
      "text/plain": [
       "array([[ 0.25737749,  0.05691092, -0.18190722],\n",
       "       [ 0.81938923, -0.19789025, -0.34181251],\n",
       "       [-0.54385344,  0.12581799,  0.33798498]])"
      ]
     },
     "metadata": {},
     "execution_count": 43
    }
   ],
   "source": [
    "np.linalg.inv(n) # inverse of matrix"
   ]
  },
  {
   "cell_type": "code",
   "execution_count": 44,
   "id": "protecting-growing",
   "metadata": {},
   "outputs": [
    {
     "output_type": "stream",
     "name": "stdout",
     "text": [
      "array : [9 7 4 4 6 1 5 4 8 6]\nsorted indices:  [5 2 3 7 6 4 9 1 8 0]\nsorted : [1 4 4 4 5 6 6 7 8 9]\n"
     ]
    }
   ],
   "source": [
    "a = np.random.randint(10, size = (10))\n",
    "print ('array :',a)\n",
    "\n",
    "i = a.argsort()\n",
    "print ('sorted indices: ', i)\n",
    "\n",
    "a.sort() # in place sort - quick sort. O ( N log N )\n",
    "print ('sorted :', a)"
   ]
  },
  {
   "cell_type": "code",
   "execution_count": 45,
   "id": "incredible-packet",
   "metadata": {},
   "outputs": [
    {
     "output_type": "stream",
     "name": "stdout",
     "text": [
      "array:  [0 1 2 3 4 5 6 7 8 9]\nmastk_mult_3 :\n [ True False False  True False False  True False False  True]\n"
     ]
    }
   ],
   "source": [
    "x = np.arange(10)\n",
    "print ('array: ', x)\n",
    "mask_mult_3 = ( x / 3 ) == ( x // 3 ) # check if element is multiple of 3\n",
    "print ('mastk_mult_3 :\\n', mask_mult_3)"
   ]
  },
  {
   "cell_type": "code",
   "execution_count": 46,
   "id": "framed-retention",
   "metadata": {},
   "outputs": [
    {
     "output_type": "stream",
     "name": "stdout",
     "text": [
      "m2 : [ True False  True False  True False  True False  True False]\nm3 : [ True False False  True False False  True False False  True]\nm : [ True False  True  True  True False  True False  True  True]\n"
     ]
    }
   ],
   "source": [
    "x = np.arange(10)\n",
    "m2 = x % 2 == 0\n",
    "m3 = x % 3 == 0\n",
    "print ('m2 :', m2)\n",
    "print ('m3 :', m3)\n",
    "print ('m :', m2 | m3)"
   ]
  },
  {
   "cell_type": "code",
   "execution_count": 47,
   "id": "insured-rehabilitation",
   "metadata": {},
   "outputs": [
    {
     "output_type": "stream",
     "name": "stdout",
     "text": [
      "array    :  [ 0  1  2  3  4  5  6  7  8  9 10 11 12 13 14 15 16 17 18 19]\nmask     :  [ True  True  True  True  True  True False  True  True False  True  True\n False  True  True False  True  True False  True]\nfiltered :  [ 0  1  2  3  4  5  7  8 10 11 13 14 16 17 19]\n"
     ]
    }
   ],
   "source": [
    "x = np.arange(20)\n",
    "print ('array    : ', x)\n",
    "i = 3\n",
    "m = ( x <= i ) | (x % i != 0)\n",
    "print ('mask     : ', m)\n",
    "print ('filtered : ', x[m])\n"
   ]
  },
  {
   "cell_type": "code",
   "execution_count": 48,
   "id": "adapted-seeker",
   "metadata": {},
   "outputs": [
    {
     "output_type": "stream",
     "name": "stdout",
     "text": [
      "A:\n [[6 1 3 9]\n [0 3 7 3]\n [8 0 1 9]]\nB:\n [[18 19 18 11]\n [12 11 19 16]\n [19 10 19 12]]\nmyfunc(6,18): 132\nmyfunc(1,19): 39\nmyfunc(3,18): 75\nmyfunc(9,11): 119\nmyfunc(0,12): 12\nmyfunc(3,11): 47\nmyfunc(7,19): 159\nmyfunc(3,16): 67\nmyfunc(8,19): 179\nmyfunc(0,10): 10\nmyfunc(1,19): 39\nmyfunc(9,12): 129\nC:\n [[132 39 75 119]\n [12 47 159 67]\n [179 10 39 129]]\n"
     ]
    }
   ],
   "source": [
    "# ref: https://numpy.org/doc/stable/reference/generated/numpy.frompyfunc.html\n",
    "def myfunc(x, y):\n",
    "    o = x*y + x + y\n",
    "    print (f'myfunc({x},{y}): {o}')\n",
    "    return o\n",
    "\n",
    "A = rng.integers(0,10,size = (3,4))\n",
    "B = rng.integers(10,20,size = A.shape)\n",
    "print ('A:\\n', A)\n",
    "print ('B:\\n', B)\n",
    "\n",
    "myfunc_ptr = np.frompyfunc(myfunc, 2, 1) # 2 is no. input args, 1 is num out args\n",
    "C = myfunc_ptr (A, B)\n",
    "print (\"C:\\n\", C)"
   ]
  },
  {
   "cell_type": "code",
   "execution_count": 49,
   "id": "polar-indianapolis",
   "metadata": {},
   "outputs": [
    {
     "output_type": "stream",
     "name": "stdout",
     "text": [
      "[[ 0  1  2  3]\n [ 4  5  6  7]\n [ 8  9 10 11]]\n[[ 3  4  5  6]\n [ 7  8  9 10]\n [11 12 13 14]]\n[[ 1  2  4  5]\n [ 5  6  8  9]\n [ 9 10 12 13]]\n"
     ]
    }
   ],
   "source": [
    "# broadcasting\n",
    "A = np.arange(12).reshape(3,4)\n",
    "print (A)\n",
    "print (A+3)\n",
    "B = [1, 1, 2, 2]\n",
    "print (A+B)"
   ]
  },
  {
   "cell_type": "code",
   "execution_count": 50,
   "id": "insured-hygiene",
   "metadata": {},
   "outputs": [
    {
     "output_type": "stream",
     "name": "stdout",
     "text": [
      "A:\n [[ 0  1  2  3]\n [ 4  5  6  7]\n [ 8  9 10 11]]\nMax(A) : 11\ncolmax(A) : [ 8  9 10 11]\nrowmax(A) : [ 3  7 11]\n"
     ]
    }
   ],
   "source": [
    "A = np.arange(12).reshape(3,4)\n",
    "print (\"A:\\n\", A)\n",
    "print (f'Max(A) : {A.max()}')\n",
    "print (f'colmax(A) : {np.max(A, axis = 0)}')\n",
    "print (f'rowmax(A) : {np.max(A, axis = 1)}')"
   ]
  },
  {
   "cell_type": "code",
   "execution_count": 51,
   "id": "olympic-province",
   "metadata": {},
   "outputs": [
    {
     "output_type": "stream",
     "name": "stdout",
     "text": [
      "[[ 0  1  2  3]\n [ 4  5  6  7]\n [ 8  9 10 11]]\nncols 4\n[0 0 0]\n[1 5 9]\n[ 4 12 20]\n[ 9 21 33]\n"
     ]
    }
   ],
   "source": [
    "A = np.arange(12).reshape(3,4)\n",
    "nc = A.shape[1]\n",
    "print(A)\n",
    "print (f'ncols {nc}')\n",
    "for n in range(nc):\n",
    "    C = A[:,n]*n\n",
    "    print (C)\n"
   ]
  },
  {
   "cell_type": "code",
   "execution_count": 52,
   "id": "written-adult",
   "metadata": {},
   "outputs": [
    {
     "output_type": "stream",
     "name": "stdout",
     "text": [
      "[[0 1 2]\n [3 4 5]\n [6 7 8]]\n"
     ]
    }
   ],
   "source": [
    "L = [0, 1, 2, 3, 4, 5, 6, 7, 8 ]\n",
    "A = np.array(L).reshape(3,3)\n",
    "print (A)"
   ]
  },
  {
   "cell_type": "code",
   "execution_count": 53,
   "id": "asian-heather",
   "metadata": {},
   "outputs": [
    {
     "output_type": "stream",
     "name": "stdout",
     "text": [
      "[0 1 2 3 4 5 6 7 8 9]\n[1 1 1 1 1 1 0 0 0 0]\n[0. 1. 0. 1. 0. 1. 0. 1. 0. 1.]\n[ 0  3  3  9  3  3 18  3  3 27]\n"
     ]
    }
   ],
   "source": [
    "# np.where - ternary operation\n",
    "a = np.arange(10)\n",
    "print(a)\n",
    "b = np.zeros(10)\n",
    "c = np.ones(10)\n",
    "# like if-then-else - can be scalar\n",
    "a1 = np.where(a > 5, 0, 1)\n",
    "print(a1)\n",
    "\n",
    "# or array\n",
    "a2 = np.where(a%2==0, b, c)\n",
    "print(a2)\n",
    "\n",
    "# or combination of them\n",
    "a3 = np.where(a%3==0, a*3, 3)\n",
    "print(a3)"
   ]
  },
  {
   "cell_type": "code",
   "execution_count": 54,
   "id": "informed-chosen",
   "metadata": {},
   "outputs": [
    {
     "output_type": "stream",
     "name": "stdout",
     "text": [
      "[ 1  3  5  7  9 11 13 15 17 19]\nTrue False\nFalse True\n"
     ]
    }
   ],
   "source": [
    "a = np.arange(1, 20, 2)\n",
    "print(a)\n",
    "print(np.any(a>10), np.any(a<0))\n",
    "print(np.all(a>1), np.all(a<20))\n"
   ]
  },
  {
   "cell_type": "code",
   "execution_count": 55,
   "id": "greenhouse-victoria",
   "metadata": {},
   "outputs": [
    {
     "output_type": "stream",
     "name": "stdout",
     "text": [
      "[0 1 2 3 4 5 6 7 8 9]\n45\n[False False False False False False  True  True  True  True]\n4\n5\n"
     ]
    }
   ],
   "source": [
    "# sum on boolean - count # True\n",
    "a = np.arange(10)\n",
    "print(a)\n",
    "print(a.sum())\n",
    "\n",
    "b = a>5\n",
    "print (b)\n",
    "print (b.sum()) # number of true values.\n",
    "\n",
    "# so to count # entries matching a conditon... use chain\n",
    "print ((a%2 == 0).sum())"
   ]
  },
  {
   "source": [
    "## Concat / stacking"
   ],
   "cell_type": "markdown",
   "metadata": {}
  },
  {
   "cell_type": "code",
   "execution_count": 64,
   "metadata": {},
   "outputs": [
    {
     "output_type": "display_data",
     "data": {
      "text/plain": "array([[ 0,  1,  2,  3],\n       [ 4,  5,  6,  7],\n       [ 8,  9, 10, 11]])"
     },
     "metadata": {}
    },
    {
     "output_type": "display_data",
     "data": {
      "text/plain": "array([[ 0,  1,  2,  3],\n       [ 4,  5,  6,  7],\n       [ 8,  9, 10, 11],\n       [ 0,  1,  2,  3],\n       [ 4,  5,  6,  7],\n       [ 8,  9, 10, 11]])"
     },
     "metadata": {}
    },
    {
     "output_type": "display_data",
     "data": {
      "text/plain": "array([[ 0,  1,  2,  3,  0,  1,  2,  3],\n       [ 4,  5,  6,  7,  4,  5,  6,  7],\n       [ 8,  9, 10, 11,  8,  9, 10, 11]])"
     },
     "metadata": {}
    }
   ],
   "source": [
    "a = np.arange(12).reshape(3,4)\n",
    "display(a)\n",
    "\n",
    "a1 = np.concatenate([a,a])\n",
    "display(a1)\n",
    "\n",
    "a2 = np.concatenate([a,a], axis =1 )\n",
    "display(a2)"
   ]
  },
  {
   "cell_type": "code",
   "execution_count": 68,
   "metadata": {},
   "outputs": [
    {
     "output_type": "error",
     "ename": "TypeError",
     "evalue": "cannot concatenate object of type '<class 'numpy.ndarray'>'; only Series and DataFrame objs are valid",
     "traceback": [
      "\u001b[0;31m---------------------------------------------------------------------------\u001b[0m",
      "\u001b[0;31mTypeError\u001b[0m                                 Traceback (most recent call last)",
      "\u001b[0;32m<ipython-input-68-92576109bd28>\u001b[0m in \u001b[0;36m<module>\u001b[0;34m\u001b[0m\n\u001b[0;32m----> 1\u001b[0;31m \u001b[0mpd\u001b[0m\u001b[0;34m.\u001b[0m\u001b[0mconcat\u001b[0m\u001b[0;34m(\u001b[0m\u001b[0;34m[\u001b[0m\u001b[0ma\u001b[0m\u001b[0;34m,\u001b[0m\u001b[0ma\u001b[0m\u001b[0;34m]\u001b[0m\u001b[0;34m)\u001b[0m\u001b[0;34m\u001b[0m\u001b[0;34m\u001b[0m\u001b[0m\n\u001b[0m",
      "\u001b[0;32m/opt/anaconda3/lib/python3.7/site-packages/pandas/core/reshape/concat.py\u001b[0m in \u001b[0;36mconcat\u001b[0;34m(objs, axis, join, ignore_index, keys, levels, names, verify_integrity, sort, copy)\u001b[0m\n\u001b[1;32m    279\u001b[0m         \u001b[0mverify_integrity\u001b[0m\u001b[0;34m=\u001b[0m\u001b[0mverify_integrity\u001b[0m\u001b[0;34m,\u001b[0m\u001b[0;34m\u001b[0m\u001b[0;34m\u001b[0m\u001b[0m\n\u001b[1;32m    280\u001b[0m         \u001b[0mcopy\u001b[0m\u001b[0;34m=\u001b[0m\u001b[0mcopy\u001b[0m\u001b[0;34m,\u001b[0m\u001b[0;34m\u001b[0m\u001b[0;34m\u001b[0m\u001b[0m\n\u001b[0;32m--> 281\u001b[0;31m         \u001b[0msort\u001b[0m\u001b[0;34m=\u001b[0m\u001b[0msort\u001b[0m\u001b[0;34m,\u001b[0m\u001b[0;34m\u001b[0m\u001b[0;34m\u001b[0m\u001b[0m\n\u001b[0m\u001b[1;32m    282\u001b[0m     )\n\u001b[1;32m    283\u001b[0m \u001b[0;34m\u001b[0m\u001b[0m\n",
      "\u001b[0;32m/opt/anaconda3/lib/python3.7/site-packages/pandas/core/reshape/concat.py\u001b[0m in \u001b[0;36m__init__\u001b[0;34m(self, objs, axis, join, keys, levels, names, ignore_index, verify_integrity, copy, sort)\u001b[0m\n\u001b[1;32m    355\u001b[0m                     \u001b[0;34m\"only Series and DataFrame objs are valid\"\u001b[0m\u001b[0;34m.\u001b[0m\u001b[0mformat\u001b[0m\u001b[0;34m(\u001b[0m\u001b[0mtyp\u001b[0m\u001b[0;34m=\u001b[0m\u001b[0mtype\u001b[0m\u001b[0;34m(\u001b[0m\u001b[0mobj\u001b[0m\u001b[0;34m)\u001b[0m\u001b[0;34m)\u001b[0m\u001b[0;34m\u001b[0m\u001b[0;34m\u001b[0m\u001b[0m\n\u001b[1;32m    356\u001b[0m                 )\n\u001b[0;32m--> 357\u001b[0;31m                 \u001b[0;32mraise\u001b[0m \u001b[0mTypeError\u001b[0m\u001b[0;34m(\u001b[0m\u001b[0mmsg\u001b[0m\u001b[0;34m)\u001b[0m\u001b[0;34m\u001b[0m\u001b[0;34m\u001b[0m\u001b[0m\n\u001b[0m\u001b[1;32m    358\u001b[0m \u001b[0;34m\u001b[0m\u001b[0m\n\u001b[1;32m    359\u001b[0m             \u001b[0;31m# consolidate\u001b[0m\u001b[0;34m\u001b[0m\u001b[0;34m\u001b[0m\u001b[0;34m\u001b[0m\u001b[0m\n",
      "\u001b[0;31mTypeError\u001b[0m: cannot concatenate object of type '<class 'numpy.ndarray'>'; only Series and DataFrame objs are valid"
     ]
    }
   ],
   "source": [
    "\n",
    "pd.concat([a,a])"
   ]
  },
  {
   "cell_type": "code",
   "execution_count": null,
   "metadata": {},
   "outputs": [],
   "source": []
  }
 ],
 "metadata": {
  "kernelspec": {
   "display_name": "Python 3",
   "language": "python",
   "name": "python3"
  },
  "language_info": {
   "codemirror_mode": {
    "name": "ipython",
    "version": 3
   },
   "file_extension": ".py",
   "mimetype": "text/x-python",
   "name": "python",
   "nbconvert_exporter": "python",
   "pygments_lexer": "ipython3",
   "version": "3.7.6-final"
  }
 },
 "nbformat": 4,
 "nbformat_minor": 5
}