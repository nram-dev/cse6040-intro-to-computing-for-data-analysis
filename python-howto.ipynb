{
 "cells": [
  {
   "cell_type": "markdown",
   "id": "advisory-license",
   "metadata": {},
   "source": [
    "# Python Howto"
   ]
  },
  {
   "cell_type": "markdown",
   "id": "therapeutic-distribution",
   "metadata": {},
   "source": [
    "## Dictionoary"
   ]
  },
  {
   "cell_type": "markdown",
   "id": "recorded-operation",
   "metadata": {},
   "source": [
    "### dict: sorting by value"
   ]
  },
  {
   "cell_type": "code",
   "execution_count": 9,
   "id": "terminal-sensitivity",
   "metadata": {},
   "outputs": [],
   "source": [
    "\n"
   ]
  },
  {
   "cell_type": "code",
   "execution_count": 17,
   "id": "graphic-saskatchewan",
   "metadata": {},
   "outputs": [
    {
     "name": "stdout",
     "output_type": "stream",
     "text": [
      "[{'first': 'bob', 'last': 'vance', 'yob': 1965},\n",
      " {'first': 'mary', 'last': 'lou', 'yob': 1988},\n",
      " {'first': 'alex', 'last': 'blah', 'yob': 1960}]\n",
      "sorted by last name\n"
     ]
    },
    {
     "data": {
      "text/plain": [
       "[{'first': 'alex', 'last': 'blah', 'yob': 1960},\n",
       " {'first': 'mary', 'last': 'lou', 'yob': 1988},\n",
       " {'first': 'bob', 'last': 'vance', 'yob': 1965}]"
      ]
     },
     "execution_count": 17,
     "metadata": {},
     "output_type": "execute_result"
    }
   ],
   "source": [
    "d = [ {'first': 'bob', 'last': 'vance', 'yob': 1965 },\n",
    "     {'first': 'mary', 'last': 'lou', 'yob': 1988 },\n",
    "     {'first': 'alex', 'last': 'blah', 'yob': 1960 }\n",
    "    ]\n",
    "pp.pprint(d)\n",
    "print('sorted by last name')\n",
    "sorted(d, key=lambda item: item['last']) # item can be any string."
   ]
  },
  {
   "cell_type": "code",
   "execution_count": 2,
   "id": "former-macro",
   "metadata": {},
   "outputs": [
    {
     "data": {
      "text/plain": [
       "(20, 10)"
      ]
     },
     "execution_count": 2,
     "metadata": {},
     "output_type": "execute_result"
    }
   ],
   "source": [
    "# swap two variables\n",
    "a = 10; b = 20\n",
    "b, a = a, b\n",
    "a, b"
   ]
  },
  {
   "cell_type": "code",
   "execution_count": 5,
   "id": "grateful-preference",
   "metadata": {},
   "outputs": [
    {
     "data": {
      "text/plain": [
       "(0, 1)"
      ]
     },
     "execution_count": 5,
     "metadata": {},
     "output_type": "execute_result"
    }
   ],
   "source": [
    "# throwing away elements with assignment / function return\n",
    "a = tuple(range(10))\n",
    "b, c, *_ = a\n",
    "b,c"
   ]
  },
  {
   "cell_type": "code",
   "execution_count": 13,
   "id": "alternate-contributor",
   "metadata": {},
   "outputs": [
    {
     "data": {
      "text/plain": [
       "4"
      ]
     },
     "execution_count": 13,
     "metadata": {},
     "output_type": "execute_result"
    }
   ],
   "source": [
    "# count number of occurance\n",
    "a = (1, 2, 2, 3, 3, 3, 4, 4, 4, 4)\n",
    "a.count(4)"
   ]
  },
  {
   "cell_type": "code",
   "execution_count": 15,
   "id": "smart-spider",
   "metadata": {},
   "outputs": [
    {
     "data": {
      "text/plain": [
       "[0, 1, 2, 3, 4, 5, 6, 7, 8, 9]"
      ]
     },
     "execution_count": 15,
     "metadata": {},
     "output_type": "execute_result"
    }
   ],
   "source": [
    "# creating dummy list\n",
    "a = list(range(10))\n",
    "a"
   ]
  },
  {
   "cell_type": "code",
   "execution_count": 18,
   "id": "constant-trial",
   "metadata": {},
   "outputs": [
    {
     "data": {
      "text/plain": [
       "['a', 'is', 'this', 'neat', 'hello', 'trick']"
      ]
     },
     "execution_count": 18,
     "metadata": {},
     "output_type": "execute_result"
    }
   ],
   "source": [
    "# sorting by length of entry\n",
    "a = ['hello', 'this', 'is', 'a', 'neat', 'trick']\n",
    "a.sort(key=len) # inline sorting\n",
    "a"
   ]
  },
  {
   "cell_type": "code",
   "execution_count": 20,
   "id": "arctic-fundamental",
   "metadata": {},
   "outputs": [
    {
     "data": {
      "text/plain": [
       "[9, 8, 7, 6, 5, 4, 3, 2, 1, 0]"
      ]
     },
     "execution_count": 20,
     "metadata": {},
     "output_type": "execute_result"
    }
   ],
   "source": [
    "# reverse list\n",
    "a = list(range(10))\n",
    "a[::-1]"
   ]
  },
  {
   "cell_type": "code",
   "execution_count": null,
   "id": "lyric-focus",
   "metadata": {},
   "outputs": [],
   "source": []
  }
 ],
 "metadata": {
  "kernelspec": {
   "display_name": "Python 3",
   "language": "python",
   "name": "python3"
  },
  "language_info": {
   "codemirror_mode": {
    "name": "ipython",
    "version": 3
   },
   "file_extension": ".py",
   "mimetype": "text/x-python",
   "name": "python",
   "nbconvert_exporter": "python",
   "pygments_lexer": "ipython3",
   "version": "3.8.5"
  }
 },
 "nbformat": 4,
 "nbformat_minor": 5
}
