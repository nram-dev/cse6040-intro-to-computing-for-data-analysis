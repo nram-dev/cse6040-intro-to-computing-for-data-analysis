{
 "cells": [
  {
   "cell_type": "markdown",
   "id": "pleased-tenant",
   "metadata": {},
   "source": [
    "**Reference**\n",
    "- https://docs.github.com/en/github/writing-on-github/basic-writing-and-formatting-syntax \n",
    "- https://github.github.com/gfm/"
   ]
  },
  {
   "cell_type": "markdown",
   "id": "greenhouse-theology",
   "metadata": {},
   "source": [
    "# Title\n",
    "## Subtitle\n",
    "### Sub Sub title\n",
    "#### Sub sub sub title\n",
    "###### and so on"
   ]
  },
  {
   "cell_type": "markdown",
   "id": "cosmetic-carter",
   "metadata": {},
   "source": [
    "## Lists\n",
    "### Bulletted list\n",
    "- one\n",
    "- two\n",
    "### numbered list\n",
    "1. one\n",
    "1. two\n",
    "1. three\n",
    "\n",
    "### nested list\n",
    "- one\n",
    "    - one.one\n",
    "    - one.two\n",
    "- two\n",
    "    - two.one\n",
    "        - two.one.one\n",
    "        - two.one.two\n",
    "    - two.two\n",
    "        - two.two.one\n",
    "- three\n",
    "\n",
    "### Tasks list\n",
    "- [x] done\n",
    "- [ ] not done\n",
    "- [ ] will never be done\n",
    "\n",
    "1. [x] Task 1\n",
    "1. [ ] Task 2\n"
   ]
  },
  {
   "cell_type": "markdown",
   "id": "excess-tampa",
   "metadata": {},
   "source": [
    "## Formatting\n",
    "This is **bold** and __bold__\n",
    "\n",
    "This is *Italics* and _so is this_\n",
    "\n",
    "This is ***Bold and italics*** and ___so is this___"
   ]
  },
  {
   "cell_type": "markdown",
   "id": "patient-bottom",
   "metadata": {},
   "source": [
    "## Quoting\n",
    "and he said\n",
    "> let there be quote\n",
    "this is still part of the quote\n",
    "\n",
    "blah\n",
    "\n",
    "you can `quote a command` like this\n",
    "\n",
    "Or a block like\n",
    "``` python\n",
    "import something\n",
    "while (True):\n",
    "    print(\"hello\")\n",
    "```\n",
    "like above"
   ]
  },
  {
   "cell_type": "markdown",
   "id": "grave-offset",
   "metadata": {},
   "source": [
    "## links\n",
    "you can [link to my page](https://nram.dev)\n",
    "\n",
    "you can do [relative link](python-howto.ipynb) like that"
   ]
  },
  {
   "cell_type": "markdown",
   "id": "muslim-offense",
   "metadata": {},
   "source": [
    "### Emoji (not working)\n",
    "Hello world :-): plus one :+1: and ship it :shipit:"
   ]
  },
  {
   "cell_type": "markdown",
   "id": "circular-shuttle",
   "metadata": {},
   "source": [
    "## Escape chars\n",
    "```\n",
    "\\   backslash\n",
    "`   backtick\n",
    "*   asterisk\n",
    "_   underscore\n",
    "{}  curly braces\n",
    "[]  square brackets\n",
    "()  parentheses\n",
    "#   hash mark\n",
    "+   plus sign\n",
    "-   minus sign (hyphen)\n",
    ".   dot\n",
    "!   exclamation mark\n",
    "```\n",
    "\n",
    "This is \\\\ backlash and \\` backtick for eg."
   ]
  },
  {
   "cell_type": "markdown",
   "id": "international-birth",
   "metadata": {},
   "source": []
  }
 ],
 "metadata": {
  "kernelspec": {
   "display_name": "Python 3",
   "language": "python",
   "name": "python3"
  },
  "language_info": {
   "codemirror_mode": {
    "name": "ipython",
    "version": 3
   },
   "file_extension": ".py",
   "mimetype": "text/x-python",
   "name": "python",
   "nbconvert_exporter": "python",
   "pygments_lexer": "ipython3",
   "version": "3.8.5"
  }
 },
 "nbformat": 4,
 "nbformat_minor": 5
}
