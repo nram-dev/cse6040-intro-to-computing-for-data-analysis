{
 "cells": [
  {
   "cell_type": "markdown",
   "id": "disabled-cartoon",
   "metadata": {},
   "source": [
    "# Python Recipies\n",
    "### Random working algorithms "
   ]
  },
  {
   "cell_type": "code",
   "execution_count": 13,
   "id": "efficient-frost",
   "metadata": {},
   "outputs": [],
   "source": [
    "import random"
   ]
  },
  {
   "cell_type": "markdown",
   "id": "rotary-railway",
   "metadata": {},
   "source": [
    "## Fibonacci series"
   ]
  },
  {
   "cell_type": "code",
   "execution_count": 2,
   "id": "fatal-relations",
   "metadata": {},
   "outputs": [
    {
     "name": "stdout",
     "output_type": "stream",
     "text": [
      "Fibonacci (10) :\n",
      "[1, 1, 2, 3, 5, 8, 13, 21, 34, 55]\n"
     ]
    }
   ],
   "source": [
    "def fib(n):\n",
    "    a,b = 0, 1\n",
    "    L = []\n",
    "    while len(L) < n:\n",
    "        a, b = b, a+b\n",
    "        L.append(a)\n",
    "    return L\n",
    "\n",
    "n=10\n",
    "print (f'Fibonacci ({n}) :\\n{fib(n)}')"
   ]
  },
  {
   "cell_type": "markdown",
   "id": "palestinian-stanley",
   "metadata": {},
   "source": [
    "## Quick sort"
   ]
  },
  {
   "cell_type": "code",
   "execution_count": 18,
   "id": "civic-omaha",
   "metadata": {},
   "outputs": [
    {
     "name": "stdout",
     "output_type": "stream",
     "text": [
      "input list  : [2201, 9325, 1033, 4179, 1931, 8117, 7364, 7737, 6219, 3439, 1537, 7993, 464, 6386, 7090, 9952, 34, 7297, 4363, 3748, 9685, 1674, 5200, 501, 365, 416, 8870, 150, 6245, 3548, 6915, 475, 8644, 3632, 7174, 8123, 9058, 3818, 5663, 3782, 3584, 7530, 4747, 352, 6818, 9116, 1638, 3045, 4856, 1980, 5450, 8205, 8318, 3110, 4970, 4655, 9626, 8181, 8278, 6444, 9650, 565, 7868, 3977, 6623, 6788, 2834, 6014, 8991, 6139, 1416, 7191, 8330, 1768, 2682, 8535, 6443, 6070, 8023, 484, 7689, 712, 5054, 9718, 9472, 6448, 2791, 2762, 8228, 3718, 201, 3268, 8841, 8983, 3803, 6626, 8417, 5633, 9466, 5788]\n",
      "sorted list : [13, 25, 34, 57, 63, 65, 85, 93, 122, 135, 138, 141, 150, 162, 165, 172, 178, 201, 202, 216, 236, 238, 248, 252, 273, 281, 292, 296, 309, 323, 333, 340, 341, 344, 352, 357, 365, 381, 387, 395, 399, 403, 416, 446, 452, 458, 464, 475, 476, 484, 495, 499, 500, 501, 502, 504, 520, 531, 543, 560, 565, 568, 578, 581, 613, 621, 641, 649, 655, 657, 661, 666, 672, 701, 712, 713, 735, 736, 743, 749, 757, 777, 789, 795, 798, 814, 820, 854, 865, 906, 919, 935, 952, 961, 963, 986, 996, 1021, 1031, 1033]\n"
     ]
    }
   ],
   "source": [
    "# not very pythonic - more C like\n",
    "# list changed inline\n",
    "def swap(slist, a,b):\n",
    "    t = slist[a]\n",
    "    slist[a] = slist[b]\n",
    "    slist[b] = t\n",
    "\n",
    "\n",
    "def part(alist, left, right):\n",
    "    # select pivot\n",
    "    p = left ;\n",
    "    n = len(alist);\n",
    "    # swap p and n\n",
    "    swap (alist, p, right);\n",
    "    \n",
    "    s=left\n",
    "    for i in range(left,right):\n",
    "        if alist[i]<=alist[right]:\n",
    "            swap(alist, i, s)\n",
    "            s=s+1\n",
    "    swap(alist, s,right);\n",
    "    return s\n",
    "    \n",
    "def qsort(ylist, left, right):\n",
    "    if (left<right):\n",
    "        p = part (ylist, left,right)\n",
    "        qsort(ylist,left,p-1)\n",
    "        qsort(ylist,p+1,right)\n",
    "        #raw_input() \n",
    "        \n",
    "def quick_sort (a):\n",
    "    return qsort(a, 0, len(a)-1)\n",
    "        \n",
    "random.seed(1)\n",
    "a = random.sample(range(0, 10000), 1000)\n",
    "print (\"input list  :\", a[:100] ) \n",
    "quick_sort(a)\n",
    "print (\"sorted list :\", a[:100])"
   ]
  },
  {
   "cell_type": "markdown",
   "id": "opponent-spelling",
   "metadata": {},
   "source": [
    "## Bubble sort\n",
    "- consider bisect"
   ]
  },
  {
   "cell_type": "code",
   "execution_count": 20,
   "id": "stylish-realtor",
   "metadata": {},
   "outputs": [
    {
     "name": "stdout",
     "output_type": "stream",
     "text": [
      "input list  : [2201, 9325, 1033, 4179, 1931, 8117, 7364, 7737, 6219, 3439, 1537, 7993, 464, 6386, 7090, 9952, 34, 7297, 4363, 3748, 9685, 1674, 5200, 501, 365, 416, 8870, 150, 6245, 3548, 6915, 475, 8644, 3632, 7174, 8123, 9058, 3818, 5663, 3782, 3584, 7530, 4747, 352, 6818, 9116, 1638, 3045, 4856, 1980, 5450, 8205, 8318, 3110, 4970, 4655, 9626, 8181, 8278, 6444, 9650, 565, 7868, 3977, 6623, 6788, 2834, 6014, 8991, 6139, 1416, 7191, 8330, 1768, 2682, 8535, 6443, 6070, 8023, 484, 7689, 712, 5054, 9718, 9472, 6448, 2791, 2762, 8228, 3718, 201, 3268, 8841, 8983, 3803, 6626, 8417, 5633, 9466, 5788]\n",
      "sorted list : [13, 25, 34, 57, 63, 65, 85, 93, 122, 135, 138, 141, 150, 162, 165, 172, 178, 201, 202, 216, 236, 238, 248, 252, 273, 281, 292, 296, 309, 323, 333, 340, 341, 344, 352, 357, 365, 381, 387, 395, 399, 403, 416, 446, 452, 458, 464, 475, 476, 484, 495, 499, 500, 501, 502, 504, 520, 531, 543, 560, 565, 568, 578, 581, 613, 621, 641, 649, 655, 657, 661, 666, 672, 701, 712, 713, 735, 736, 743, 749, 757, 777, 789, 795, 798, 814, 820, 854, 865, 906, 919, 935, 952, 961, 963, 986, 996, 1021, 1031, 1033]\n"
     ]
    }
   ],
   "source": [
    "# not pythonic \n",
    "def swap(slist, a,b):\n",
    "    t = slist[a]\n",
    "    slist[a] = slist[b]\n",
    "    slist[b] = t\n",
    "    \n",
    "def bubble_sort(alist) :\n",
    "    n=len(alist)\n",
    "    i=0\n",
    "    r=0\n",
    "    c=0\n",
    "    while (1):\n",
    "        if (i+1<n):\n",
    "            if alist[i]>alist[i+1]:\n",
    "                swap(alist, i, i+1)\n",
    "                c=c+1\n",
    "            i=i+1\n",
    "        else:\n",
    "            if c == 0:\n",
    "                break;\n",
    "            r=r+1\n",
    "            i=0\n",
    "            c=0\n",
    "\n",
    "random.seed(1)\n",
    "a = random.sample(range(0, 10000), 1000)\n",
    "print (\"input list  :\", a[:100] ) \n",
    "bubble_sort(a)\n",
    "print (\"sorted list :\", a[:100])"
   ]
  },
  {
   "cell_type": "code",
   "execution_count": null,
   "id": "sufficient-scientist",
   "metadata": {},
   "outputs": [],
   "source": []
  }
 ],
 "metadata": {
  "kernelspec": {
   "display_name": "Python 3",
   "language": "python",
   "name": "python3"
  },
  "language_info": {
   "codemirror_mode": {
    "name": "ipython",
    "version": 3
   },
   "file_extension": ".py",
   "mimetype": "text/x-python",
   "name": "python",
   "nbconvert_exporter": "python",
   "pygments_lexer": "ipython3",
   "version": "3.8.5"
  }
 },
 "nbformat": 4,
 "nbformat_minor": 5
}
