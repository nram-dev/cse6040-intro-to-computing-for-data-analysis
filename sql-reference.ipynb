{
 "cells": [
  {
   "source": [
    "# SQL Lite Reference\n",
    "## Analysis of Seinfeld episodes and ratings\n",
    "### with DataFrame equivallent implementations"
   ],
   "cell_type": "markdown",
   "metadata": {}
  },
  {
   "cell_type": "code",
   "execution_count": 1,
   "id": "diverse-booth",
   "metadata": {},
   "outputs": [],
   "source": [
    "import pandas as pd\n",
    "import numpy as np\n",
    "import sqlite3\n",
    "import pprint\n",
    "pp = pprint.PrettyPrinter()"
   ]
  },
  {
   "cell_type": "code",
   "execution_count": 2,
   "id": "beginning-vocabulary",
   "metadata": {},
   "outputs": [
    {
     "output_type": "stream",
     "name": "stdout",
     "text": [
      "\n-- Ratings:  (172, 5)\n"
     ]
    },
    {
     "output_type": "display_data",
     "data": {
      "text/plain": "   Season  Episode           Title  Rating  Votes\n0       1        2    The Stakeout     7.8    649\n1       1        3     The Robbery     7.7    565\n2       1        4  Male Unbonding     7.6    561",
      "text/html": "<div>\n<style scoped>\n    .dataframe tbody tr th:only-of-type {\n        vertical-align: middle;\n    }\n\n    .dataframe tbody tr th {\n        vertical-align: top;\n    }\n\n    .dataframe thead th {\n        text-align: right;\n    }\n</style>\n<table border=\"1\" class=\"dataframe\">\n  <thead>\n    <tr style=\"text-align: right;\">\n      <th></th>\n      <th>Season</th>\n      <th>Episode</th>\n      <th>Title</th>\n      <th>Rating</th>\n      <th>Votes</th>\n    </tr>\n  </thead>\n  <tbody>\n    <tr>\n      <th>0</th>\n      <td>1</td>\n      <td>2</td>\n      <td>The Stakeout</td>\n      <td>7.8</td>\n      <td>649</td>\n    </tr>\n    <tr>\n      <th>1</th>\n      <td>1</td>\n      <td>3</td>\n      <td>The Robbery</td>\n      <td>7.7</td>\n      <td>565</td>\n    </tr>\n    <tr>\n      <th>2</th>\n      <td>1</td>\n      <td>4</td>\n      <td>Male Unbonding</td>\n      <td>7.6</td>\n      <td>561</td>\n    </tr>\n  </tbody>\n</table>\n</div>"
     },
     "metadata": {}
    },
    {
     "output_type": "stream",
     "name": "stdout",
     "text": [
      "\n-- Episodes  (174, 7)\n"
     ]
    },
    {
     "output_type": "display_data",
     "data": {
      "text/plain": "   Season  EpisodeNo                Title       AirDate  \\\n0     1.0        1.0  Good News, Bad News  July 5, 1989   \n1     1.0        1.0         The Stakeout  May 31, 1990   \n2     1.0        2.0          The Robbery  June 7, 1990   \n\n                       Writers      Director    SEID  \n0  Larry David, Jerry Seinfeld     Art Wolff  S01E01  \n1  Larry David, Jerry Seinfeld  Tom Cherones  S01E01  \n2                 Matt Goldman  Tom Cherones  S01E02  ",
      "text/html": "<div>\n<style scoped>\n    .dataframe tbody tr th:only-of-type {\n        vertical-align: middle;\n    }\n\n    .dataframe tbody tr th {\n        vertical-align: top;\n    }\n\n    .dataframe thead th {\n        text-align: right;\n    }\n</style>\n<table border=\"1\" class=\"dataframe\">\n  <thead>\n    <tr style=\"text-align: right;\">\n      <th></th>\n      <th>Season</th>\n      <th>EpisodeNo</th>\n      <th>Title</th>\n      <th>AirDate</th>\n      <th>Writers</th>\n      <th>Director</th>\n      <th>SEID</th>\n    </tr>\n  </thead>\n  <tbody>\n    <tr>\n      <th>0</th>\n      <td>1.0</td>\n      <td>1.0</td>\n      <td>Good News, Bad News</td>\n      <td>July 5, 1989</td>\n      <td>Larry David, Jerry Seinfeld</td>\n      <td>Art Wolff</td>\n      <td>S01E01</td>\n    </tr>\n    <tr>\n      <th>1</th>\n      <td>1.0</td>\n      <td>1.0</td>\n      <td>The Stakeout</td>\n      <td>May 31, 1990</td>\n      <td>Larry David, Jerry Seinfeld</td>\n      <td>Tom Cherones</td>\n      <td>S01E01</td>\n    </tr>\n    <tr>\n      <th>2</th>\n      <td>1.0</td>\n      <td>2.0</td>\n      <td>The Robbery</td>\n      <td>June 7, 1990</td>\n      <td>Matt Goldman</td>\n      <td>Tom Cherones</td>\n      <td>S01E02</td>\n    </tr>\n  </tbody>\n</table>\n</div>"
     },
     "metadata": {}
    }
   ],
   "source": [
    "ratings_file = 'data/seinfeld/ratings.csv'\n",
    "ratings_df = pd.read_csv(ratings_file)\n",
    "\n",
    "print ('\\n-- Ratings: ', ratings_df.shape)\n",
    "display(ratings_df.head(3))\n",
    "\n",
    "episodes_file = 'data/seinfeld/episode_info.csv'\n",
    "episodes_df = pd.read_csv(episodes_file)\n",
    "episodes_df = episodes_df.drop('Unnamed: 0', axis=1)\n",
    "print ('\\n-- Episodes ', episodes_df.shape)\n",
    "display(episodes_df.head(3))\n"
   ]
  },
  {
   "cell_type": "code",
   "execution_count": 3,
   "metadata": {},
   "outputs": [
    {
     "output_type": "execute_result",
     "data": {
      "text/plain": [
       "array(['Art Wolff', 'Tom Cherones', 'David Steinberg', 'Joshua White',\n",
       "       'Jason Alexander', 'Andy Ackerman', 'David Owen Trainor'],\n",
       "      dtype=object)"
      ]
     },
     "metadata": {},
     "execution_count": 3
    }
   ],
   "source": [
    "# cleanup\n",
    "episodes_df2 = episodes_df.copy()\n",
    "episodes_df2['Director'] = episodes_df['Director'].str.replace('&nbsp;', ' ')\n",
    "episodes_df2['Director'] = episodes_df2['Director'].replace(to_replace='[ ]+', value=' ', regex=True)\n",
    "episodes_df2['Director'].unique()"
   ]
  },
  {
   "cell_type": "code",
   "execution_count": 4,
   "id": "rubber-patrick",
   "metadata": {},
   "outputs": [
    {
     "output_type": "stream",
     "name": "stdout",
     "text": [
      "table ratings in database seinfeld.db created\ntable episodes in database seinfeld.db created\n"
     ]
    }
   ],
   "source": [
    "# create table\n",
    "\n",
    "sql = ''' create table ratings\n",
    "(SEASON INTEGER,\n",
    " EPISODE INTEGER,\n",
    " TITLE TEXT,\n",
    " RATING REAL,\n",
    " VOTES INTEGER);\n",
    "'''\n",
    "\n",
    "seindb = 'seinfeld.db'\n",
    "\n",
    "conn = sqlite3.connect(seindb)\n",
    "cursor = conn.cursor()\n",
    "cursor.execute(\"DROP TABLE IF EXISTS ratings\")\n",
    "\n",
    "cursor.execute(sql)\n",
    "print (f'table ratings in database {seindb} created')\n",
    "\n",
    "sql = ''' create table episodes\n",
    "(SEASON INTEGER,\n",
    " EPISODE INTEGER,\n",
    " TITLE TEXT,\n",
    " AIRDATE DATE,\n",
    " WRITERS TEXT,\n",
    " DIRECTOR TEXT,\n",
    " SEID TEXT);\n",
    "'''\n",
    "cursor.execute(\"DROP TABLE IF EXISTS episodes\")\n",
    "cursor.execute(sql)\n",
    "print (f'table episodes in database {seindb} created')\n",
    "\n",
    "conn.commit()"
   ]
  },
  {
   "cell_type": "code",
   "execution_count": 5,
   "id": "greatest-simple",
   "metadata": {},
   "outputs": [
    {
     "output_type": "stream",
     "name": "stdout",
     "text": [
      "adding 172 records to ratings table\nadding 174 records to episodes table\n"
     ]
    }
   ],
   "source": [
    "# insert entries\n",
    "ratings_data = ratings_df.values\n",
    "print (f'adding {len(ratings_data)} records to ratings table')\n",
    "sql = 'INSERT INTO ratings VALUES (?, ?, ?, ?, ?)'\n",
    "cursor.executemany(sql, ratings_data)\n",
    "\n",
    "episodes_data = episodes_df.values\n",
    "#print(episodes_data[:10])\n",
    "print (f'adding {len(episodes_data)} records to episodes table')\n",
    "sql = 'INSERT INTO episodes VALUES (?, ?, ?, ?, ?, ?, ?)'\n",
    "cursor.executemany(sql, episodes_data)\n",
    "conn.commit() # commit is on connection\n"
   ]
  },
  {
   "cell_type": "code",
   "execution_count": 6,
   "id": "opposite-durham",
   "metadata": {},
   "outputs": [
    {
     "output_type": "stream",
     "name": "stdout",
     "text": [
      "0 (1, 2, 'The Stakeout', 7.8, 649)\n1 (1, 3, 'The Robbery', 7.7, 565)\n2 (1, 4, 'Male Unbonding', 7.6, 561)\n3 (1, 5, 'The Stock Tip', 7.8, 541)\n4 (2, 1, 'The Ex-Girlfriend', 7.7, 529)\n5 (2, 1, 'The Statue', 8.1, 509)\n6 (2, 11, 'The Heart Attack', 8.0, 512)\n7 (2, 12, 'The Revenge', 8.4, 497)\n8 (2, 13, 'The Deal', 8.3, 515)\n9 (2, 2, 'The Pony Remark', 8.0, 573)\n"
     ]
    }
   ],
   "source": [
    "# reading from db - limit 10 rows\n",
    "cursor.execute('select * from ratings limit 10')\n",
    "for n, row in enumerate(cursor):\n",
    "        print(n, row)\n"
   ]
  },
  {
   "cell_type": "code",
   "execution_count": 7,
   "id": "mighty-tobacco",
   "metadata": {},
   "outputs": [
    {
     "output_type": "execute_result",
     "data": {
      "text/plain": [
       "   SEASON  EPISODE        TITLE  RATING  VOTES\n",
       "0       2        1   The Statue     8.1    509\n",
       "1       2       12  The Revenge     8.4    497\n",
       "2       2       13     The Deal     8.3    515"
      ],
      "text/html": "<div>\n<style scoped>\n    .dataframe tbody tr th:only-of-type {\n        vertical-align: middle;\n    }\n\n    .dataframe tbody tr th {\n        vertical-align: top;\n    }\n\n    .dataframe thead th {\n        text-align: right;\n    }\n</style>\n<table border=\"1\" class=\"dataframe\">\n  <thead>\n    <tr style=\"text-align: right;\">\n      <th></th>\n      <th>SEASON</th>\n      <th>EPISODE</th>\n      <th>TITLE</th>\n      <th>RATING</th>\n      <th>VOTES</th>\n    </tr>\n  </thead>\n  <tbody>\n    <tr>\n      <th>0</th>\n      <td>2</td>\n      <td>1</td>\n      <td>The Statue</td>\n      <td>8.1</td>\n      <td>509</td>\n    </tr>\n    <tr>\n      <th>1</th>\n      <td>2</td>\n      <td>12</td>\n      <td>The Revenge</td>\n      <td>8.4</td>\n      <td>497</td>\n    </tr>\n    <tr>\n      <th>2</th>\n      <td>2</td>\n      <td>13</td>\n      <td>The Deal</td>\n      <td>8.3</td>\n      <td>515</td>\n    </tr>\n  </tbody>\n</table>\n</div>"
     },
     "metadata": {},
     "execution_count": 7
    }
   ],
   "source": [
    "# read into DF - using where \n",
    "# note - you pass connection not cursor here.\n",
    "df = pd.read_sql_query(\"SELECT * from ratings where rating > 8\", conn)\n",
    "df.head(3)\n",
    "#df.shape"
   ]
  },
  {
   "cell_type": "code",
   "execution_count": 8,
   "id": "flush-luther",
   "metadata": {},
   "outputs": [
    {
     "output_type": "execute_result",
     "data": {
      "text/plain": [
       "   SEASON  EPISODE                TITLE       AIRDATE  \\\n",
       "0       1        1  Good News, Bad News  July 5, 1989   \n",
       "1       1        1         The Stakeout  May 31, 1990   \n",
       "2       1        2          The Robbery  June 7, 1990   \n",
       "\n",
       "                       WRITERS      DIRECTOR    SEID  \n",
       "0  Larry David, Jerry Seinfeld     Art Wolff  S01E01  \n",
       "1  Larry David, Jerry Seinfeld  Tom Cherones  S01E01  \n",
       "2                 Matt Goldman  Tom Cherones  S01E02  "
      ],
      "text/html": "<div>\n<style scoped>\n    .dataframe tbody tr th:only-of-type {\n        vertical-align: middle;\n    }\n\n    .dataframe tbody tr th {\n        vertical-align: top;\n    }\n\n    .dataframe thead th {\n        text-align: right;\n    }\n</style>\n<table border=\"1\" class=\"dataframe\">\n  <thead>\n    <tr style=\"text-align: right;\">\n      <th></th>\n      <th>SEASON</th>\n      <th>EPISODE</th>\n      <th>TITLE</th>\n      <th>AIRDATE</th>\n      <th>WRITERS</th>\n      <th>DIRECTOR</th>\n      <th>SEID</th>\n    </tr>\n  </thead>\n  <tbody>\n    <tr>\n      <th>0</th>\n      <td>1</td>\n      <td>1</td>\n      <td>Good News, Bad News</td>\n      <td>July 5, 1989</td>\n      <td>Larry David, Jerry Seinfeld</td>\n      <td>Art Wolff</td>\n      <td>S01E01</td>\n    </tr>\n    <tr>\n      <th>1</th>\n      <td>1</td>\n      <td>1</td>\n      <td>The Stakeout</td>\n      <td>May 31, 1990</td>\n      <td>Larry David, Jerry Seinfeld</td>\n      <td>Tom Cherones</td>\n      <td>S01E01</td>\n    </tr>\n    <tr>\n      <th>2</th>\n      <td>1</td>\n      <td>2</td>\n      <td>The Robbery</td>\n      <td>June 7, 1990</td>\n      <td>Matt Goldman</td>\n      <td>Tom Cherones</td>\n      <td>S01E02</td>\n    </tr>\n  </tbody>\n</table>\n</div>"
     },
     "metadata": {},
     "execution_count": 8
    }
   ],
   "source": [
    "# read from table into dataframe\n",
    "df = pd.read_sql_query(\"SELECT * from episodes\", conn)\n",
    "df.head(3)\n",
    "#df.shape"
   ]
  },
  {
   "cell_type": "code",
   "execution_count": 9,
   "id": "sudden-merit",
   "metadata": {},
   "outputs": [
    {
     "output_type": "stream",
     "name": "stdout",
     "text": [
      "('S02E11', 'The Chinese Restaurant', 'Tom Cherones', 8.7)\n('S03E13', 'The Subway', 'Tom Cherones', 8.7)\n('S03E05', 'The Library', 'Joshua White', 8.7)\n('S04E11', 'The Contest', 'Tom Cherones', 8.7)\n('S04E19', 'The Implant', 'Tom Cherones', 8.7)\n('S04E21', 'The Smelly Car', 'Tom Cherones', 8.7)\n('S04E03', 'The Pitch', 'Tom Cherones', 8.7)\n('S04E07', 'The Bubble Boy', 'Tom Cherones', 8.7)\n('S05E20', 'The Fire', 'Tom Cherones', 8.7)\n('S07E11', 'The Rye', 'Andy Ackerman', 8.7)\n('S07E24', 'The Invitations', 'Andy Ackerman', 8.7)\n('S07E04', 'The Wink', 'Andy Ackerman', 8.7)\n('S07E05', 'The Hot Tub', 'Andy Ackerman', 8.7)\n('S07E06', 'The Soup Nazi', 'Andy Ackerman', 8.7)\n('S08E13', 'The Comeback', 'David Owen Trainor', 8.7)\n('S08E04', 'The Little Kicks', 'Andy Ackerman', 8.7)\n"
     ]
    }
   ],
   "source": [
    "# join multiple tables.\n",
    "# note distinct - otherwise dup rows returned\n",
    "sql = '''\n",
    "select distinct episodes.seid, ratings.title, episodes.director, ratings.rating \n",
    "from ratings, episodes\n",
    "where ratings.title = episodes.title and\n",
    "ratings.rating >= 8.7\n",
    "'''\n",
    "\n",
    "# alternate way to run query\n",
    "for match in cursor.execute(sql):\n",
    "    print (match)\n",
    "# what the heck is this returning ? "
   ]
  },
  {
   "cell_type": "code",
   "execution_count": 10,
   "metadata": {},
   "outputs": [
    {
     "output_type": "stream",
     "name": "stdout",
     "text": [
      "(172, 4)\n"
     ]
    },
    {
     "output_type": "display_data",
     "data": {
      "text/plain": "     SEID           Title      Director  Rating\n0  S01E01    The Stakeout  Tom Cherones     7.8\n1  S01E02     The Robbery  Tom Cherones     7.7\n2  S01E03  Male Unbonding  Tom Cherones     7.6",
      "text/html": "<div>\n<style scoped>\n    .dataframe tbody tr th:only-of-type {\n        vertical-align: middle;\n    }\n\n    .dataframe tbody tr th {\n        vertical-align: top;\n    }\n\n    .dataframe thead th {\n        text-align: right;\n    }\n</style>\n<table border=\"1\" class=\"dataframe\">\n  <thead>\n    <tr style=\"text-align: right;\">\n      <th></th>\n      <th>SEID</th>\n      <th>Title</th>\n      <th>Director</th>\n      <th>Rating</th>\n    </tr>\n  </thead>\n  <tbody>\n    <tr>\n      <th>0</th>\n      <td>S01E01</td>\n      <td>The Stakeout</td>\n      <td>Tom Cherones</td>\n      <td>7.8</td>\n    </tr>\n    <tr>\n      <th>1</th>\n      <td>S01E02</td>\n      <td>The Robbery</td>\n      <td>Tom Cherones</td>\n      <td>7.7</td>\n    </tr>\n    <tr>\n      <th>2</th>\n      <td>S01E03</td>\n      <td>Male Unbonding</td>\n      <td>Tom Cherones</td>\n      <td>7.6</td>\n    </tr>\n  </tbody>\n</table>\n</div>"
     },
     "metadata": {}
    },
    {
     "output_type": "execute_result",
     "data": {
      "text/plain": [
       "      SEID                   Title      Director  Rating\n",
       "13  S02E11  The Chinese Restaurant  Tom Cherones     8.7"
      ],
      "text/html": "<div>\n<style scoped>\n    .dataframe tbody tr th:only-of-type {\n        vertical-align: middle;\n    }\n\n    .dataframe tbody tr th {\n        vertical-align: top;\n    }\n\n    .dataframe thead th {\n        text-align: right;\n    }\n</style>\n<table border=\"1\" class=\"dataframe\">\n  <thead>\n    <tr style=\"text-align: right;\">\n      <th></th>\n      <th>SEID</th>\n      <th>Title</th>\n      <th>Director</th>\n      <th>Rating</th>\n    </tr>\n  </thead>\n  <tbody>\n    <tr>\n      <th>13</th>\n      <td>S02E11</td>\n      <td>The Chinese Restaurant</td>\n      <td>Tom Cherones</td>\n      <td>8.7</td>\n    </tr>\n  </tbody>\n</table>\n</div>"
     },
     "metadata": {},
     "execution_count": 10
    }
   ],
   "source": [
    "# doing the same with DF\n",
    "out_df = pd.merge(episodes_df[['SEID', 'Title', 'Director']], ratings_df[['Title', 'Rating']], on = 'Title', how = 'right')\n",
    "print(out_df.shape)\n",
    "display(out_df.head(3))\n",
    "out_df[out_df['SEID'] == 'S02E11']"
   ]
  },
  {
   "cell_type": "code",
   "execution_count": 11,
   "metadata": {},
   "outputs": [
    {
     "output_type": "display_data",
     "data": {
      "text/plain": "   Season  Episode           Title  Rating  Votes\n0       1        2    The Stakeout     7.8    649\n1       1        3     The Robbery     7.7    565\n2       1        4  Male Unbonding     7.6    561",
      "text/html": "<div>\n<style scoped>\n    .dataframe tbody tr th:only-of-type {\n        vertical-align: middle;\n    }\n\n    .dataframe tbody tr th {\n        vertical-align: top;\n    }\n\n    .dataframe thead th {\n        text-align: right;\n    }\n</style>\n<table border=\"1\" class=\"dataframe\">\n  <thead>\n    <tr style=\"text-align: right;\">\n      <th></th>\n      <th>Season</th>\n      <th>Episode</th>\n      <th>Title</th>\n      <th>Rating</th>\n      <th>Votes</th>\n    </tr>\n  </thead>\n  <tbody>\n    <tr>\n      <th>0</th>\n      <td>1</td>\n      <td>2</td>\n      <td>The Stakeout</td>\n      <td>7.8</td>\n      <td>649</td>\n    </tr>\n    <tr>\n      <th>1</th>\n      <td>1</td>\n      <td>3</td>\n      <td>The Robbery</td>\n      <td>7.7</td>\n      <td>565</td>\n    </tr>\n    <tr>\n      <th>2</th>\n      <td>1</td>\n      <td>4</td>\n      <td>Male Unbonding</td>\n      <td>7.6</td>\n      <td>561</td>\n    </tr>\n  </tbody>\n</table>\n</div>"
     },
     "metadata": {}
    },
    {
     "output_type": "display_data",
     "data": {
      "text/plain": "   Season  EpisodeNo                Title       AirDate  \\\n0     1.0        1.0  Good News, Bad News  July 5, 1989   \n1     1.0        1.0         The Stakeout  May 31, 1990   \n2     1.0        2.0          The Robbery  June 7, 1990   \n\n                       Writers      Director    SEID  \n0  Larry David, Jerry Seinfeld     Art Wolff  S01E01  \n1  Larry David, Jerry Seinfeld  Tom Cherones  S01E01  \n2                 Matt Goldman  Tom Cherones  S01E02  ",
      "text/html": "<div>\n<style scoped>\n    .dataframe tbody tr th:only-of-type {\n        vertical-align: middle;\n    }\n\n    .dataframe tbody tr th {\n        vertical-align: top;\n    }\n\n    .dataframe thead th {\n        text-align: right;\n    }\n</style>\n<table border=\"1\" class=\"dataframe\">\n  <thead>\n    <tr style=\"text-align: right;\">\n      <th></th>\n      <th>Season</th>\n      <th>EpisodeNo</th>\n      <th>Title</th>\n      <th>AirDate</th>\n      <th>Writers</th>\n      <th>Director</th>\n      <th>SEID</th>\n    </tr>\n  </thead>\n  <tbody>\n    <tr>\n      <th>0</th>\n      <td>1.0</td>\n      <td>1.0</td>\n      <td>Good News, Bad News</td>\n      <td>July 5, 1989</td>\n      <td>Larry David, Jerry Seinfeld</td>\n      <td>Art Wolff</td>\n      <td>S01E01</td>\n    </tr>\n    <tr>\n      <th>1</th>\n      <td>1.0</td>\n      <td>1.0</td>\n      <td>The Stakeout</td>\n      <td>May 31, 1990</td>\n      <td>Larry David, Jerry Seinfeld</td>\n      <td>Tom Cherones</td>\n      <td>S01E01</td>\n    </tr>\n    <tr>\n      <th>2</th>\n      <td>1.0</td>\n      <td>2.0</td>\n      <td>The Robbery</td>\n      <td>June 7, 1990</td>\n      <td>Matt Goldman</td>\n      <td>Tom Cherones</td>\n      <td>S01E02</td>\n    </tr>\n  </tbody>\n</table>\n</div>"
     },
     "metadata": {}
    }
   ],
   "source": [
    "# Pulling data from another DF. \n",
    "# use merge with subset of columns.\n",
    "display(ratings_df.head(3))\n",
    "ratings_df_rows = ratings_df.shape[0]\n",
    "display(episodes_df.head(3))\n",
    "\n",
    "ratings_df2 = pd.merge(ratings_df, episodes_df[['Title', 'SEID']], on='Title', how='left')\n",
    "ratings_df2_rows = ratings_df2.shape[0]\n",
    "assert ratings_df_rows == ratings_df2_rows"
   ]
  },
  {
   "cell_type": "code",
   "execution_count": 12,
   "metadata": {
    "tags": []
   },
   "outputs": [
    {
     "output_type": "stream",
     "name": "stdout",
     "text": [
      "0 ('The Stakeout', 'Tom Cherones', 7.8)\n1 ('The Robbery', 'Tom Cherones', 7.7)\n2 ('Male Unbonding', 'Tom Cherones', 7.6)\n3 ('The Stock Tip', 'Tom Cherones', 7.8)\n4 ('The Ex-Girlfriend', 'Tom Cherones', 7.7)\n5 ('The Statue', 'Tom Cherones', 8.1)\n6 ('The Heart Attack', 'Tom Cherones', 8.0)\n7 ('The Revenge', 'Tom Cherones', 8.4)\n8 ('The Deal', 'Tom Cherones', 8.3)\n9 ('The Pony Remark', 'Tom Cherones', 8.0)\n"
     ]
    }
   ],
   "source": [
    "# join tables.\n",
    "sql = '''\n",
    "select ratings.title, episodes.director, ratings.rating \n",
    "from ratings\n",
    "left join episodes on ratings.title = episodes.title and\n",
    "ratings.season = episodes.season \n",
    "limit 10\n",
    "'''\n",
    "cursor.execute(sql)\n",
    "matches = cursor.fetchall()\n",
    "for i, match in enumerate(matches):\n",
    "    print (i, match)"
   ]
  },
  {
   "cell_type": "code",
   "execution_count": 13,
   "metadata": {},
   "outputs": [
    {
     "output_type": "stream",
     "name": "stdout",
     "text": [
      "(1, 7.7250000000000005)\n(2, 8.158333333333333)\n(3, 8.304347826086957)\n(4, 8.465217391304348)\n(5, 8.342857142857143)\n(6, 8.282608695652174)\n(7, 8.44090909090909)\n(8, 8.422727272727274)\n(9, 8.322727272727274)\n"
     ]
    }
   ],
   "source": [
    "# aggregation - get avg rating by season.\n",
    "query = '''\n",
    "select season, avg(rating)\n",
    "from ratings\n",
    "group by season\n",
    "'''\n",
    "for match in cursor.execute(query):\n",
    "    print (match)"
   ]
  },
  {
   "cell_type": "code",
   "execution_count": 14,
   "metadata": {},
   "outputs": [
    {
     "output_type": "execute_result",
     "data": {
      "text/plain": [
       "Season\n",
       "1    7.725000\n",
       "2    8.158333\n",
       "3    8.304348\n",
       "4    8.465217\n",
       "5    8.342857\n",
       "6    8.282609\n",
       "7    8.440909\n",
       "8    8.422727\n",
       "9    8.322727\n",
       "Name: Rating, dtype: float64"
      ]
     },
     "metadata": {},
     "execution_count": 14
    }
   ],
   "source": [
    "ratings_df.groupby('Season')['Rating'].mean()"
   ]
  },
  {
   "cell_type": "code",
   "execution_count": 15,
   "metadata": {},
   "outputs": [
    {
     "output_type": "stream",
     "name": "stdout",
     "text": [
      "(1, 4, 7.8)\n(2, 12, 8.7)\n(3, 23, 8.7)\n(4, 23, 8.7)\n(5, 21, 8.7)\n(6, 23, 8.6)\n(7, 22, 8.7)\n(8, 22, 8.7)\n(9, 22, 8.6)\n"
     ]
    }
   ],
   "source": [
    "# get episodes/season\n",
    "# count(*) -- count number of rows\n",
    "query = '''\n",
    "select season,count(*), max(rating)\n",
    "from ratings\n",
    "group by season\n",
    "'''\n",
    "for match in cursor.execute(query):\n",
    "    print (match)"
   ]
  },
  {
   "cell_type": "code",
   "execution_count": 16,
   "metadata": {},
   "outputs": [
    {
     "output_type": "stream",
     "name": "stdout",
     "text": [
      "Index(['Season', 'Rating'], dtype='object')\n"
     ]
    },
    {
     "output_type": "execute_result",
     "data": {
      "text/plain": [
       "   Season  Rating\n",
       "0       1       4\n",
       "1       2      12\n",
       "2       3      23\n",
       "3       4      23\n",
       "4       5      21\n",
       "5       6      23\n",
       "6       7      22\n",
       "7       8      22\n",
       "8       9      22"
      ],
      "text/html": "<div>\n<style scoped>\n    .dataframe tbody tr th:only-of-type {\n        vertical-align: middle;\n    }\n\n    .dataframe tbody tr th {\n        vertical-align: top;\n    }\n\n    .dataframe thead th {\n        text-align: right;\n    }\n</style>\n<table border=\"1\" class=\"dataframe\">\n  <thead>\n    <tr style=\"text-align: right;\">\n      <th></th>\n      <th>Season</th>\n      <th>Rating</th>\n    </tr>\n  </thead>\n  <tbody>\n    <tr>\n      <th>0</th>\n      <td>1</td>\n      <td>4</td>\n    </tr>\n    <tr>\n      <th>1</th>\n      <td>2</td>\n      <td>12</td>\n    </tr>\n    <tr>\n      <th>2</th>\n      <td>3</td>\n      <td>23</td>\n    </tr>\n    <tr>\n      <th>3</th>\n      <td>4</td>\n      <td>23</td>\n    </tr>\n    <tr>\n      <th>4</th>\n      <td>5</td>\n      <td>21</td>\n    </tr>\n    <tr>\n      <th>5</th>\n      <td>6</td>\n      <td>23</td>\n    </tr>\n    <tr>\n      <th>6</th>\n      <td>7</td>\n      <td>22</td>\n    </tr>\n    <tr>\n      <th>7</th>\n      <td>8</td>\n      <td>22</td>\n    </tr>\n    <tr>\n      <th>8</th>\n      <td>9</td>\n      <td>22</td>\n    </tr>\n  </tbody>\n</table>\n</div>"
     },
     "metadata": {},
     "execution_count": 16
    }
   ],
   "source": [
    "# doing same with DF\n",
    "out_df = ratings_df.groupby(['Season'])[['Rating']].count()\n",
    "out_df = out_df.reset_index()\n",
    "#out_df.columns = [' '.join(col).strip() for col in out_df.columns.values]\n",
    "print(out_df.columns)\n",
    "out_df"
   ]
  },
  {
   "cell_type": "code",
   "execution_count": 17,
   "metadata": {},
   "outputs": [
    {
     "output_type": "execute_result",
     "data": {
      "text/plain": [
       "    Season  Episode                   Title  Rating  Votes\n",
       "4        2        1       The Ex-Girlfriend     7.7    529\n",
       "5        2        1              The Statue     8.1    509\n",
       "6        2       11        The Heart Attack     8.0    512\n",
       "7        2       12             The Revenge     8.4    497\n",
       "8        2       13                The Deal     8.3    515\n",
       "9        2        2         The Pony Remark     8.0    573\n",
       "10       2        3              The Busboy     7.9    500\n",
       "11       2        4         The Baby Shower     7.8    504\n",
       "12       2        5              The Jacket     8.5    560\n",
       "13       2        6  The Chinese Restaurant     8.7    656\n",
       "14       2        7       The Phone Message     8.5    544\n",
       "15       2        8           The Apartment     8.0    497"
      ],
      "text/html": "<div>\n<style scoped>\n    .dataframe tbody tr th:only-of-type {\n        vertical-align: middle;\n    }\n\n    .dataframe tbody tr th {\n        vertical-align: top;\n    }\n\n    .dataframe thead th {\n        text-align: right;\n    }\n</style>\n<table border=\"1\" class=\"dataframe\">\n  <thead>\n    <tr style=\"text-align: right;\">\n      <th></th>\n      <th>Season</th>\n      <th>Episode</th>\n      <th>Title</th>\n      <th>Rating</th>\n      <th>Votes</th>\n    </tr>\n  </thead>\n  <tbody>\n    <tr>\n      <th>4</th>\n      <td>2</td>\n      <td>1</td>\n      <td>The Ex-Girlfriend</td>\n      <td>7.7</td>\n      <td>529</td>\n    </tr>\n    <tr>\n      <th>5</th>\n      <td>2</td>\n      <td>1</td>\n      <td>The Statue</td>\n      <td>8.1</td>\n      <td>509</td>\n    </tr>\n    <tr>\n      <th>6</th>\n      <td>2</td>\n      <td>11</td>\n      <td>The Heart Attack</td>\n      <td>8.0</td>\n      <td>512</td>\n    </tr>\n    <tr>\n      <th>7</th>\n      <td>2</td>\n      <td>12</td>\n      <td>The Revenge</td>\n      <td>8.4</td>\n      <td>497</td>\n    </tr>\n    <tr>\n      <th>8</th>\n      <td>2</td>\n      <td>13</td>\n      <td>The Deal</td>\n      <td>8.3</td>\n      <td>515</td>\n    </tr>\n    <tr>\n      <th>9</th>\n      <td>2</td>\n      <td>2</td>\n      <td>The Pony Remark</td>\n      <td>8.0</td>\n      <td>573</td>\n    </tr>\n    <tr>\n      <th>10</th>\n      <td>2</td>\n      <td>3</td>\n      <td>The Busboy</td>\n      <td>7.9</td>\n      <td>500</td>\n    </tr>\n    <tr>\n      <th>11</th>\n      <td>2</td>\n      <td>4</td>\n      <td>The Baby Shower</td>\n      <td>7.8</td>\n      <td>504</td>\n    </tr>\n    <tr>\n      <th>12</th>\n      <td>2</td>\n      <td>5</td>\n      <td>The Jacket</td>\n      <td>8.5</td>\n      <td>560</td>\n    </tr>\n    <tr>\n      <th>13</th>\n      <td>2</td>\n      <td>6</td>\n      <td>The Chinese Restaurant</td>\n      <td>8.7</td>\n      <td>656</td>\n    </tr>\n    <tr>\n      <th>14</th>\n      <td>2</td>\n      <td>7</td>\n      <td>The Phone Message</td>\n      <td>8.5</td>\n      <td>544</td>\n    </tr>\n    <tr>\n      <th>15</th>\n      <td>2</td>\n      <td>8</td>\n      <td>The Apartment</td>\n      <td>8.0</td>\n      <td>497</td>\n    </tr>\n  </tbody>\n</table>\n</div>"
     },
     "metadata": {},
     "execution_count": 17
    }
   ],
   "source": [
    "ratings_df.columns\n",
    "df = ratings_df[ratings_df['Season']==2]\n",
    "df"
   ]
  },
  {
   "cell_type": "code",
   "execution_count": 18,
   "metadata": {},
   "outputs": [
    {
     "output_type": "display_data",
     "data": {
      "text/plain": "                DIRECTOR\n0              Art Wolff\n1           Tom Cherones\n2        David Steinberg\n3           Joshua White\n4  David&nbsp; Steinberg\n5        Jason Alexander\n6          Andy Ackerman\n7     David Owen Trainor",
      "text/html": "<div>\n<style scoped>\n    .dataframe tbody tr th:only-of-type {\n        vertical-align: middle;\n    }\n\n    .dataframe tbody tr th {\n        vertical-align: top;\n    }\n\n    .dataframe thead th {\n        text-align: right;\n    }\n</style>\n<table border=\"1\" class=\"dataframe\">\n  <thead>\n    <tr style=\"text-align: right;\">\n      <th></th>\n      <th>DIRECTOR</th>\n    </tr>\n  </thead>\n  <tbody>\n    <tr>\n      <th>0</th>\n      <td>Art Wolff</td>\n    </tr>\n    <tr>\n      <th>1</th>\n      <td>Tom Cherones</td>\n    </tr>\n    <tr>\n      <th>2</th>\n      <td>David Steinberg</td>\n    </tr>\n    <tr>\n      <th>3</th>\n      <td>Joshua White</td>\n    </tr>\n    <tr>\n      <th>4</th>\n      <td>David&amp;nbsp; Steinberg</td>\n    </tr>\n    <tr>\n      <th>5</th>\n      <td>Jason Alexander</td>\n    </tr>\n    <tr>\n      <th>6</th>\n      <td>Andy Ackerman</td>\n    </tr>\n    <tr>\n      <th>7</th>\n      <td>David Owen Trainor</td>\n    </tr>\n  </tbody>\n</table>\n</div>"
     },
     "metadata": {}
    }
   ],
   "source": [
    "# select  unique entries\n",
    "query = 'select distinct director from episodes'\n",
    "df = pd.read_sql_query(query, conn)\n",
    "display(df)"
   ]
  },
  {
   "cell_type": "code",
   "execution_count": 19,
   "metadata": {},
   "outputs": [
    {
     "output_type": "execute_result",
     "data": {
      "text/plain": [
       "array(['Art Wolff', 'Tom Cherones', 'David Steinberg', 'Joshua White',\n",
       "       'Jason Alexander', 'Andy Ackerman', 'David Owen Trainor'],\n",
       "      dtype=object)"
      ]
     },
     "metadata": {},
     "execution_count": 19
    }
   ],
   "source": [
    "# same with DF\n",
    "# cleanedup data detects one dup entry correctly (David Steinberg)\n",
    "episodes_df2.Director.unique()"
   ]
  },
  {
   "cell_type": "code",
   "execution_count": 20,
   "metadata": {},
   "outputs": [
    {
     "output_type": "display_data",
     "data": {
      "text/plain": "(3, 2)"
     },
     "metadata": {}
    },
    {
     "output_type": "display_data",
     "data": {
      "text/plain": "             DIRECTOR  NUM_EPISODES\n0       Andy Ackerman            87\n1        Tom Cherones            80\n2  David Owen Trainor             2",
      "text/html": "<div>\n<style scoped>\n    .dataframe tbody tr th:only-of-type {\n        vertical-align: middle;\n    }\n\n    .dataframe tbody tr th {\n        vertical-align: top;\n    }\n\n    .dataframe thead th {\n        text-align: right;\n    }\n</style>\n<table border=\"1\" class=\"dataframe\">\n  <thead>\n    <tr style=\"text-align: right;\">\n      <th></th>\n      <th>DIRECTOR</th>\n      <th>NUM_EPISODES</th>\n    </tr>\n  </thead>\n  <tbody>\n    <tr>\n      <th>0</th>\n      <td>Andy Ackerman</td>\n      <td>87</td>\n    </tr>\n    <tr>\n      <th>1</th>\n      <td>Tom Cherones</td>\n      <td>80</td>\n    </tr>\n    <tr>\n      <th>2</th>\n      <td>David Owen Trainor</td>\n      <td>2</td>\n    </tr>\n  </tbody>\n</table>\n</div>"
     },
     "metadata": {}
    }
   ],
   "source": [
    "# group by , having, order by\n",
    "# get number of episodes / director sorted\n",
    "query = '''select director, count(title) as NUM_EPISODES\n",
    "from episodes\n",
    "group by director\n",
    "having NUM_EPISODES > 1\n",
    "order by NUM_EPISODES desc\n",
    "'''\n",
    "df = pd.read_sql_query(query, conn)\n",
    "display(df.shape, df)"
   ]
  },
  {
   "cell_type": "code",
   "execution_count": 21,
   "metadata": {},
   "outputs": [
    {
     "output_type": "stream",
     "name": "stdout",
     "text": [
      "Director\nAndy Ackerman         87\nTom Cherones          80\nDavid Steinberg        2\nDavid Owen Trainor     2\nName: Title, dtype: int64\n"
     ]
    }
   ],
   "source": [
    "# same in df/series\n",
    "s = episodes_df2.groupby(['Director'])['Title'].count()\n",
    "s_sorted = s[s>1].sort_values(ascending=False)\n",
    "print(s_sorted)"
   ]
  },
  {
   "cell_type": "code",
   "execution_count": 22,
   "metadata": {},
   "outputs": [
    {
     "output_type": "display_data",
     "data": {
      "text/plain": "(8, 2)"
     },
     "metadata": {}
    },
    {
     "output_type": "display_data",
     "data": {
      "text/plain": "                DIRECTOR  NUM_EPISODES\n0          Andy Ackerman            87\n1           Tom Cherones            80\n2     David Owen Trainor             2\n3           Joshua White             1\n4        Jason Alexander             1\n5  David&nbsp; Steinberg             1\n6        David Steinberg             1\n7              Art Wolff             1",
      "text/html": "<div>\n<style scoped>\n    .dataframe tbody tr th:only-of-type {\n        vertical-align: middle;\n    }\n\n    .dataframe tbody tr th {\n        vertical-align: top;\n    }\n\n    .dataframe thead th {\n        text-align: right;\n    }\n</style>\n<table border=\"1\" class=\"dataframe\">\n  <thead>\n    <tr style=\"text-align: right;\">\n      <th></th>\n      <th>DIRECTOR</th>\n      <th>NUM_EPISODES</th>\n    </tr>\n  </thead>\n  <tbody>\n    <tr>\n      <th>0</th>\n      <td>Andy Ackerman</td>\n      <td>87</td>\n    </tr>\n    <tr>\n      <th>1</th>\n      <td>Tom Cherones</td>\n      <td>80</td>\n    </tr>\n    <tr>\n      <th>2</th>\n      <td>David Owen Trainor</td>\n      <td>2</td>\n    </tr>\n    <tr>\n      <th>3</th>\n      <td>Joshua White</td>\n      <td>1</td>\n    </tr>\n    <tr>\n      <th>4</th>\n      <td>Jason Alexander</td>\n      <td>1</td>\n    </tr>\n    <tr>\n      <th>5</th>\n      <td>David&amp;nbsp; Steinberg</td>\n      <td>1</td>\n    </tr>\n    <tr>\n      <th>6</th>\n      <td>David Steinberg</td>\n      <td>1</td>\n    </tr>\n    <tr>\n      <th>7</th>\n      <td>Art Wolff</td>\n      <td>1</td>\n    </tr>\n  </tbody>\n</table>\n</div>"
     },
     "metadata": {}
    }
   ],
   "source": [
    "# what does collate do ? \n",
    "query = '''select director, count(title) as NUM_EPISODES\n",
    "from episodes\n",
    "group by director collate nocase\n",
    "order by NUM_EPISODES desc\n",
    "'''\n",
    "df = pd.read_sql_query(query, conn)\n",
    "display(df.shape, df)"
   ]
  },
  {
   "cell_type": "code",
   "execution_count": 23,
   "metadata": {},
   "outputs": [
    {
     "output_type": "display_data",
     "data": {
      "text/plain": "            TITLE  RATING\n0  Male Unbonding     7.6\n1        The Deal     8.3\n2     The Apology     8.2",
      "text/html": "<div>\n<style scoped>\n    .dataframe tbody tr th:only-of-type {\n        vertical-align: middle;\n    }\n\n    .dataframe tbody tr th {\n        vertical-align: top;\n    }\n\n    .dataframe thead th {\n        text-align: right;\n    }\n</style>\n<table border=\"1\" class=\"dataframe\">\n  <thead>\n    <tr style=\"text-align: right;\">\n      <th></th>\n      <th>TITLE</th>\n      <th>RATING</th>\n    </tr>\n  </thead>\n  <tbody>\n    <tr>\n      <th>0</th>\n      <td>Male Unbonding</td>\n      <td>7.6</td>\n    </tr>\n    <tr>\n      <th>1</th>\n      <td>The Deal</td>\n      <td>8.3</td>\n    </tr>\n    <tr>\n      <th>2</th>\n      <td>The Apology</td>\n      <td>8.2</td>\n    </tr>\n  </tbody>\n</table>\n</div>"
     },
     "metadata": {}
    }
   ],
   "source": [
    "# search by in\n",
    "query = '''\n",
    "select distinct title, rating \n",
    "from ratings\n",
    "where lower(title) in (\"the deal\", \"the apology\", \"male unbonding\")\n",
    "'''\n",
    "\n",
    "df = pd.read_sql_query(query, conn)\n",
    "display(df)"
   ]
  },
  {
   "cell_type": "code",
   "execution_count": 24,
   "metadata": {},
   "outputs": [
    {
     "output_type": "display_data",
     "data": {
      "text/plain": "(5, 2)"
     },
     "metadata": {}
    },
    {
     "output_type": "display_data",
     "data": {
      "text/plain": "            lower(title)  RATING\n0  the boyfriend: part 2     8.7\n1         the bubble boy     8.7\n2  the boyfriend: part 1     8.6\n3     the van buren boys     8.2\n4             the busboy     7.9",
      "text/html": "<div>\n<style scoped>\n    .dataframe tbody tr th:only-of-type {\n        vertical-align: middle;\n    }\n\n    .dataframe tbody tr th {\n        vertical-align: top;\n    }\n\n    .dataframe thead th {\n        text-align: right;\n    }\n</style>\n<table border=\"1\" class=\"dataframe\">\n  <thead>\n    <tr style=\"text-align: right;\">\n      <th></th>\n      <th>lower(title)</th>\n      <th>RATING</th>\n    </tr>\n  </thead>\n  <tbody>\n    <tr>\n      <th>0</th>\n      <td>the boyfriend: part 2</td>\n      <td>8.7</td>\n    </tr>\n    <tr>\n      <th>1</th>\n      <td>the bubble boy</td>\n      <td>8.7</td>\n    </tr>\n    <tr>\n      <th>2</th>\n      <td>the boyfriend: part 1</td>\n      <td>8.6</td>\n    </tr>\n    <tr>\n      <th>3</th>\n      <td>the van buren boys</td>\n      <td>8.2</td>\n    </tr>\n    <tr>\n      <th>4</th>\n      <td>the busboy</td>\n      <td>7.9</td>\n    </tr>\n  </tbody>\n</table>\n</div>"
     },
     "metadata": {}
    }
   ],
   "source": [
    "# substring search / -rating => order by rating desc\n",
    "query = '''\n",
    "select distinct lower(title), rating \n",
    "from ratings\n",
    "where lower(title) like '%boy%'\n",
    "order by -rating\n",
    "'''\n",
    "\n",
    "df = pd.read_sql_query(query, conn)\n",
    "display(df.shape, df.head(10))"
   ]
  },
  {
   "source": [
    "## Using JOIN to join two queries.\n",
    "### work on individual queries seperately \n",
    "### WHERE and JOIN can be used in some cases - looks like where is nothing but implicit JOIN\n",
    "### Ref: https://dataschool.com/how-to-teach-people-sql/difference-between-where-and-on-in-sql/"
   ],
   "cell_type": "markdown",
   "metadata": {}
  },
  {
   "cell_type": "code",
   "execution_count": 25,
   "metadata": {},
   "outputs": [
    {
     "output_type": "display_data",
     "data": {
      "text/plain": "(7, 5)"
     },
     "metadata": {}
    },
    {
     "output_type": "display_data",
     "data": {
      "text/plain": "                director               max_title  max_rating  \\\n0          Andy Ackerman                The Wink         8.7   \n1     David Owen Trainor            The Comeback         8.7   \n2        David Steinberg               The Truth         7.8   \n3  David&nbsp; Steinberg                The Tape         8.6   \n4        Jason Alexander      The Good Samaritan         8.1   \n5           Joshua White             The Library         8.7   \n6           Tom Cherones  The Chinese Restaurant         8.7   \n\n            min_title  min_rating  \n0            The Maid         7.9  \n1       The Secretary         8.1  \n2           The Truth         7.8  \n3            The Tape         8.6  \n4  The Good Samaritan         8.1  \n5         The Library         8.7  \n6             The Dog         7.3  ",
      "text/html": "<div>\n<style scoped>\n    .dataframe tbody tr th:only-of-type {\n        vertical-align: middle;\n    }\n\n    .dataframe tbody tr th {\n        vertical-align: top;\n    }\n\n    .dataframe thead th {\n        text-align: right;\n    }\n</style>\n<table border=\"1\" class=\"dataframe\">\n  <thead>\n    <tr style=\"text-align: right;\">\n      <th></th>\n      <th>director</th>\n      <th>max_title</th>\n      <th>max_rating</th>\n      <th>min_title</th>\n      <th>min_rating</th>\n    </tr>\n  </thead>\n  <tbody>\n    <tr>\n      <th>0</th>\n      <td>Andy Ackerman</td>\n      <td>The Wink</td>\n      <td>8.7</td>\n      <td>The Maid</td>\n      <td>7.9</td>\n    </tr>\n    <tr>\n      <th>1</th>\n      <td>David Owen Trainor</td>\n      <td>The Comeback</td>\n      <td>8.7</td>\n      <td>The Secretary</td>\n      <td>8.1</td>\n    </tr>\n    <tr>\n      <th>2</th>\n      <td>David Steinberg</td>\n      <td>The Truth</td>\n      <td>7.8</td>\n      <td>The Truth</td>\n      <td>7.8</td>\n    </tr>\n    <tr>\n      <th>3</th>\n      <td>David&amp;nbsp; Steinberg</td>\n      <td>The Tape</td>\n      <td>8.6</td>\n      <td>The Tape</td>\n      <td>8.6</td>\n    </tr>\n    <tr>\n      <th>4</th>\n      <td>Jason Alexander</td>\n      <td>The Good Samaritan</td>\n      <td>8.1</td>\n      <td>The Good Samaritan</td>\n      <td>8.1</td>\n    </tr>\n    <tr>\n      <th>5</th>\n      <td>Joshua White</td>\n      <td>The Library</td>\n      <td>8.7</td>\n      <td>The Library</td>\n      <td>8.7</td>\n    </tr>\n    <tr>\n      <th>6</th>\n      <td>Tom Cherones</td>\n      <td>The Chinese Restaurant</td>\n      <td>8.7</td>\n      <td>The Dog</td>\n      <td>7.3</td>\n    </tr>\n  </tbody>\n</table>\n</div>"
     },
     "metadata": {}
    }
   ],
   "source": [
    "# For each director, get their worst and best show.\n",
    "# output should have:\n",
    "# Director, Min_Title, Min_Rating, Max_Title, Max_Rating\n",
    "# where Min_Title is the one of the titles with minimum rating \n",
    "# (you can sort it by rating ?)\n",
    "\n",
    "\n",
    "# tmax and tmin are two tables consturcted on the fly\n",
    "# and we join on common column\n",
    "query = '''\n",
    "select tmax.director,\n",
    "    tmax.title as max_title,\n",
    "    tmax.max_rating,\n",
    "    tmin.title as min_title,\n",
    "    tmin.min_rating\n",
    "\n",
    "from\n",
    "\n",
    "    ( select episodes.director, \n",
    "        episodes.title,\n",
    "        max(ratings.rating) as max_rating\n",
    "      from episodes, ratings\n",
    "      where episodes.title == ratings.title\n",
    "      group by episodes.director ) tmax\n",
    "\n",
    "join \n",
    "\n",
    "    ( select episodes.director, \n",
    "        episodes.title,\n",
    "        min(ratings.rating) as min_rating\n",
    "    from episodes, ratings\n",
    "    where episodes.title == ratings.title\n",
    "    group by episodes.director ) tmin\n",
    "on tmax.director == tmin.director\n",
    "'''\n",
    "\n",
    "query1 = '''\n",
    "select episodes.director, \n",
    "    episodes.title,\n",
    "    min(ratings.rating) as min_rating\n",
    "from episodes, ratings\n",
    "where episodes.title == ratings.title\n",
    "group by episodes.director\n",
    "'''\n",
    "\n",
    "query1 = '''\n",
    "select episodes.director, \n",
    "    episodes.title,\n",
    "    max(ratings.rating) as max_rating\n",
    "from episodes, ratings\n",
    "where episodes.title == ratings.title\n",
    "group by episodes.director\n",
    "'''\n",
    "query2 = '''\n",
    "    select min(rating), max(rating)\n",
    "    from ratings\n",
    "'''\n",
    "\n",
    "query2 = '''\n",
    "    select * from ratings where lower(title) = 'the wink' \n",
    "'''\n",
    "\n",
    "df = pd.read_sql_query(query, conn)\n",
    "display(df.shape, df.head(10))"
   ]
  },
  {
   "cell_type": "code",
   "execution_count": 26,
   "metadata": {},
   "outputs": [
    {
     "output_type": "display_data",
     "data": {
      "text/plain": "             DIRECTOR               MAX_TITLE  MAX_RATING           MIN_TITLE  \\\n0       Andy Ackerman                 The Rye         8.7            The Maid   \n1  David Owen Trainor            The Comeback         8.7       The Secretary   \n2     David Steinberg                The Tape         8.6           The Truth   \n3     Jason Alexander      The Good Samaritan         8.1  The Good Samaritan   \n4        Joshua White             The Library         8.7         The Library   \n5        Tom Cherones  The Chinese Restaurant         8.7             The Dog   \n\n   MIN_RATING  \n0         7.9  \n1         8.1  \n2         7.8  \n3         8.1  \n4         8.7  \n5         7.3  ",
      "text/html": "<div>\n<style scoped>\n    .dataframe tbody tr th:only-of-type {\n        vertical-align: middle;\n    }\n\n    .dataframe tbody tr th {\n        vertical-align: top;\n    }\n\n    .dataframe thead th {\n        text-align: right;\n    }\n</style>\n<table border=\"1\" class=\"dataframe\">\n  <thead>\n    <tr style=\"text-align: right;\">\n      <th></th>\n      <th>DIRECTOR</th>\n      <th>MAX_TITLE</th>\n      <th>MAX_RATING</th>\n      <th>MIN_TITLE</th>\n      <th>MIN_RATING</th>\n    </tr>\n  </thead>\n  <tbody>\n    <tr>\n      <th>0</th>\n      <td>Andy Ackerman</td>\n      <td>The Rye</td>\n      <td>8.7</td>\n      <td>The Maid</td>\n      <td>7.9</td>\n    </tr>\n    <tr>\n      <th>1</th>\n      <td>David Owen Trainor</td>\n      <td>The Comeback</td>\n      <td>8.7</td>\n      <td>The Secretary</td>\n      <td>8.1</td>\n    </tr>\n    <tr>\n      <th>2</th>\n      <td>David Steinberg</td>\n      <td>The Tape</td>\n      <td>8.6</td>\n      <td>The Truth</td>\n      <td>7.8</td>\n    </tr>\n    <tr>\n      <th>3</th>\n      <td>Jason Alexander</td>\n      <td>The Good Samaritan</td>\n      <td>8.1</td>\n      <td>The Good Samaritan</td>\n      <td>8.1</td>\n    </tr>\n    <tr>\n      <th>4</th>\n      <td>Joshua White</td>\n      <td>The Library</td>\n      <td>8.7</td>\n      <td>The Library</td>\n      <td>8.7</td>\n    </tr>\n    <tr>\n      <th>5</th>\n      <td>Tom Cherones</td>\n      <td>The Chinese Restaurant</td>\n      <td>8.7</td>\n      <td>The Dog</td>\n      <td>7.3</td>\n    </tr>\n  </tbody>\n</table>\n</div>"
     },
     "metadata": {}
    }
   ],
   "source": [
    "# doing same with DF\n",
    "# not optimal implementation\n",
    "# merge episodes and ratings and together\n",
    "merged_df = pd.merge(episodes_df2[['Title', 'Director']], ratings_df2[['Title', 'Rating']], how='right', on='Title')\n",
    "#print ('--- merged df ---'); display(merged_df.head(3))\n",
    "\n",
    "# get min and max indexes into this table for each director. \n",
    "# this index is into merged_df\n",
    "# idxmin() get ID witih min value.\n",
    "min_idx = merged_df.groupby(['Director'])[['Rating']].idxmin().reset_index()\n",
    "max_idx = merged_df.groupby(['Director'])[['Rating']].idxmax().reset_index()\n",
    "min_idx.columns = ['DIRECTOR', 'MIN_IDX']\n",
    "max_idx.columns = ['DIRECTOR', 'MAX_IDX']\n",
    "# merge them both \n",
    "result_df = pd.merge(max_idx.reset_index(drop=True), min_idx.reset_index(drop=True))\n",
    "#print ('-- MinMax Index'); display(result_df)\n",
    "\n",
    "# Now get the title and rating for each of the index from merged_df.\n",
    "result_df[['MAX_TITLE', 'MAX_RATING']] = result_df['MAX_IDX'].apply (lambda x : merged_df.loc[x][['Title', 'Rating']])\n",
    "result_df[['MIN_TITLE', 'MIN_RATING']] = result_df['MIN_IDX'].apply (lambda x : merged_df.loc[x][['Title', 'Rating']])\n",
    "# drop unwanted columns\n",
    "result_df = result_df.drop(['MIN_IDX', 'MAX_IDX'], axis = 1)\n",
    "display(result_df)\n"
   ]
  },
  {
   "cell_type": "code",
   "execution_count": 27,
   "metadata": {},
   "outputs": [],
   "source": [
    "# cleanup\n",
    "cursor.close()\n",
    "conn.close()"
   ]
  },
  {
   "cell_type": "code",
   "execution_count": null,
   "metadata": {},
   "outputs": [],
   "source": []
  }
 ],
 "metadata": {
  "kernelspec": {
   "name": "python3",
   "display_name": "Python 3",
   "language": "python"
  },
  "language_info": {
   "codemirror_mode": {
    "name": "ipython",
    "version": 3
   },
   "file_extension": ".py",
   "mimetype": "text/x-python",
   "name": "python",
   "nbconvert_exporter": "python",
   "pygments_lexer": "ipython3",
   "version": "3.8.5"
  }
 },
 "nbformat": 4,
 "nbformat_minor": 5
}