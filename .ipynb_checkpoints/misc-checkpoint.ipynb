{
 "cells": [
  {
   "cell_type": "code",
   "execution_count": null,
   "id": "desirable-mixer",
   "metadata": {},
   "outputs": [],
   "source": [
    "# checkout vars\n",
    "import pandas as pd\n",
    "import numpy as np\n",
    "def cout (x, s=''):\n",
    "    t = type(x)\n",
    "    #print (t)\n",
    "    if isinstance (x, (str, int, float)):\n",
    "        print (f'cout(s): {s} <{type(x)}> : {x}')\n",
    "    elif isinstance (x, (list, pd.Series, np.ndarray) ) :\n",
    "        print (f'cout(l): {s} <{type(x)}> ({len(x)}) : {x[:10] ...}')\n",
    "    else: \n",
    "        print (f'cout(?): {s} <{type(x)}>')"
   ]
  }
 ],
 "metadata": {
  "kernelspec": {
   "display_name": "Python 3",
   "language": "python",
   "name": "python3"
  },
  "language_info": {
   "codemirror_mode": {
    "name": "ipython",
    "version": 3
   },
   "file_extension": ".py",
   "mimetype": "text/x-python",
   "name": "python",
   "nbconvert_exporter": "python",
   "pygments_lexer": "ipython3",
   "version": "3.8.5"
  }
 },
 "nbformat": 4,
 "nbformat_minor": 5
}
