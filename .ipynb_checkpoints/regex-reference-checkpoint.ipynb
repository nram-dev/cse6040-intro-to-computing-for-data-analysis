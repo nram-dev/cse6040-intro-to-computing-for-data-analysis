{
 "cells": [
  {
   "cell_type": "code",
   "execution_count": 1,
   "metadata": {},
   "outputs": [
    {
     "name": "stdout",
     "output_type": "stream",
     "text": [
      "String helloworld with length 10 and type <class 'str'>\n",
      "the sting is helloworld with length 10\n",
      "len(helloworld) = 10\n",
      "ell\n",
      "world\n",
      "hello\n",
      "loo\n",
      "lool\n",
      "ld\n",
      "hellowor\n",
      "or\n",
      "world\n"
     ]
    }
   ],
   "source": [
    "s = \"helloworld\"\n",
    "# printing\n",
    "print(\"String {S} with length {L} and type {T}\".format(S=s, L=len(s), T=type(s)))\n",
    "print(f'the sting is {s} with length {len(s)}')\n",
    "print('len({}) = {}'.format(s, len(s)))\n",
    "\n",
    "# substr\n",
    "print(s[1:4])\n",
    "print(s[5:])\n",
    "print(s[:5])\n",
    "print(s[2:8:2])\n",
    "print(s[2::2])\n",
    "print(s[-2:])\n",
    "print(s[:-2])\n",
    "print(s[-4:-2])\n",
    "print(s[-5:])"
   ]
  },
  {
   "cell_type": "code",
   "execution_count": 2,
   "metadata": {},
   "outputs": [
    {
     "name": "stdout",
     "output_type": "stream",
     "text": [
      "{'hello'}\n",
      "h\n",
      "l\n",
      "e\n",
      "o\n"
     ]
    }
   ],
   "source": [
    "a = \"hello\"\n",
    "ase = { a }\n",
    "print (ase)\n",
    "for i in set(a):\n",
    "    print (i)"
   ]
  },
  {
   "cell_type": "code",
   "execution_count": 3,
   "metadata": {},
   "outputs": [
    {
     "data": {
      "text/plain": [
       "'llo'"
      ]
     },
     "execution_count": 3,
     "metadata": {},
     "output_type": "execute_result"
    }
   ],
   "source": [
    "a[-3:]"
   ]
  },
  {
   "cell_type": "code",
   "execution_count": 4,
   "metadata": {},
   "outputs": [
    {
     "data": {
      "text/plain": [
       "'111110000'"
      ]
     },
     "execution_count": 4,
     "metadata": {},
     "output_type": "execute_result"
    }
   ],
   "source": [
    "import re\n",
    "b = bin(int(\"1F0\", base=16))[2:] # float not working.\n",
    "s = b.rjust(16,'0')\n",
    "re.sub('^[0]+', '', s)"
   ]
  },
  {
   "cell_type": "code",
   "execution_count": 5,
   "metadata": {},
   "outputs": [
    {
     "data": {
      "text/plain": [
       "'000000000000000000000000000000000000001100'"
      ]
     },
     "execution_count": 5,
     "metadata": {},
     "output_type": "execute_result"
    }
   ],
   "source": [
    "h = 12\n",
    "format(h, '0>42b')"
   ]
  },
  {
   "cell_type": "code",
   "execution_count": 6,
   "metadata": {},
   "outputs": [
    {
     "name": "stdout",
     "output_type": "stream",
     "text": [
      "<re.Match object; span=(0, 11), match='123-45-6789'>\n",
      "123-45-6789 is ssn\n"
     ]
    }
   ],
   "source": [
    "import re\n",
    "s = '123-45-6789'\n",
    "r = re.search('\\d{3}-\\d{2}-\\d{4}',s)\n",
    "print (r)\n",
    "if r:\n",
    "    print (f\"{s} is ssn\")\n",
    "else:\n",
    "    print (f\"{s} is not a ssn\")"
   ]
  },
  {
   "cell_type": "code",
   "execution_count": 7,
   "metadata": {},
   "outputs": [
    {
     "name": "stdout",
     "output_type": "stream",
     "text": [
      "<re.Match object; span=(0, 11), match='123-45-7890'>\n",
      "None\n"
     ]
    }
   ],
   "source": [
    "# use re.compile to use it against other strings\n",
    "rc = re.compile('\\d{3}-\\d{2}-\\d{4}')\n",
    "print(rc.match('123-45-7890'))\n",
    "print(rc.match('1234567890'))"
   ]
  },
  {
   "cell_type": "code",
   "execution_count": 8,
   "metadata": {},
   "outputs": [
    {
     "name": "stdout",
     "output_type": "stream",
     "text": [
      "group0 (all): 123-45-6789 1: 123 2:45\n",
      "group span: (0, 11)\n"
     ]
    }
   ],
   "source": [
    "rc = re.compile('(\\d{3})-(\\d{2})-(\\d{4})')\n",
    "m = rc.match('123-45-6789')\n",
    "print(f\"group0 (all): {m.group(0)} 1: {m.group(1)} 2:{m.group(2)}\")\n",
    "print (f'group span: {m.span()}')"
   ]
  },
  {
   "cell_type": "code",
   "execution_count": 9,
   "metadata": {},
   "outputs": [
    {
     "name": "stdout",
     "output_type": "stream",
     "text": [
      "month: Feb date: 08 year: 2021\n"
     ]
    }
   ],
   "source": [
    "rc = re.compile('(?P<mon>[a-zA-Z]{3})-(?P<date>\\d{2})-(?P<year>\\d{4})')\n",
    "m = rc.match('Feb-08-2021')\n",
    "print ('month: {} date: {} year: {}'.format(m.group('mon'), m.group('date'), m.group('year')))"
   ]
  },
  {
   "cell_type": "code",
   "execution_count": 10,
   "metadata": {},
   "outputs": [
    {
     "name": "stdout",
     "output_type": "stream",
     "text": [
      "search <re.Match object; span=(15, 18), match='day'>\n",
      "findall ['day', 'day', 'day']\n",
      "iter\n",
      "<re.Match object; span=(15, 18), match='day'>\n",
      "<re.Match object; span=(29, 32), match='day'>\n",
      "<re.Match object; span=(48, 51), match='day'>\n"
     ]
    }
   ],
   "source": [
    "s = 'What a Day?. Today is a good day to have a birthday'\n",
    "rs = re.search('day', s)\n",
    "print ('search', rs)\n",
    "print ('findall', re.findall('day', s))\n",
    "print ('iter')\n",
    "for s in re.finditer('day', s):\n",
    "    print (s)"
   ]
  },
  {
   "cell_type": "code",
   "execution_count": 11,
   "metadata": {},
   "outputs": [
    {
     "data": {
      "text/plain": [
       "('nram123', 'nra-m.dev')"
      ]
     },
     "execution_count": 11,
     "metadata": {},
     "output_type": "execute_result"
    }
   ],
   "source": [
    "    s = 'NRAM123@nra-m.dev'\n",
    "    s = s.lower()\n",
    "    rc = re.compile(r'''^([a-z]\\w+)@([\\w\\-\\.]+)''')\n",
    "    rs = rc.match(s)\n",
    "    rs.groups()"
   ]
  },
  {
   "cell_type": "code",
   "execution_count": 12,
   "metadata": {},
   "outputs": [
    {
     "name": "stdout",
     "output_type": "stream",
     "text": [
      "nram123 nra-m.dev ('nram123', 'nra-m.dev')\n"
     ]
    }
   ],
   "source": [
    "print(rs.group(1), rs.group(2), rs.groups())"
   ]
  },
  {
   "cell_type": "code",
   "execution_count": 13,
   "metadata": {},
   "outputs": [
    {
     "name": "stdout",
     "output_type": "stream",
     "text": [
      "found 12 at (0, 2)\n",
      "found 11 at (22, 24)\n",
      "found 10 at (29, 31)\n",
      "found 9 at (35, 36)\n",
      "found 0 at (41, 42)\n"
     ]
    }
   ],
   "source": [
    "# r'' here is RAW. Otherwise \\d will be \"\\\\d\"\n",
    "rc = re.compile(r'\\d+')\n",
    "it  = rc.finditer('12 drummers drumming, 11 ... 10 ...9 and 0')\n",
    "for i in it:\n",
    "    print(f'found {i.group()} at {i.span()}')"
   ]
  },
  {
   "cell_type": "code",
   "execution_count": 14,
   "metadata": {},
   "outputs": [
    {
     "name": "stdout",
     "output_type": "stream",
     "text": [
      "['Hello', 'HELLO', 'hello']\n"
     ]
    }
   ],
   "source": [
    "rc = re.compile('hello', re.I) # or re.IGNORECASE\n",
    "s = rc.findall('Hello there, HELLO hello')\n",
    "print(s)"
   ]
  },
  {
   "cell_type": "code",
   "execution_count": 15,
   "metadata": {},
   "outputs": [
    {
     "name": "stdout",
     "output_type": "stream",
     "text": [
      "['This', 'is', 'a', 'test', 'short', 'and', 'sweet', 'of', 'split', '']\n",
      "This-is-a-test-short-and-sweet-of-split-\n"
     ]
    }
   ],
   "source": [
    "# split\n",
    "p = re.compile(r'\\W+')\n",
    "s = 'This is a test, short and sweet, of split().'\n",
    "a = p.split(s)\n",
    "print(a)\n",
    "b = p.sub('-', s)\n",
    "print (b)\n"
   ]
  },
  {
   "cell_type": "code",
   "execution_count": 16,
   "metadata": {},
   "outputs": [
    {
     "name": "stdout",
     "output_type": "stream",
     "text": [
      "ThIS IS a test, short and sweet, of split().\n"
     ]
    }
   ],
   "source": [
    "# use s.replace instead of re.sub for fixed char substitutions\n",
    "s = 'This is a test, short and sweet, of split().'\n",
    "print(s.replace('is', 'IS'))\n",
    "#print(s.translate(' ','='))"
   ]
  },
  {
   "cell_type": "code",
   "execution_count": 17,
   "metadata": {},
   "outputs": [
    {
     "name": "stdout",
     "output_type": "stream",
     "text": [
      "['This', 'is', 'a', 'test,', 'short', 'and', 'sweet,', 'of', 'split().']\n",
      "['This is a ', 'es', ', shor', ' and swee', ', of spli', '().']\n"
     ]
    }
   ],
   "source": [
    "# likewise use str.split() for fixed delimiters\n",
    "s = 'This is a test, short and sweet, of split().'\n",
    "print(s.split()) \n",
    "print(s.split('t'))"
   ]
  },
  {
   "cell_type": "code",
   "execution_count": 18,
   "metadata": {},
   "outputs": [
    {
     "name": "stdout",
     "output_type": "stream",
     "text": [
      "(732) 123-4567 <re.Match object; span=(0, 14), match='(732) 123-4567'>\n",
      "  (732)123  - 1111 <re.Match object; span=(0, 18), match='  (732)123  - 1111'>\n",
      "1234567890 None\n"
     ]
    }
   ],
   "source": [
    "import re\n",
    "def parse_phone(s):\n",
    "    #print (f'got {s}')\n",
    "    p = re.compile('^\\s*\\((\\d{3})\\)\\s*(\\d{3})\\s*-\\s*(\\d{4})')\n",
    "    it = p.match(s)\n",
    "    return (it)\n",
    "        \n",
    "for s in ['(732) 123-4567', '  (732)123  - 1111', '1234567890']:\n",
    "    print(s, parse_phone(s))\n"
   ]
  },
  {
   "cell_type": "code",
   "execution_count": 19,
   "metadata": {},
   "outputs": [
    {
     "name": "stdout",
     "output_type": "stream",
     "text": [
      "-1\n"
     ]
    }
   ],
   "source": [
    "s = '732 123 4567'\n",
    "print (s.find('('))"
   ]
  },
  {
   "cell_type": "code",
   "execution_count": null,
   "metadata": {},
   "outputs": [],
   "source": []
  }
 ],
 "metadata": {
  "kernelspec": {
   "display_name": "Python 3",
   "language": "python",
   "name": "python3"
  },
  "language_info": {
   "codemirror_mode": {
    "name": "ipython",
    "version": 3
   },
   "file_extension": ".py",
   "mimetype": "text/x-python",
   "name": "python",
   "nbconvert_exporter": "python",
   "pygments_lexer": "ipython3",
   "version": "3.8.5"
  }
 },
 "nbformat": 4,
 "nbformat_minor": 2
}
