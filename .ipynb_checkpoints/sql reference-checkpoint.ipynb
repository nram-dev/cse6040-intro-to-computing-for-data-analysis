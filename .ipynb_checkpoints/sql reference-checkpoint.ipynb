{
 "cells": [
  {
   "cell_type": "markdown",
   "id": "usual-shoulder",
   "metadata": {},
   "source": [
    "# SQL Lite "
   ]
  },
  {
   "cell_type": "code",
   "execution_count": 28,
   "id": "diverse-booth",
   "metadata": {},
   "outputs": [],
   "source": [
    "import pandas as pd\n",
    "import numpy as np\n",
    "import sqlite3"
   ]
  },
  {
   "cell_type": "code",
   "execution_count": 34,
   "id": "beginning-vocabulary",
   "metadata": {},
   "outputs": [
    {
     "data": {
      "text/html": [
       "<div>\n",
       "<style scoped>\n",
       "    .dataframe tbody tr th:only-of-type {\n",
       "        vertical-align: middle;\n",
       "    }\n",
       "\n",
       "    .dataframe tbody tr th {\n",
       "        vertical-align: top;\n",
       "    }\n",
       "\n",
       "    .dataframe thead th {\n",
       "        text-align: right;\n",
       "    }\n",
       "</style>\n",
       "<table border=\"1\" class=\"dataframe\">\n",
       "  <thead>\n",
       "    <tr style=\"text-align: right;\">\n",
       "      <th></th>\n",
       "      <th>Season</th>\n",
       "      <th>Episode</th>\n",
       "      <th>Title</th>\n",
       "      <th>Rating</th>\n",
       "      <th>Votes</th>\n",
       "    </tr>\n",
       "  </thead>\n",
       "  <tbody>\n",
       "    <tr>\n",
       "      <th>0</th>\n",
       "      <td>1</td>\n",
       "      <td>2</td>\n",
       "      <td>The Stakeout</td>\n",
       "      <td>7.8</td>\n",
       "      <td>649</td>\n",
       "    </tr>\n",
       "    <tr>\n",
       "      <th>1</th>\n",
       "      <td>1</td>\n",
       "      <td>3</td>\n",
       "      <td>The Robbery</td>\n",
       "      <td>7.7</td>\n",
       "      <td>565</td>\n",
       "    </tr>\n",
       "    <tr>\n",
       "      <th>2</th>\n",
       "      <td>1</td>\n",
       "      <td>4</td>\n",
       "      <td>Male Unbonding</td>\n",
       "      <td>7.6</td>\n",
       "      <td>561</td>\n",
       "    </tr>\n",
       "  </tbody>\n",
       "</table>\n",
       "</div>"
      ],
      "text/plain": [
       "   Season  Episode           Title  Rating  Votes\n",
       "0       1        2    The Stakeout     7.8    649\n",
       "1       1        3     The Robbery     7.7    565\n",
       "2       1        4  Male Unbonding     7.6    561"
      ]
     },
     "metadata": {},
     "output_type": "display_data"
    }
   ],
   "source": [
    "ratings_file = '~/Dropbox/data/seinfeld/ratings.csv'\n",
    "ratings_df = pd.read_csv(ratings_file)\n",
    "display(ratings_df.head(3))\n",
    "\n",
    "episodes_file = '~/Dropbox/data/seinfeld/episodes.csv'\n",
    "episodes_df = pd.read_csv(episodes)\n",
    "display(episode_df.head(3))"
   ]
  },
  {
   "cell_type": "code",
   "execution_count": 35,
   "id": "rubber-patrick",
   "metadata": {},
   "outputs": [
    {
     "name": "stdout",
     "output_type": "stream",
     "text": [
      "table ratings in database seinfeld.db created\n"
     ]
    }
   ],
   "source": [
    "# create table\n",
    "\n",
    "sql = ''' create table ratings\n",
    "(SEASON INTEGER,\n",
    " EPISODE INTEGER,\n",
    " TITLE TEXT,\n",
    " RATING REAL,\n",
    " VORES INTEGER);\n",
    "'''\n",
    "\n",
    "seindb = 'seinfeld.db'\n",
    "\n",
    "conn = sqlite3.connect(seindb)\n",
    "c = conn.cursor()\n",
    "c.execute(\"DROP TABLE IF EXISTS ratings\")\n",
    "\n",
    "conn.execute(sql)\n",
    "conn.commit()\n",
    "print (f'table ratings in database {seindb} created')"
   ]
  },
  {
   "cell_type": "code",
   "execution_count": 31,
   "id": "greatest-simple",
   "metadata": {},
   "outputs": [
    {
     "name": "stdout",
     "output_type": "stream",
     "text": [
      "adding 172 records\n"
     ]
    }
   ],
   "source": [
    "# insert entries\n",
    "seindata = seindf.values\n",
    "print (f'adding {len(seindata)} records')\n",
    "sql = 'INSERT INTO ratings VALUES (?, ?, ?, ?, ?)'\n",
    "conn.executemany(sql, seindata)\n",
    "conn.commit()\n"
   ]
  },
  {
   "cell_type": "code",
   "execution_count": 32,
   "id": "opposite-durham",
   "metadata": {},
   "outputs": [
    {
     "name": "stdout",
     "output_type": "stream",
     "text": [
      "0 (1, 2, 'The Stakeout', 7.8, 649)\n",
      "1 (1, 3, 'The Robbery', 7.7, 565)\n",
      "2 (1, 4, 'Male Unbonding', 7.6, 561)\n",
      "3 (1, 5, 'The Stock Tip', 7.8, 541)\n",
      "4 (2, 1, 'The Ex-Girlfriend', 7.7, 529)\n",
      "5 (2, 1, 'The Statue', 8.1, 509)\n",
      "6 (2, 11, 'The Heart Attack', 8.0, 512)\n",
      "7 (2, 12, 'The Revenge', 8.4, 497)\n",
      "8 (2, 13, 'The Deal', 8.3, 515)\n",
      "9 (2, 2, 'The Pony Remark', 8.0, 573)\n"
     ]
    }
   ],
   "source": [
    "# reading from db - limit 10 rows\n",
    "cursor = conn.execute('select * from ratings limit 10')\n",
    "for n, row in enumerate(cursor):\n",
    "        print(n, row)\n"
   ]
  },
  {
   "cell_type": "code",
   "execution_count": 33,
   "id": "mighty-tobacco",
   "metadata": {},
   "outputs": [
    {
     "data": {
      "text/html": [
       "<div>\n",
       "<style scoped>\n",
       "    .dataframe tbody tr th:only-of-type {\n",
       "        vertical-align: middle;\n",
       "    }\n",
       "\n",
       "    .dataframe tbody tr th {\n",
       "        vertical-align: top;\n",
       "    }\n",
       "\n",
       "    .dataframe thead th {\n",
       "        text-align: right;\n",
       "    }\n",
       "</style>\n",
       "<table border=\"1\" class=\"dataframe\">\n",
       "  <thead>\n",
       "    <tr style=\"text-align: right;\">\n",
       "      <th></th>\n",
       "      <th>SEASON</th>\n",
       "      <th>EPISODE</th>\n",
       "      <th>TITLE</th>\n",
       "      <th>RATING</th>\n",
       "      <th>VORES</th>\n",
       "    </tr>\n",
       "  </thead>\n",
       "  <tbody>\n",
       "    <tr>\n",
       "      <th>0</th>\n",
       "      <td>2</td>\n",
       "      <td>1</td>\n",
       "      <td>The Statue</td>\n",
       "      <td>8.1</td>\n",
       "      <td>509</td>\n",
       "    </tr>\n",
       "    <tr>\n",
       "      <th>1</th>\n",
       "      <td>2</td>\n",
       "      <td>12</td>\n",
       "      <td>The Revenge</td>\n",
       "      <td>8.4</td>\n",
       "      <td>497</td>\n",
       "    </tr>\n",
       "    <tr>\n",
       "      <th>2</th>\n",
       "      <td>2</td>\n",
       "      <td>13</td>\n",
       "      <td>The Deal</td>\n",
       "      <td>8.3</td>\n",
       "      <td>515</td>\n",
       "    </tr>\n",
       "  </tbody>\n",
       "</table>\n",
       "</div>"
      ],
      "text/plain": [
       "   SEASON  EPISODE        TITLE  RATING  VORES\n",
       "0       2        1   The Statue     8.1    509\n",
       "1       2       12  The Revenge     8.4    497\n",
       "2       2       13     The Deal     8.3    515"
      ]
     },
     "execution_count": 33,
     "metadata": {},
     "output_type": "execute_result"
    }
   ],
   "source": [
    "# read into DF - using where \n",
    "df = pd.read_sql_query(\"SELECT * from ratings where rating > 8\", conn)\n",
    "df.head(3)"
   ]
  },
  {
   "cell_type": "code",
   "execution_count": null,
   "id": "flush-luther",
   "metadata": {},
   "outputs": [],
   "source": []
  }
 ],
 "metadata": {
  "kernelspec": {
   "display_name": "Python 3",
   "language": "python",
   "name": "python3"
  },
  "language_info": {
   "codemirror_mode": {
    "name": "ipython",
    "version": 3
   },
   "file_extension": ".py",
   "mimetype": "text/x-python",
   "name": "python",
   "nbconvert_exporter": "python",
   "pygments_lexer": "ipython3",
   "version": "3.8.5"
  }
 },
 "nbformat": 4,
 "nbformat_minor": 5
}
